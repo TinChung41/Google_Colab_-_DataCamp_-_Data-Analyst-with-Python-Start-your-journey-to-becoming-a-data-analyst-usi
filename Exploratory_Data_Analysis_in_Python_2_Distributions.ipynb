{
  "cells": [
    {
      "attachments": {},
      "cell_type": "markdown",
      "metadata": {},
      "source": [
        "For gg colab run"
      ]
    },
    {
      "cell_type": "code",
      "execution_count": 9,
      "metadata": {
        "colab": {
          "base_uri": "https://localhost:8080/"
        },
        "id": "Xsejp6-ffAbW",
        "outputId": "8feedbac-b219-41c8-c465-b46c2a6f3458"
      },
      "outputs": [],
      "source": [
        "\n",
        "# * from google.colab import drive\n",
        "# * drive.mount('/content/drive')"
      ]
    },
    {
      "cell_type": "code",
      "execution_count": 10,
      "metadata": {
        "id": "vbB2Glk0q1No"
      },
      "outputs": [],
      "source": [
        "import numpy as np\n",
        "import pandas as pd\n",
        "import matplotlib.pyplot as plt\n",
        "from scipy.stats import binom\n",
        "\n"
      ]
    },
    {
      "cell_type": "code",
      "execution_count": 11,
      "metadata": {},
      "outputs": [
        {
          "data": {
            "text/plain": [
              "0.8099954591857063"
            ]
          },
          "execution_count": 11,
          "metadata": {},
          "output_type": "execute_result"
        }
      ],
      "source": [
        "skin_float = [0.5282791852951050, 0.6390412449836731,0.5880058407783508,  0.8973041176795959,  0.9478308558464050, 0.9310206770896912, 0.8079444169998169, 0.9569883346557617,0.9935444593429565]\n",
        "skin_float = np.array(skin_float)\n",
        "skin_float.mean().round(17)"
      ]
    },
    {
      "attachments": {},
      "cell_type": "markdown",
      "metadata": {
        "id": "eiOSlO9TbRNR"
      },
      "source": [
        "#2 Distributions\n",
        "\n",
        "dataset: [GSS](https://www.google.com/url?sa=t&rct=j&q=&esrc=s&source=web&cd=&cad=rja&uact=8&ved=2ahUKEwjF_cnpteX8AhVlm1YBHdBWD3IQFnoECAwQAQ&url=https%3A%2F%2Fgss.norc.org%2F&usg=AOvVaw1yp3I753i-Z5qjxBbaIpYK)\n",
        "\n",
        "GSS: General Social Survey\n",
        "* Annual sample of U.S. population.\n",
        "* Asks about demographics, social and political beliefs.\n",
        "* Widely used by policy makers and researchers."
      ]
    },
    {
      "attachments": {},
      "cell_type": "markdown",
      "metadata": {},
      "source": [
        "For local VScode run"
      ]
    },
    {
      "cell_type": "code",
      "execution_count": 12,
      "metadata": {
        "colab": {
          "base_uri": "https://localhost:8080/",
          "height": 206
        },
        "id": "7wDqfRtvfOYg",
        "outputId": "d959ebdd-1ffc-48ca-ca5a-fc8ec0d975db"
      },
      "outputs": [
        {
          "data": {
            "text/html": [
              "<div>\n",
              "<style scoped>\n",
              "    .dataframe tbody tr th:only-of-type {\n",
              "        vertical-align: middle;\n",
              "    }\n",
              "\n",
              "    .dataframe tbody tr th {\n",
              "        vertical-align: top;\n",
              "    }\n",
              "\n",
              "    .dataframe thead th {\n",
              "        text-align: right;\n",
              "    }\n",
              "</style>\n",
              "<table border=\"1\" class=\"dataframe\">\n",
              "  <thead>\n",
              "    <tr style=\"text-align: right;\">\n",
              "      <th></th>\n",
              "      <th>year</th>\n",
              "      <th>age</th>\n",
              "      <th>cohort</th>\n",
              "      <th>sex</th>\n",
              "      <th>race</th>\n",
              "      <th>educ</th>\n",
              "      <th>realinc</th>\n",
              "      <th>gunlaw</th>\n",
              "      <th>grass</th>\n",
              "      <th>wtssall</th>\n",
              "    </tr>\n",
              "  </thead>\n",
              "  <tbody>\n",
              "    <tr>\n",
              "      <th>0</th>\n",
              "      <td>1972</td>\n",
              "      <td>26.0</td>\n",
              "      <td>1946.0</td>\n",
              "      <td>1</td>\n",
              "      <td>1</td>\n",
              "      <td>18.0</td>\n",
              "      <td>13537.0</td>\n",
              "      <td>2.0</td>\n",
              "      <td>NaN</td>\n",
              "      <td>0.8893</td>\n",
              "    </tr>\n",
              "    <tr>\n",
              "      <th>1</th>\n",
              "      <td>1972</td>\n",
              "      <td>38.0</td>\n",
              "      <td>1934.0</td>\n",
              "      <td>2</td>\n",
              "      <td>1</td>\n",
              "      <td>12.0</td>\n",
              "      <td>18951.0</td>\n",
              "      <td>1.0</td>\n",
              "      <td>NaN</td>\n",
              "      <td>0.4446</td>\n",
              "    </tr>\n",
              "    <tr>\n",
              "      <th>2</th>\n",
              "      <td>1972</td>\n",
              "      <td>57.0</td>\n",
              "      <td>1915.0</td>\n",
              "      <td>1</td>\n",
              "      <td>1</td>\n",
              "      <td>12.0</td>\n",
              "      <td>30458.0</td>\n",
              "      <td>1.0</td>\n",
              "      <td>NaN</td>\n",
              "      <td>1.3339</td>\n",
              "    </tr>\n",
              "    <tr>\n",
              "      <th>3</th>\n",
              "      <td>1972</td>\n",
              "      <td>61.0</td>\n",
              "      <td>1911.0</td>\n",
              "      <td>2</td>\n",
              "      <td>1</td>\n",
              "      <td>14.0</td>\n",
              "      <td>37226.0</td>\n",
              "      <td>1.0</td>\n",
              "      <td>NaN</td>\n",
              "      <td>0.8893</td>\n",
              "    </tr>\n",
              "    <tr>\n",
              "      <th>4</th>\n",
              "      <td>1972</td>\n",
              "      <td>59.0</td>\n",
              "      <td>1913.0</td>\n",
              "      <td>1</td>\n",
              "      <td>1</td>\n",
              "      <td>12.0</td>\n",
              "      <td>30458.0</td>\n",
              "      <td>2.0</td>\n",
              "      <td>NaN</td>\n",
              "      <td>0.8893</td>\n",
              "    </tr>\n",
              "  </tbody>\n",
              "</table>\n",
              "</div>"
            ],
            "text/plain": [
              "   year   age  cohort  sex  race  educ  realinc  gunlaw  grass  wtssall\n",
              "0  1972  26.0  1946.0    1     1  18.0  13537.0     2.0    NaN   0.8893\n",
              "1  1972  38.0  1934.0    2     1  12.0  18951.0     1.0    NaN   0.4446\n",
              "2  1972  57.0  1915.0    1     1  12.0  30458.0     1.0    NaN   1.3339\n",
              "3  1972  61.0  1911.0    2     1  14.0  37226.0     1.0    NaN   0.8893\n",
              "4  1972  59.0  1913.0    1     1  12.0  30458.0     2.0    NaN   0.8893"
            ]
          },
          "execution_count": 12,
          "metadata": {},
          "output_type": "execute_result"
        }
      ],
      "source": [
        "#gss = pd.read_hdf('/content/drive/MyDrive/DataCamp and Linkedin Learning/CAREER TRACK Data Analyst with Python/Dataset/Exploratory Data Analysis in Python/gss.hdf5','gss')\n",
        "gss = pd.read_hdf(r'D:\\sem 2 year 3\\DataCamp\\Dataset\\New folder\\Google_Colab_DataCamp_Data_Analyst\\Dataset_Exploratory Data Analysis in Python\\gss.hdf5'\n",
        ",'gss')\n",
        "\n",
        "gss.head()"
      ]
    },
    {
      "cell_type": "markdown",
      "metadata": {
        "id": "t-wO9kkLedG6"
      },
      "source": [
        "##Probability mass functions"
      ]
    },
    {
      "cell_type": "markdown",
      "metadata": {
        "id": "D9PjGogslNUB"
      },
      "source": [
        "Distribution of `educ` :which records the number of years of education for each respondent. "
      ]
    },
    {
      "cell_type": "code",
      "execution_count": 13,
      "metadata": {
        "colab": {
          "base_uri": "https://localhost:8080/",
          "height": 265
        },
        "id": "eegmL-SubDjE",
        "outputId": "e7331b05-9063-4394-dbff-9a48a0232580"
      },
      "outputs": [
        {
          "data": {
            "image/png": "[encoded data removed]",
            "text/plain": [
              "<Figure size 432x288 with 1 Axes>"
            ]
          },
          "metadata": {
            "needs_background": "light"
          },
          "output_type": "display_data"
        }
      ],
      "source": [
        "educ = gss['educ']\n",
        "plt.hist(educ.dropna(), label = 'educ')\n",
        "plt.show()"
      ]
    },
    {
      "cell_type": "markdown",
      "metadata": {
        "id": "6e93L1l8w7S5"
      },
      "source": [
        "Như thấy ở trên Histogram không phải cách lý tưởng để visualize\n",
        "##PMF: probability mass function\n",
        "\n",
        "Show unique value in the dataset and how often they appear"
      ]
    },
    {
      "cell_type": "markdown",
      "metadata": {
        "id": "Jqaq8b1xyK3Y"
      },
      "source": [
        "**Đây là 1 cái class tự viết dựa trên pandas nên không nằm trong thư viện nào**\n",
        "\n",
        "Hình như là trên phần 1 có nên quay lại và xoá dòng này"
      ]
    },
    {
      "cell_type": "code",
      "execution_count": 14,
      "metadata": {},
      "outputs": [],
      "source": [
        "from empiricaldist import Pmf"
      ]
    },
    {
      "cell_type": "code",
      "execution_count": 18,
      "metadata": {
        "colab": {
          "base_uri": "https://localhost:8080/",
          "height": 183
        },
        "id": "NA1e22g1xVZu",
        "outputId": "345c0abb-3f84-4cf1-802e-ecbfae067a60"
      },
      "outputs": [
        {
          "data": {
            "text/html": [
              "<div>\n",
              "<style scoped>\n",
              "    .dataframe tbody tr th:only-of-type {\n",
              "        vertical-align: middle;\n",
              "    }\n",
              "\n",
              "    .dataframe tbody tr th {\n",
              "        vertical-align: top;\n",
              "    }\n",
              "\n",
              "    .dataframe thead th {\n",
              "        text-align: right;\n",
              "    }\n",
              "</style>\n",
              "<table border=\"1\" class=\"dataframe\">\n",
              "  <thead>\n",
              "    <tr style=\"text-align: right;\">\n",
              "      <th></th>\n",
              "      <th>probs</th>\n",
              "    </tr>\n",
              "  </thead>\n",
              "  <tbody>\n",
              "    <tr>\n",
              "      <th>0.0</th>\n",
              "      <td>144</td>\n",
              "    </tr>\n",
              "    <tr>\n",
              "      <th>1.0</th>\n",
              "      <td>38</td>\n",
              "    </tr>\n",
              "    <tr>\n",
              "      <th>2.0</th>\n",
              "      <td>151</td>\n",
              "    </tr>\n",
              "  </tbody>\n",
              "</table>\n",
              "</div>"
            ],
            "text/plain": [
              "0.0    144\n",
              "1.0     38\n",
              "2.0    151\n",
              "Name: , dtype: int64"
            ]
          },
          "execution_count": 18,
          "metadata": {},
          "output_type": "execute_result"
        }
      ],
      "source": [
        "#Provided in 1.Read, clean, and validate\n",
        "pmf_educ = Pmf.from_seq(educ, normalize=False)  #1 arg take any kind of sequence, normalize = T/F \n",
        "pmf_educ.head()"
      ]
    },
    {
      "cell_type": "code",
      "execution_count": null,
      "metadata": {},
      "outputs": [],
      "source": [
        "pmf_educ.bar(label= 'educ') #bar chart in the Pmf class\n",
        "plt.xlabel('Years of education')\n",
        "plt.ylabel('PMF')\n",
        "plt.show()\n",
        "\n"
      ]
    },
    {
      "cell_type": "code",
      "execution_count": 19,
      "metadata": {},
      "outputs": [],
      "source": [
        "from empiricaldist import Cdf\n"
      ]
    },
    {
      "cell_type": "code",
      "execution_count": null,
      "metadata": {},
      "outputs": [],
      "source": [
        "cdf = Cdf(gss['age'])\n",
        "cdf.plot()\n",
        "plt.xlabel('Age')\n",
        "plt.ylabel('CDF')\n",
        "plt.show()"
      ]
    }
  ],
  "metadata": {
    "colab": {
      "provenance": [],
      "toc_visible": true
    },
    "kernelspec": {
      "display_name": "Python 3",
      "language": "python",
      "name": "python3"
    },
    "language_info": {
      "codemirror_mode": {
        "name": "ipython",
        "version": 3
      },
      "file_extension": ".py",
      "mimetype": "text/x-python",
      "name": "python",
      "nbconvert_exporter": "python",
      "pygments_lexer": "ipython3",
      "version": "3.9.9"
    },
    "vscode": {
      "interpreter": {
        "hash": "14958d3aee5f1cad06795f787e54b96185c25fb40dfec723a5be941f3a531b8c"
      }
    }
  },
  "nbformat": 4,
  "nbformat_minor": 0
}
