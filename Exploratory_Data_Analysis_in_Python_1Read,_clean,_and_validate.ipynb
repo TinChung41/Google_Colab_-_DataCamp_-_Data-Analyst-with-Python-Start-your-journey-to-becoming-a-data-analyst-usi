{
  "cells": [
    {
      "cell_type": "markdown",
      "metadata": {
        "id": "ZHrTK6NyhV9I"
      },
      "source": [
        "#Đổi tên mọi variable\n",
        "https://stackoverflow.com/questions/70356656/google-colab-change-variable-name-everywhere-in-code-cell"
      ]
    },
    {
      "cell_type": "markdown",
      "metadata": {
        "id": "Noz8x84d6aRs"
      },
      "source": [
        "#Run all cell\n",
        "https://stackoverflow.com/questions/46565739/how-would-i-make-this-work-n-in-a-filepath-not-intentional"
      ]
    },
    {
      "attachments": {},
      "cell_type": "markdown",
      "metadata": {},
      "source": [
        "For gg colab run"
      ]
    },
    {
      "cell_type": "code",
      "execution_count": 1,
      "metadata": {
        "colab": {
          "base_uri": "https://localhost:8080/"
        },
        "id": "eCOEnFVyrSDD",
        "outputId": "30c0f92f-23ef-4028-b30f-1e707e859c56"
      },
      "outputs": [],
      "source": [
        "#from google.colab import drive\n",
        "#drive.mount('/content/drive')"
      ]
    },
    {
      "cell_type": "markdown",
      "metadata": {
        "id": "sTqEtoRtgASg"
      },
      "source": [
        "#Library\n"
      ]
    },
    {
      "cell_type": "code",
      "execution_count": 2,
      "metadata": {
        "id": "pWzRtBeER8g1"
      },
      "outputs": [],
      "source": [
        "import numpy as np\n",
        "import pandas as pd\n",
        "import matplotlib.pyplot as plt"
      ]
    },
    {
      "cell_type": "markdown",
      "metadata": {
        "id": "uBv-sPJkwfhm"
      },
      "source": [
        "Using pandas module in python to find the average baby weight in \n",
        "```\n",
        "import pandas as pd\n",
        "nsfg = pd.read_hdf('nsfg.hdf5','nsfg')\n",
        "type(nsfg)\n",
        "\n",
        "#Primary data stucture Pandas use to store data\n",
        "```"
      ]
    },
    {
      "attachments": {},
      "cell_type": "markdown",
      "metadata": {},
      "source": [
        "For local VScode run"
      ]
    },
    {
      "cell_type": "code",
      "execution_count": 3,
      "metadata": {
        "colab": {
          "base_uri": "https://localhost:8080/"
        },
        "id": "HbkVcPLvweZZ",
        "outputId": "297b6880-97a9-4f50-9517-7b87de9089e8"
      },
      "outputs": [
        {
          "data": {
            "text/plain": [
              "pandas.core.frame.DataFrame"
            ]
          },
          "execution_count": 3,
          "metadata": {},
          "output_type": "execute_result"
        }
      ],
      "source": [
        "import pandas as pd\n",
        "#nsfg = pd.read_hdf('/content/drive/MyDrive/DataCamp and Linkedin Learning/CAREER TRACK Data Analyst with Python/Dataset/Exploratory Data Analysis in Python/nsfg.hdf5','nsfg')\n",
        "nsfg = pd.read_hdf(r'D:\\sem 2 year 3\\DataCamp\\Dataset\\New folder\\Google_Colab_DataCamp_Data_Analyst\\Dataset_Exploratory Data Analysis in Python\\nsfg.hdf5','nsfg')\n",
        "\n",
        "type(nsfg)"
      ]
    },
    {
      "cell_type": "markdown",
      "metadata": {
        "id": "rUPx855IagTF"
      },
      "source": [
        "###Attribute của dataset\n",
        "\n",
        "* .shape\n",
        "* .columns"
      ]
    },
    {
      "cell_type": "markdown",
      "metadata": {
        "id": "xuwurKc9b_uK"
      },
      "source": [
        "##Clean and validate"
      ]
    },
    {
      "cell_type": "markdown",
      "metadata": {
        "id": "XOKHfRc8qCK6"
      },
      "source": []
    },
    {
      "cell_type": "code",
      "execution_count": 4,
      "metadata": {
        "id": "31DFm_Z7qPIR"
      },
      "outputs": [],
      "source": [
        "pounds = nsfg['birthwgt_lb1']\n",
        "\n",
        "ounces = nsfg['birthwgt_oz1']"
      ]
    },
    {
      "cell_type": "markdown",
      "metadata": {
        "id": "2kpgCDMEqiGi"
      },
      "source": [
        "###Validate data: confirming data is interpreting correctly\n",
        "\n",
        "theo mặc định, data sort theo giá trị nhiều nhất nên ở đây dùng `.sort_index()` để sort theo value"
      ]
    },
    {
      "cell_type": "code",
      "execution_count": 5,
      "metadata": {
        "colab": {
          "base_uri": "https://localhost:8080/"
        },
        "id": "zmh4dgNs7A-k",
        "outputId": "c1287d79-f423-49bb-da4a-a0cb9ae6209e"
      },
      "outputs": [
        {
          "data": {
            "text/plain": [
              "0.0        6\n",
              "1.0       34\n",
              "2.0       47\n",
              "3.0       67\n",
              "4.0      196\n",
              "5.0      586\n",
              "6.0     1666\n",
              "7.0     2146\n",
              "8.0     1168\n",
              "9.0      363\n",
              "10.0      82\n",
              "11.0      17\n",
              "12.0       7\n",
              "13.0       2\n",
              "14.0       2\n",
              "17.0       1\n",
              "98.0       1\n",
              "99.0      94\n",
              "Name: birthwgt_lb1, dtype: int64"
            ]
          },
          "execution_count": 5,
          "metadata": {},
          "output_type": "execute_result"
        }
      ],
      "source": [
        "pounds.value_counts().sort_index()"
      ]
    },
    {
      "cell_type": "markdown",
      "metadata": {
        "id": "Jsy6jPZf7pmo"
      },
      "source": [
        "**ở trên ta có thể thấy phần lớn em bé nặng khảng 4-9, có vài em bé rất nhẹ và 98,99 nghĩa là missing data**\n",
        "\n",
        "### validate the result bằng cách **comparing themn to the code book**\n",
        "![image.png](data:image/png;base64,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)"
      ]
    },
    {
      "cell_type": "markdown",
      "metadata": {
        "id": "61_zGmRqQWD5"
      },
      "source": [
        "###1 cách nữa để validate: .decribe()"
      ]
    },
    {
      "cell_type": "code",
      "execution_count": 6,
      "metadata": {
        "colab": {
          "base_uri": "https://localhost:8080/"
        },
        "id": "HVg2TRxhQQwR",
        "outputId": "20e027c7-720f-4fce-f041-5467a41ac235"
      },
      "outputs": [
        {
          "data": {
            "text/plain": [
              "count    6485.000000\n",
              "mean        8.055204\n",
              "std        11.178893\n",
              "min         0.000000\n",
              "25%         6.000000\n",
              "50%         7.000000\n",
              "75%         8.000000\n",
              "max        99.000000\n",
              "Name: birthwgt_lb1, dtype: float64"
            ]
          },
          "execution_count": 6,
          "metadata": {},
          "output_type": "execute_result"
        }
      ],
      "source": [
        "pounds.describe()\n",
        "#Here the mean at 8.05 which does not mean much because of the special value(98,99) as outliner"
      ]
    },
    {
      "cell_type": "markdown",
      "metadata": {
        "id": "mLRA1CZbRmxn"
      },
      "source": [
        "Dùng replace vì 98 và 99 đại diện cho Refused & Dont know"
      ]
    },
    {
      "cell_type": "code",
      "execution_count": 7,
      "metadata": {
        "colab": {
          "base_uri": "https://localhost:8080/"
        },
        "id": "j_ON4xNLRu_o",
        "outputId": "7f23ef91-e9d5-4cfa-a38e-f8fa17c698f7"
      },
      "outputs": [
        {
          "data": {
            "text/plain": [
              "6.703286384976526"
            ]
          },
          "execution_count": 7,
          "metadata": {},
          "output_type": "execute_result"
        }
      ],
      "source": [
        "pounds = pounds.replace([98,99], np.nan)\n",
        "#mean of pounds will make more sense\n",
        "pounds.mean()"
      ]
    },
    {
      "cell_type": "markdown",
      "metadata": {
        "id": "Q67CshEgSfBf"
      },
      "source": [
        "###Bây giờ có thấy việc phải reassign giá trị khi dùng `.replace()`\n",
        "\n",
        "To bypass this just use the inplace = True arg"
      ]
    },
    {
      "cell_type": "code",
      "execution_count": 8,
      "metadata": {
        "id": "62UhgGzWSqqu"
      },
      "outputs": [],
      "source": [
        "ounces.replace([98,99], np.nan, inplace = True) \n",
        "#We didn't make a new series so we dont need to assign it back to ounces"
      ]
    },
    {
      "cell_type": "markdown",
      "metadata": {
        "id": "7dMkAIyhTNlp"
      },
      "source": [
        "###Arithmetic operator: Work with Series object\n",
        "\n",
        "Để đổi từ ounces -> pounds: chia 16"
      ]
    },
    {
      "cell_type": "code",
      "execution_count": 9,
      "metadata": {
        "colab": {
          "base_uri": "https://localhost:8080/"
        },
        "id": "y9YGY9E8Te8J",
        "outputId": "8d97622d-469b-4c34-ec29-d14d9821d325"
      },
      "outputs": [
        {
          "data": {
            "text/plain": [
              "count    6355.000000\n",
              "mean        7.120978\n",
              "std         1.422236\n",
              "min         0.000000\n",
              "25%         6.375000\n",
              "50%         7.187500\n",
              "75%         8.000000\n",
              "max        17.937500\n",
              "dtype: float64"
            ]
          },
          "execution_count": 9,
          "metadata": {},
          "output_type": "execute_result"
        }
      ],
      "source": [
        "birth_weight = pounds + ounces/16\n",
        "birth_weight.describe()"
      ]
    },
    {
      "cell_type": "markdown",
      "metadata": {
        "id": "YwC5hG7H3Vl3"
      },
      "source": [
        "![image.png](data:image/png;base64,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)"
      ]
    },
    {
      "cell_type": "code",
      "execution_count": 10,
      "metadata": {
        "colab": {
          "base_uri": "https://localhost:8080/"
        },
        "id": "Nto5NFWD3RLb",
        "outputId": "187bcb29-b706-4f14-e24e-1baf3bc12c75"
      },
      "outputs": [
        {
          "data": {
            "text/plain": [
              "1    6489\n",
              "2     947\n",
              "3      86\n",
              "4    1469\n",
              "5     118\n",
              "6     249\n",
              "Name: outcome, dtype: int64"
            ]
          },
          "execution_count": 10,
          "metadata": {},
          "output_type": "execute_result"
        }
      ],
      "source": [
        "nsfg['outcome'].value_counts().sort_index()\n"
      ]
    },
    {
      "cell_type": "markdown",
      "metadata": {
        "id": "2LsBHqUJ3rjO"
      },
      "source": [
        "Clean a variable\n",
        "\n",
        "In the NSFG dataset, the variable 'nbrnaliv' records the number of babies born alive at the end of a pregnancy.\n",
        "\n",
        "If you use .value_counts() to view the responses, you'll see that the value 8 appears once, and if you consult the codebook, you'll see that this value indicates that the respondent refused to answer the question.\n",
        "\n",
        "Your job in this exercise is to replace this value with np.nan. Recall from the video how Allen replaced the values 98 and 99 in the ounces column using the .replace()"
      ]
    },
    {
      "cell_type": "code",
      "execution_count": 11,
      "metadata": {
        "colab": {
          "base_uri": "https://localhost:8080/"
        },
        "id": "Yz-AqxXq3pHy",
        "outputId": "0c6d890d-745c-45bc-8716-5d164d325b3f"
      },
      "outputs": [
        {
          "name": "stdout",
          "output_type": "stream",
          "text": [
            "1.0    6379\n",
            "2.0     100\n",
            "3.0       5\n",
            "Name: nbrnaliv, dtype: int64\n"
          ]
        }
      ],
      "source": [
        "# Replace the value 8 with NaN\n",
        "nsfg['nbrnaliv'].replace([8], np.nan, inplace=True)\n",
        "\n",
        "# Print the values and their frequencies\n",
        "print(nsfg['nbrnaliv'].value_counts())"
      ]
    },
    {
      "cell_type": "markdown",
      "metadata": {
        "id": "0ALtfmgC4KYL"
      },
      "source": [
        "For each pregnancy in the NSFG dataset, the variable 'agecon' encodes the respondent's age at conception, and 'agepreg' the respondent's age at the end of the pregnancy.\n",
        "\n",
        "Both variables are recorded as integers with two implicit decimal places, so the value 2575 means that the respondent's age was 25.75."
      ]
    },
    {
      "cell_type": "code",
      "execution_count": 12,
      "metadata": {
        "colab": {
          "base_uri": "https://localhost:8080/"
        },
        "id": "NM7689e-4wds",
        "outputId": "64a57716-11b9-41f3-fc61-1f787cb16fe7"
      },
      "outputs": [
        {
          "name": "stdout",
          "output_type": "stream",
          "text": [
            "count    9109.000000\n",
            "mean        0.552069\n",
            "std         0.271479\n",
            "min         0.000000\n",
            "25%         0.250000\n",
            "50%         0.670000\n",
            "75%         0.750000\n",
            "max         0.920000\n",
            "dtype: float64\n"
          ]
        }
      ],
      "source": [
        "# Select the columns and divide by 100\n",
        "agecon = nsfg['agecon'] / 100\n",
        "agepreg = nsfg['agepreg'] / 100\n",
        "\n",
        "# Compute the difference\n",
        "preg_length = agepreg - agecon\n",
        "\n",
        "# Compute summary statistics\n",
        "print(preg_length.describe())"
      ]
    },
    {
      "cell_type": "markdown",
      "metadata": {
        "id": "htlpoaJp40bi"
      },
      "source": [
        "##Filter and visualize\n",
        "\n",
        "###Histogram"
      ]
    },
    {
      "cell_type": "code",
      "execution_count": 13,
      "metadata": {
        "colab": {
          "base_uri": "https://localhost:8080/",
          "height": 491
        },
        "id": "7nw2CO2p41mn",
        "outputId": "f8b4ff64-fe26-4c34-b137-5211c44faf32"
      },
      "outputs": [
        {
          "ename": "NameError",
          "evalue": "name 'birth_wieght' is not defined",
          "output_type": "error",
          "traceback": [
            "\u001b[1;31m---------------------------------------------------------------------------\u001b[0m",
            "\u001b[1;31mNameError\u001b[0m                                 Traceback (most recent call last)",
            "\u001b[1;32md:\\sem 2 year 3\\DataCamp\\Dataset\\New folder\\Google_Colab_DataCamp_Data_Analyst\\Exploratory_Data_Analysis_in_Python_1Read,_clean,_and_validate.ipynb Cell 32\u001b[0m in \u001b[0;36m<cell line: 2>\u001b[1;34m()\u001b[0m\n\u001b[0;32m      <a href='vscode-notebook-cell:/d%3A/sem%202%20year%203/DataCamp/Dataset/New%20folder/Google_Colab_DataCamp_Data_Analyst/Exploratory_Data_Analysis_in_Python_1Read%2C_clean%2C_and_validate.ipynb#X41sZmlsZQ%3D%3D?line=0'>1</a>\u001b[0m \u001b[39mimport\u001b[39;00m \u001b[39mmatplotlib\u001b[39;00m\u001b[39m.\u001b[39;00m\u001b[39mpyplot\u001b[39;00m \u001b[39mas\u001b[39;00m \u001b[39mplt\u001b[39;00m\n\u001b[1;32m----> <a href='vscode-notebook-cell:/d%3A/sem%202%20year%203/DataCamp/Dataset/New%20folder/Google_Colab_DataCamp_Data_Analyst/Exploratory_Data_Analysis_in_Python_1Read%2C_clean%2C_and_validate.ipynb#X41sZmlsZQ%3D%3D?line=1'>2</a>\u001b[0m plt\u001b[39m.\u001b[39mhist(birth_wieght\u001b[39m.\u001b[39mdropna(),bins \u001b[39m=\u001b[39m \u001b[39m30\u001b[39m)\n",
            "\u001b[1;31mNameError\u001b[0m: name 'birth_wieght' is not defined"
          ]
        }
      ],
      "source": [
        "import matplotlib.pyplot as plt\n",
        "plt.hist(birth_wieght.dropna(),bins = 30)"
      ]
    },
    {
      "cell_type": "markdown",
      "metadata": {
        "id": "pTxZlxrDTME-"
      },
      "source": [
        "###Label"
      ]
    },
    {
      "cell_type": "code",
      "execution_count": null,
      "metadata": {
        "colab": {
          "base_uri": "https://localhost:8080/",
          "height": 279
        },
        "id": "QcFEYE86TNfy",
        "outputId": "3e951fed-89c7-4a38-ccee-018073ae6827"
      },
      "outputs": [
        {
          "data": {
            "image/png": "[encoded data removed]",
            "text/plain": [
              "<Figure size 432x288 with 1 Axes>"
            ]
          },
          "metadata": {
            "needs_background": "light"
          },
          "output_type": "display_data"
        }
      ],
      "source": [
        "plt.hist(birth_wieght.dropna(),bins = 30)\n",
        "plt.xlabel('Birth weight (lb)')\n",
        "plt.ylabel('Fraction of births')\n",
        "plt.show()"
      ]
    },
    {
      "cell_type": "markdown",
      "metadata": {
        "id": "yly_nFpdfhXi"
      },
      "source": [
        "Time for pregnancy duration is : 39 weeks\n",
        "\n",
        "* 'full term' = 39 weeks\n",
        "* 'preterm' < 37 weeks\n"
      ]
    },
    {
      "cell_type": "code",
      "execution_count": null,
      "metadata": {
        "colab": {
          "base_uri": "https://localhost:8080/"
        },
        "id": "k7F2gEwBf4nw",
        "outputId": "a3e39e7d-9fc7-405a-adf0-e72f7cbf96ab"
      },
      "outputs": [
        {
          "data": {
            "text/plain": [
              "0    False\n",
              "1     True\n",
              "2     True\n",
              "3     True\n",
              "4    False\n",
              "Name: prglngth, dtype: bool"
            ]
          },
          "execution_count": 72,
          "metadata": {},
          "output_type": "execute_result"
        }
      ],
      "source": [
        "preterm = nsfg['prglngth'] < 37\n",
        "preterm.head()"
      ]
    },
    {
      "cell_type": "code",
      "execution_count": null,
      "metadata": {
        "colab": {
          "base_uri": "https://localhost:8080/"
        },
        "id": "lWqVzwVMgQW1",
        "outputId": "b66f1a22-8774-40cd-c1f9-ca670f7f1fdb"
      },
      "outputs": [
        {
          "data": {
            "text/plain": [
              "3742"
            ]
          },
          "execution_count": 73,
          "metadata": {},
          "output_type": "execute_result"
        }
      ],
      "source": [
        "# if we calculate sum() and mean() it will treat True = 1, False = 0\n",
        "preterm.sum()\n",
        "#3700 baby are preterm"
      ]
    },
    {
      "cell_type": "code",
      "execution_count": null,
      "metadata": {
        "colab": {
          "base_uri": "https://localhost:8080/"
        },
        "id": "otJOtdmRgfZ8",
        "outputId": "70a35faf-7f89-4c46-a02f-366f71f90084"
      },
      "outputs": [
        {
          "data": {
            "text/plain": [
              "0.39987176747168196"
            ]
          },
          "execution_count": 74,
          "metadata": {},
          "output_type": "execute_result"
        }
      ],
      "source": [
        "preterm.mean()\n",
        "#40% kids are preterm"
      ]
    },
    {
      "cell_type": "markdown",
      "metadata": {
        "id": "AYOaJVjTgq46"
      },
      "source": [
        "###Filtering\n"
      ]
    },
    {
      "cell_type": "code",
      "execution_count": null,
      "metadata": {
        "colab": {
          "base_uri": "https://localhost:8080/"
        },
        "id": "fnIzKkY6gqo6",
        "outputId": "be4375dd-92a0-4216-c63e-ec15fbb01ee9"
      },
      "outputs": [
        {
          "data": {
            "text/plain": [
              "5.577598314606742"
            ]
          },
          "execution_count": 75,
          "metadata": {},
          "output_type": "execute_result"
        }
      ],
      "source": [
        "preterm_weight = birth_weight[preterm]\n",
        "preterm_weight.mean()"
      ]
    },
    {
      "cell_type": "markdown",
      "metadata": {
        "id": "hVA7YwJRi0XE"
      },
      "source": [
        "Make a histogram\n",
        "\n",
        "Histograms are one of the most useful tools in exploratory data analysis. They quickly give you an overview of the distribution of a variable, that is, what values the variable can have, and how many times each value appears.\n",
        "\n",
        "As we saw in a previous exercise, the NSFG dataset includes a variable 'agecon' that records age at conception for each pregnancy. Here, you're going to plot a histogram of this variable. You'll use the bins parameter that you saw in the video, and also a new parameter - histtype - which you can read more about [here](https://matplotlib.org/api/_as_gen/matplotlib.pyplot.hist.html) in the matplotlib documentation. Learning how to read documentation is an essential skill. If you want to learn more about matplotlib, you can check out DataCamp's [Introduction to Data Visualization with Matplotlib](https://www.datacamp.com/courses/introduction-to-data-visualization-with-matplotlib) course."
      ]
    },
    {
      "cell_type": "markdown",
      "metadata": {
        "id": "eGWIGUXIq4D5"
      },
      "source": [
        "matplotlib.pyplot.hist(x, bins=None, range=None, density=False, weights=None, cumulative=False, bottom=None, **histtype='bar'**, align='mid', orientation='vertical', rwidth=None, log=False, color=None, label=None, stacked=False, *, data=None, **kwargs)\n",
        "\n",
        "\n",
        "histtype{'bar', 'barstacked', 'step', 'stepfilled'}, default: 'bar'\n",
        "\n",
        "The type of histogram to draw.\n",
        "\n",
        "'bar' is a traditional bar-type histogram. If multiple data are given the bars are arranged side by side.\n",
        "\n",
        "'barstacked' is a bar-type histogram where multiple data are stacked on top of each other.\n",
        "\n",
        "'step' generates a lineplot that is by default unfilled.\n",
        "\n",
        "'stepfilled' generates a lineplot that is by default filled."
      ]
    },
    {
      "cell_type": "code",
      "execution_count": null,
      "metadata": {
        "colab": {
          "base_uri": "https://localhost:8080/",
          "height": 279
        },
        "id": "7IsJEa5i6U8d",
        "outputId": "23610975-748c-4a92-dd5d-a0341a40d45e"
      },
      "outputs": [
        {
          "data": {
            "image/png": "[encoded data removed]",
            "text/plain": [
              "<Figure size 432x288 with 1 Axes>"
            ]
          },
          "metadata": {
            "needs_background": "light"
          },
          "output_type": "display_data"
        }
      ],
      "source": [
        "# Plot the histogram\n",
        "plt.hist(agecon, bins=20)\n",
        "\n",
        "# Label the axes\n",
        "plt.xlabel('Age at conception')\n",
        "plt.ylabel('Number of pregnancies')\n",
        "\n",
        "# Show the figure\n",
        "plt.show()"
      ]
    },
    {
      "cell_type": "markdown",
      "metadata": {
        "id": "z6OGI_ibJe43"
      },
      "source": [
        "Compute birth weight\n",
        "\n",
        "Now let's pull together the steps in this chapter to compute the average birth weight for full-term babies.\n",
        "\n",
        "I've provided a function, resample_rows_weighted, that takes the NSFG data and resamples it using the sampling weights in wgt2013_2015. The result is a sample that is representative of the U.S. population.\n",
        "\n",
        "Then I extract birthwgt_lb1 and birthwgt_oz1, replace special codes with NaN, and compute total birth weight in pounds, birth_weight.\n",
        "```\n",
        "# Resample the data\n",
        "nsfg = resample_rows_weighted(nsfg, 'wgt2013_2015')\n",
        "\n",
        "# Clean the weight variables\n",
        "pounds = nsfg['birthwgt_lb1'].replace([98, 99], np.nan)\n",
        "ounces = nsfg['birthwgt_oz1'].replace([98, 99], np.nan)\n",
        "\n",
        "# Compute total birth weight\n",
        "birth_weight = pounds + ounces/16\n",
        "```"
      ]
    },
    {
      "cell_type": "code",
      "execution_count": null,
      "metadata": {
        "colab": {
          "base_uri": "https://localhost:8080/"
        },
        "id": "MPcIB9QlJhkj",
        "outputId": "a84b4546-2eff-4cec-9e19-a63474c70a60"
      },
      "outputs": [
        {
          "name": "stdout",
          "output_type": "stream",
          "text": [
            "7.372323879231473\n"
          ]
        }
      ],
      "source": [
        "# Create a Boolean Series for full-term babies\n",
        "full_term = nsfg['prglngth'] >= 37\n",
        "\n",
        "# Select the weights of full-term babies\n",
        "full_term_weight = birth_weight[full_term]\n",
        "\n",
        "# Compute the mean weight of full-term babies\n",
        "print(full_term_weight.mean())"
      ]
    },
    {
      "cell_type": "markdown",
      "metadata": {
        "id": "uVcBPoWOJrSN"
      },
      "source": [
        "Filter\n",
        "\n",
        "In the previous exercise, you computed the mean birth weight for full-term babies; you filtered out preterm babies because their distribution of weight is different.\n",
        "\n",
        "The distribution of weight is also different for multiple births, like twins and triplets. In this exercise, you'll filter them out, too, and see what effect it has on the mean."
      ]
    },
    {
      "cell_type": "code",
      "execution_count": null,
      "metadata": {
        "colab": {
          "base_uri": "https://localhost:8080/"
        },
        "id": "ZA1R-rG9KAdp",
        "outputId": "638b568c-6bb2-4832-dc68-588a1e9263d8"
      },
      "outputs": [
        {
          "name": "stdout",
          "output_type": "stream",
          "text": [
            "Single full-term mean: 7.385643450184502\n"
          ]
        }
      ],
      "source": [
        "# Filter full-term babies\n",
        "full_term = nsfg['prglngth'] >= 37\n",
        "\n",
        "# Filter single births\n",
        "single = nsfg['nbrnaliv'] == 1\n",
        "\n",
        "# Compute birth weight for single full-term babies\n",
        "single_full_term_weight = birth_weight[single & full_term]\n",
        "print('Single full-term mean:', single_full_term_weight.mean())"
      ]
    },
    {
      "cell_type": "markdown",
      "metadata": {
        "id": "sB9wO2n6Kiqs"
      },
      "source": [
        "`~single` là phủ định"
      ]
    },
    {
      "cell_type": "code",
      "execution_count": null,
      "metadata": {
        "colab": {
          "base_uri": "https://localhost:8080/"
        },
        "id": "FNo4Q4iUKCtq",
        "outputId": "a284c7ff-e7b9-4c82-a188-d64f02485b08"
      },
      "outputs": [
        {
          "name": "stdout",
          "output_type": "stream",
          "text": [
            "Multiple full-term mean: 5.768055555555556\n"
          ]
        }
      ],
      "source": [
        "# Compute birth weight for multiple full-term babies\n",
        "mult_full_term_weight = birth_weight[~single & full_term]\n",
        "print('Multiple full-term mean:', mult_full_term_weight.mean())"
      ]
    },
    {
      "cell_type": "markdown",
      "metadata": {
        "id": "_v8eaLVSKrBk"
      },
      "source": [
        "##Kết luận cân nặng trung bình của trẻ sơ sinh là:\n",
        "\n",
        "sinh 1 đứa: 7.3 pounds và nhiều hơn 1 là 5.76\n",
        "\n",
        "Ở đây có khoảng 40% trẻ là pretem: ko đủ tháng và kết quả ở trên là cho trẻ đủ tháng trở lên"
      ]
    }
  ],
  "metadata": {
    "colab": {
      "provenance": [],
      "toc_visible": true
    },
    "kernelspec": {
      "display_name": "Python 3",
      "language": "python",
      "name": "python3"
    },
    "language_info": {
      "codemirror_mode": {
        "name": "ipython",
        "version": 3
      },
      "file_extension": ".py",
      "mimetype": "text/x-python",
      "name": "python",
      "nbconvert_exporter": "python",
      "pygments_lexer": "ipython3",
      "version": "3.9.9 (tags/v3.9.9:ccb0e6a, Nov 15 2021, 18:08:50) [MSC v.1929 64 bit (AMD64)]"
    },
    "vscode": {
      "interpreter": {
        "hash": "14958d3aee5f1cad06795f787e54b96185c25fb40dfec723a5be941f3a531b8c"
      }
    }
  },
  "nbformat": 4,
  "nbformat_minor": 0
}
