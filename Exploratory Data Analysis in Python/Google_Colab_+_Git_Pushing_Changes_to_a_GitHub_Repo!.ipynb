{
  "cells": [
    {
      "cell_type": "markdown",
      "metadata": {
        "id": "biNcv9lKJtlK"
      },
      "source": [
        "# **Git**\n",
        "\n",
        "**Git is an open source distributed version control system designed to handle a variety of projects with speed and efficiency.**\n",
        "\n",
        "**Version control is the practice of tracking and managing changes to software code.**"
      ]
    },
    {
      "cell_type": "markdown",
      "metadata": {
        "id": "Ain0_pZFNRPD"
      },
      "source": [
        "## **Git and GitHub**\n",
        "\n",
        "**Git is a version control system that lets you manage and keep track of your source code history. GitHub is a cloud-based hosting service that lets you manage Git repositories. If you have open-source projects that use Git, then GitHub is designed to help you better manage them.**"
      ]
    },
    {
      "cell_type": "markdown",
      "metadata": {
        "id": "ZDLlshA0Oz9Q"
      },
      "source": [
        "<sup>Source: [Git vs. GitHub: What's the Difference?](https://www.investopedia.com/terms/e/europeanoption.asp) from Devmountain</sup>"
      ]
    },
    {
      "cell_type": "code",
      "execution_count": null,
      "metadata": {
        "id": "tbVE8h46Jt4o"
      },
      "outputs": [],
      "source": [
        "!git config --global user.name \"your_username\"\n",
        "!git config --global user.email \"youremail@yahoo.com\"\n",
        "!git config --global user.password \"y0urp4SSw0Rd!\""
      ]
    },
    {
      "cell_type": "code",
      "execution_count": null,
      "metadata": {
        "id": "BMZQXiMr6l0Z"
      },
      "outputs": [],
      "source": [
        "token = 'your_token'\n",
        "username = 'your_username'\n",
        "repo = 'your_repo_name'"
      ]
    },
    {
      "cell_type": "code",
      "execution_count": null,
      "metadata": {
        "id": "QJr0hdqlzch7"
      },
      "outputs": [],
      "source": [
        "!git clone https://{token}@github.com/{username}/{repo}"
      ]
    },
    {
      "cell_type": "code",
      "execution_count": null,
      "metadata": {
        "id": "1HJ-OfLv6_0y"
      },
      "outputs": [],
      "source": [
        "%cd {repo}"
      ]
    },
    {
      "cell_type": "code",
      "execution_count": null,
      "metadata": {
        "id": "h6mrnrbP-3vW"
      },
      "outputs": [],
      "source": [
        "%ls"
      ]
    },
    {
      "cell_type": "code",
      "execution_count": null,
      "metadata": {
        "id": "Hb6fa_C5EqY5"
      },
      "outputs": [],
      "source": [
        "!mv /content/Check_If_Two_String_Arrays_are_Equivalent.ipynb /content/LeetCode-HackerRank-Solutions-and-More/Solutions"
      ]
    },
    {
      "cell_type": "code",
      "execution_count": null,
      "metadata": {
        "id": "N3EwkTkt7JzG"
      },
      "outputs": [],
      "source": [
        "!git status"
      ]
    },
    {
      "cell_type": "code",
      "execution_count": null,
      "metadata": {
        "id": "0ExrOLZBGLbA"
      },
      "outputs": [],
      "source": [
        "!git add --all"
      ]
    },
    {
      "cell_type": "code",
      "execution_count": null,
      "metadata": {
        "id": "99adoQGx2eny"
      },
      "outputs": [],
      "source": [
        "!git commit -a -m \"Added a file to the LeetCode folder\""
      ]
    },
    {
      "cell_type": "code",
      "execution_count": null,
      "metadata": {
        "id": "zIKEeN0RFtb3"
      },
      "outputs": [],
      "source": [
        "!git remote -v"
      ]
    },
    {
      "cell_type": "code",
      "execution_count": null,
      "metadata": {
        "id": "IePYQt1lG--X"
      },
      "outputs": [],
      "source": [
        "!git push origin master"
      ]
    },
    {
      "cell_type": "markdown",
      "metadata": {
        "id": "alf034sGIAJl"
      },
      "source": [
        "# **References and Additional Learning**"
      ]
    },
    {
      "cell_type": "markdown",
      "metadata": {
        "id": "X-hOtJObIaB9"
      },
      "source": [
        "## **Videos**\n",
        "\n",
        "- **[Cloning Repo and Push/Pull - Git and GitHub for Poets](https://www.youtube.com/watch?v=yXT1ElMEkW8&ab_channel=TheCodingTrain) from The Coding Train**"
      ]
    },
    {
      "cell_type": "markdown",
      "metadata": {
        "id": "N25RcIxzJCiO"
      },
      "source": [
        "## **Websites**\n",
        "\n",
        "- **[Git Commands](https://www.git-tower.com/learn/git/commands/git-remote) from Tower**\n",
        "\n",
        "- **[Git Documentation](https://git-scm.com/doc) from git-scm.com**\n",
        "\n",
        "- **[Git vs. GitHub: What's the Difference?](https://www.investopedia.com/terms/e/europeanoption.asp) from Devmountain**"
      ]
    }
  ],
  "metadata": {
    "colab": {
      "collapsed_sections": [],
      "name": "Google Colab + Git - Pushing Changes to a GitHub Repo!.ipynb",
      "provenance": []
    },
    "kernelspec": {
      "display_name": "Python 3",
      "language": "python",
      "name": "python3"
    },
    "language_info": {
      "name": "python",
      "version": "3.9.9"
    },
    "vscode": {
      "interpreter": {
        "hash": "14958d3aee5f1cad06795f787e54b96185c25fb40dfec723a5be941f3a531b8c"
      }
    }
  },
  "nbformat": 4,
  "nbformat_minor": 0
}
