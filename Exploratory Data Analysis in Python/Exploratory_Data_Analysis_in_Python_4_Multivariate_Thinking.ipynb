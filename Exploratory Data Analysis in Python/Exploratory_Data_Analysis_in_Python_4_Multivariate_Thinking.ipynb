{
  "nbformat": 4,
  "nbformat_minor": 0,
  "metadata": {
    "colab": {
      "provenance": [],
      "toc_visible": true
    },
    "kernelspec": {
      "name": "python3",
      "display_name": "Python 3"
    },
    "language_info": {
      "name": "python"
    }
  },
  "cells": [
    {
      "cell_type": "code",
      "execution_count": 1,
      "metadata": {
        "colab": {
          "base_uri": "https://localhost:8080/"
        },
        "id": "zjTSm7IPSeFU",
        "outputId": "9dbf90f7-599d-42b3-8b38-af8a6bae673f"
      },
      "outputs": [
        {
          "output_type": "stream",
          "name": "stdout",
          "text": [
            "Drive already mounted at /content/drive; to attempt to forcibly remount, call drive.mount(\"/content/drive\", force_remount=True).\n"
          ]
        }
      ],
      "source": [
        "from google.colab import drive\n",
        "drive.mount('/content/drive')"
      ]
    },
    {
      "cell_type": "markdown",
      "source": [
        "#Limits of simple regression\n",
        "\n",
        "vấn đề của regression là nó không cho t biết rõ causasion(nguyên nhân)\n",
        "\n",
        "A có thể cause B và ngược lại"
      ],
      "metadata": {
        "id": "V7vOUAg-TvlV"
      }
    },
    {
      "cell_type": "code",
      "source": [
        "import numpy as np\n",
        "import pandas as pd\n",
        "import matplotlib.pyplot as plt\n",
        "import seaborn as sns\n",
        "from scipy.stats import binom\n",
        "from scipy.stats import linregress\n",
        "\n",
        "import statsmodels.formula.api as smf\n"
      ],
      "metadata": {
        "id": "m3LGyCUEZrlM"
      },
      "execution_count": 2,
      "outputs": []
    },
    {
      "cell_type": "code",
      "source": [
        "#For VS code path\n",
        "#brfss = pd.read_hdf(r'D:\\sem 2 year 3\\DataCamp\\Dataset\\New folder\\Google_Colab_DataCamp_Data_Analyst\\Dataset_Exploratory Data Analysis in Python\\brfss.hdf5', 'brfss')\n",
        "\n",
        "#For GG colab gg drive path\n",
        "brfss = pd.read_hdf(r'/content/drive/MyDrive/DataCamp and Linkedin Learning/CAREER TRACK Data Analyst with Python/Dataset/Exploratory Data Analysis in Python/brfss.hdf5', 'brfss')"
      ],
      "metadata": {
        "id": "-PgqQ8bVZtNZ"
      },
      "execution_count": 3,
      "outputs": []
    },
    {
      "cell_type": "code",
      "source": [
        "import statsmodels.formula.api as smf"
      ],
      "metadata": {
        "id": "TGxRmsqSahGW"
      },
      "execution_count": 4,
      "outputs": []
    },
    {
      "cell_type": "code",
      "source": [
        "results = smf.ols('INCOME2 ~ _VEGESU1', data = brfss).fit()\n",
        "results.params"
      ],
      "metadata": {
        "colab": {
          "base_uri": "https://localhost:8080/"
        },
        "id": "6V-0hxhcad1K",
        "outputId": "b6cb075f-b2ee-4820-b3a4-4769e00bcc29"
      },
      "execution_count": 5,
      "outputs": [
        {
          "output_type": "execute_result",
          "data": {
            "text/plain": [
              "Intercept    5.450700\n",
              "_VEGESU1     0.204935\n",
              "dtype: float64"
            ]
          },
          "metadata": {},
          "execution_count": 5
        }
      ]
    },
    {
      "cell_type": "markdown",
      "source": [
        "* ols:  stands for \"ordinary least squares\", another name for regression\n",
        "* The first argument is a formula string that specifies that we want to regress income as a function of vegetable consumption. \n",
        "\n",
        "* The second argument is the BRFSS DataFrame.\n",
        "\n",
        "* **we have to run dot fit() to get the results**"
      ],
      "metadata": {
        "id": "HYK9kuXFaApz"
      }
    },
    {
      "cell_type": "markdown",
      "source": [
        "#Multiple regression\n",
        "\n",
        "dataset: gss(general survey) from chapter 2"
      ],
      "metadata": {
        "id": "xb7hmbTVV_I7"
      }
    },
    {
      "cell_type": "code",
      "source": [
        "#For VS code path\n",
        "#gss = pd.read_hdf(r'/content/drive/MyDrive/DataCamp and Linkedin Learning/CAREER TRACK Data Analyst with Python/Dataset/Exploratory Data Analysis in Python/gss.hdf5', 'gss')\n",
        "\n",
        "#For GG colab gg drive path\n",
        "gss = pd.read_hdf(r'/content/drive/MyDrive/DataCamp and Linkedin Learning/CAREER TRACK Data Analyst with Python/Dataset/Exploratory Data Analysis in Python/gss.hdf5', 'gss')"
      ],
      "metadata": {
        "id": "gVKNeftCYZ-0"
      },
      "execution_count": 6,
      "outputs": []
    },
    {
      "cell_type": "code",
      "source": [
        "results = smf.ols('realinc ~ educ', data = gss).fit()\n",
        "results.params"
      ],
      "metadata": {
        "colab": {
          "base_uri": "https://localhost:8080/"
        },
        "id": "5p34FRvXWBjG",
        "outputId": "024e9311-6565-4891-e2d1-a491371e4389"
      },
      "execution_count": 7,
      "outputs": [
        {
          "output_type": "execute_result",
          "data": {
            "text/plain": [
              "Intercept   -11539.147837\n",
              "educ          3586.523659\n",
              "dtype: float64"
            ]
          },
          "metadata": {},
          "execution_count": 7
        }
      ]
    },
    {
      "cell_type": "markdown",
      "source": [
        "`'realinc ~ educ'`\n",
        "\n",
        " Ở đây hiểu là realinc là variable để predict còn educ là inform the prediction\n",
        "\n",
        "##Adding age"
      ],
      "metadata": {
        "id": "MbdB4-JqZ5To"
      }
    },
    {
      "cell_type": "code",
      "source": [
        "results = smf.ols('realinc ~ educ + age', data=gss).fit()\n",
        "results.params"
      ],
      "metadata": {
        "colab": {
          "base_uri": "https://localhost:8080/"
        },
        "id": "I_70YL11aO_Q",
        "outputId": "f82fca59-ae83-43ce-9a0d-373b12b70672"
      },
      "execution_count": 8,
      "outputs": [
        {
          "output_type": "execute_result",
          "data": {
            "text/plain": [
              "Intercept   -16117.275684\n",
              "educ          3655.166921\n",
              "age             83.731804\n",
              "dtype: float64"
            ]
          },
          "metadata": {},
          "execution_count": 8
        }
      ]
    },
    {
      "cell_type": "markdown",
      "source": [
        "`...~ educ + age`\n",
        "\n",
        "dấu + thể hiện rằng ta mong đợi contribution của cả 2 variable \n",
        "\n",
        "`educ          3655.166921`: thể hiện rằng estimated slope, cao hơn so với model trước\n",
        "\n",
        "`age             83.731804`: nghĩa là khoảng 83$ cho 1 tuổi. Có thể nói rằng slope này quá nhỏ "
      ],
      "metadata": {
        "id": "PWZE32aKayHR"
      }
    },
    {
      "cell_type": "markdown",
      "source": [],
      "metadata": {
        "id": "hMwVyjK8brGR"
      }
    },
    {
      "cell_type": "code",
      "source": [
        "grouped = gss.groupby('age')\n",
        "mean_income_by_age = grouped['realinc'].mean()"
      ],
      "metadata": {
        "id": "EqRjT8ycbpzq"
      },
      "execution_count": 9,
      "outputs": []
    },
    {
      "cell_type": "code",
      "source": [
        "plt.plot(mean_income_by_age, 'o', alpha = 0.5)\n",
        "plt.xlabel('Age (years)')\n",
        "plt.ylabel('Income (1986 $)')"
      ],
      "metadata": {
        "colab": {
          "base_uri": "https://localhost:8080/",
          "height": 296
        },
        "id": "qfRt687uhFvS",
        "outputId": "d521d4fb-754e-4a61-de68-d6cafa203f47"
      },
      "execution_count": 10,
      "outputs": [
        {
          "output_type": "execute_result",
          "data": {
            "text/plain": [
              "Text(0, 0.5, 'Income (1986 $)')"
            ]
          },
          "metadata": {},
          "execution_count": 10
        },
        {
          "output_type": "display_data",
          "data": {
            "text/plain": [
              "<Figure size 432x288 with 1 Axes>"
            ],
            "image/png": "[encoded data removed]"
          },
          "metadata": {
            "needs_background": "light"
          }
        }
      ]
    },
    {
      "cell_type": "markdown",
      "source": [
        "Mức lương tăng dần từ 20 tới 50 tuổi nhưng sau đó giảm dần. Non linear relationship đó là lý do tại sao estimated slope so low\n",
        "\n",
        "**Remember that correlation and simple regression can't measure non-linear relationships. But multiple regression can!**"
      ],
      "metadata": {
        "id": "ynfmnmd6igxD"
      }
    },
    {
      "cell_type": "markdown",
      "source": [
        "## Adding a quadratic term"
      ],
      "metadata": {
        "id": "wssDiXCgi6ED"
      }
    },
    {
      "cell_type": "code",
      "source": [
        "gss['age2'] = gss['age']**2"
      ],
      "metadata": {
        "id": "DjFrIHf3jzgR"
      },
      "execution_count": 11,
      "outputs": []
    },
    {
      "cell_type": "code",
      "source": [
        "model_1 = smf.ols('realinc ~ educ + age + age2',data = gss)\n",
        "results_2 =model_1.fit()\n",
        "results_2.params"
      ],
      "metadata": {
        "colab": {
          "base_uri": "https://localhost:8080/"
        },
        "id": "U1NUfFX_i1Eq",
        "outputId": "f40258bb-d6ed-4fba-a59a-437c4fd0c36b"
      },
      "execution_count": 12,
      "outputs": [
        {
          "output_type": "execute_result",
          "data": {
            "text/plain": [
              "Intercept   -48058.679679\n",
              "educ          3442.447178\n",
              "age           1748.232631\n",
              "age2           -17.437552\n",
              "dtype: float64"
            ]
          },
          "metadata": {},
          "execution_count": 12
        }
      ]
    },
    {
      "cell_type": "markdown",
      "source": [
        "Như đã nói, income ảnh hưởng bởi tuổi là khoảng 1k7$. Nhưng nếu bình phương lên thì slope sẽ bị âm"
      ],
      "metadata": {
        "id": "hmXALwT2j5z-"
      }
    },
    {
      "cell_type": "markdown",
      "source": [
        "###Plot income and education\n",
        "\n",
        "To get a closer look at the relationship between income and education, let's use the variable 'educ' to group the data, then plot mean income in each group.\n",
        "\n",
        "Here, the GSS dataset has been pre-loaded into a DataFrame called gss."
      ],
      "metadata": {
        "id": "jMPPgM_MkcIS"
      }
    },
    {
      "cell_type": "code",
      "source": [
        "# Group by educ\n",
        "grouped = gss.groupby('educ')\n",
        "\n",
        "# Compute mean income in each group\n",
        "mean_income_by_educ = grouped['realinc'].mean()\n",
        "\n",
        "# Plot mean income as a scatter plot\n",
        "plt.plot(mean_income_by_educ, 'o', alpha = 0.5)\n",
        "\n",
        "# Label the axes\n",
        "plt.xlabel('Education (years)')\n",
        "plt.ylabel('Income (1986 $)')\n",
        "plt.show()"
      ],
      "metadata": {
        "colab": {
          "base_uri": "https://localhost:8080/",
          "height": 279
        },
        "id": "nYQAM32jj1XQ",
        "outputId": "7db01ebd-0b7a-4dab-ce92-3eabcf2b3077"
      },
      "execution_count": 13,
      "outputs": [
        {
          "output_type": "display_data",
          "data": {
            "text/plain": [
              "<Figure size 432x288 with 1 Axes>"
            ],
            "image/png": "[encoded data removed]"
          },
          "metadata": {
            "needs_background": "light"
          }
        }
      ]
    },
    {
      "cell_type": "markdown",
      "source": [
        "#Visualizing regression results"
      ],
      "metadata": {
        "id": "eLOGg55olccn"
      }
    },
    {
      "cell_type": "code",
      "source": [
        "#Modelling Income and age\n",
        "gss['age2'] = gss['age']**2\n",
        "gss['educ2'] = gss['educ']**2\n"
      ],
      "metadata": {
        "id": "mVvkoLvcwwNw"
      },
      "execution_count": 14,
      "outputs": []
    },
    {
      "cell_type": "code",
      "source": [
        "model = smf.ols('realinc ~ educ + educ2 + age + age2',data = gss)\n",
        "results = model.fit()\n",
        "results.params"
      ],
      "metadata": {
        "colab": {
          "base_uri": "https://localhost:8080/"
        },
        "id": "olRJAI4jlfBx",
        "outputId": "7f90fdb5-4b40-43ce-dea7-4d5a321c9d6d"
      },
      "execution_count": 15,
      "outputs": [
        {
          "output_type": "execute_result",
          "data": {
            "text/plain": [
              "Intercept   -23241.884034\n",
              "educ          -528.309369\n",
              "educ2          159.966740\n",
              "age           1696.717149\n",
              "age2           -17.196984\n",
              "dtype: float64"
            ]
          },
          "metadata": {},
          "execution_count": 15
        }
      ]
    },
    {
      "cell_type": "code",
      "source": [
        "df = pd.DataFrame()\n",
        "df['age'] = np.linspace(18,85)\n",
        "df['age2'] = df['age']**2\n",
        "df['educ'] = 12 #assign 12 year of education\n",
        "df['educ2'] = df['educ']**2"
      ],
      "metadata": {
        "id": "80kaDrJqySRk"
      },
      "execution_count": 16,
      "outputs": []
    },
    {
      "cell_type": "code",
      "source": [
        "pred12 = results.predict(df)\n"
      ],
      "metadata": {
        "id": "XyrW30XVy_zY"
      },
      "execution_count": 17,
      "outputs": []
    },
    {
      "cell_type": "code",
      "source": [
        "plt.plot(df['age'], pred12, label = 'High School')\n",
        "plt.plot(mean_income_by_age, 'o', alpha = 0.5, label = 'realinc')\n",
        "\n",
        "plt.xlabel('Age  (year)')\n",
        "plt.ylabel('Income (1986 $)')\n",
        "plt.legend()"
      ],
      "metadata": {
        "colab": {
          "base_uri": "https://localhost:8080/",
          "height": 296
        },
        "id": "ewPdOhas_7o1",
        "outputId": "13b004f7-7722-47d7-cec5-22596e2f974a"
      },
      "execution_count": 18,
      "outputs": [
        {
          "output_type": "execute_result",
          "data": {
            "text/plain": [
              "<matplotlib.legend.Legend at 0x7f6cdce25220>"
            ]
          },
          "metadata": {},
          "execution_count": 18
        },
        {
          "output_type": "display_data",
          "data": {
            "text/plain": [
              "<Figure size 432x288 with 1 Axes>"
            ],
            "image/png": "[encoded data removed]"
          },
          "metadata": {
            "needs_background": "light"
          }
        }
      ]
    },
    {
      "cell_type": "markdown",
      "source": [
        "Tạo ptr bậc 2 cho 2 cấp độ học cao hơn\n"
      ],
      "metadata": {
        "id": "6wYXeG9TAHbx"
      }
    },
    {
      "cell_type": "code",
      "source": [
        "df['educ'] = 14 #assign 12 year of education\n",
        "df['educ2'] = df['educ']**2\n",
        "pred14 = results.predict(df)\n",
        "\n",
        "df['educ'] = 16 #assign 12 year of education\n",
        "df['educ2'] = df['educ']**2\n",
        "pred16 = results.predict(df)\n",
        "\n",
        "plt.plot(df['age'], pred14, label = 'Associate')\n",
        "plt.plot(df['age'], pred16, label = 'Bachelor')"
      ],
      "metadata": {
        "colab": {
          "base_uri": "https://localhost:8080/",
          "height": 282
        },
        "id": "OPBWRUI8AsXD",
        "outputId": "22e430d2-ebe6-4bdd-8065-c5f5a5f733a0"
      },
      "execution_count": 19,
      "outputs": [
        {
          "output_type": "execute_result",
          "data": {
            "text/plain": [
              "[<matplotlib.lines.Line2D at 0x7f6cd9870040>]"
            ]
          },
          "metadata": {},
          "execution_count": 19
        },
        {
          "output_type": "display_data",
          "data": {
            "text/plain": [
              "<Figure size 432x288 with 1 Axes>"
            ],
            "image/png": "[encoded data removed]"
          },
          "metadata": {
            "needs_background": "light"
          }
        }
      ]
    },
    {
      "cell_type": "code",
      "source": [
        "plt.plot(df['age'], pred12, label = 'High School')\n",
        "plt.plot(df['age'], pred14, label = 'Associate')\n",
        "plt.plot(df['age'], pred16, label = 'Bachelor')\n",
        "plt.plot(mean_income_by_age, 'o', alpha = 0.5, label = 'realinc')\n",
        "\n",
        "plt.xlabel('Age  (year)')\n",
        "plt.ylabel('Income (1986 $)')\n",
        "plt.legend()"
      ],
      "metadata": {
        "colab": {
          "base_uri": "https://localhost:8080/",
          "height": 296
        },
        "id": "Xt5x7m-lAuJI",
        "outputId": "f4060c86-d116-414d-e3a4-c860214f07ba"
      },
      "execution_count": 20,
      "outputs": [
        {
          "output_type": "execute_result",
          "data": {
            "text/plain": [
              "<matplotlib.legend.Legend at 0x7f6cd9840910>"
            ]
          },
          "metadata": {},
          "execution_count": 20
        },
        {
          "output_type": "display_data",
          "data": {
            "text/plain": [
              "<Figure size 432x288 with 1 Axes>"
            ],
            "image/png": "[encoded data removed]"
          },
          "metadata": {
            "needs_background": "light"
          }
        }
      ]
    },
    {
      "cell_type": "markdown",
      "source": [
        " The lines show **mean income**, as predicted by the model, as a function of age, for three levels of education. This visualization helps validate the model since we can compare the predictions with the data. And it helps us interpret the model since we can see the separate contributions of age and education."
      ],
      "metadata": {
        "id": "XfnF0mZmjyED"
      }
    },
    {
      "cell_type": "markdown",
      "source": [
        "Making predictions\n",
        "\n",
        "At this point, we have a model that predicts income using age, education, and sex.\n",
        "\n",
        "Let's see what it predicts for different levels of education, holding age constant."
      ],
      "metadata": {
        "id": "RPhtk4NSkdfH"
      }
    },
    {
      "cell_type": "code",
      "source": [
        "# Run a regression model with educ, educ2, age, and age2\n",
        "results = smf.ols('realinc ~ educ + educ2 + age + age2', data=gss).fit()\n",
        "\n",
        "# Make the DataFrame\n",
        "df = pd.DataFrame()\n",
        "df['educ'] = np.linspace(0,20)\n",
        "df['age'] = 30\n",
        "df['educ2'] = df['educ']**2\n",
        "df['age2'] = df['age']**2\n",
        "\n",
        "# Generate and plot the predictions\n",
        "pred = results.predict(df)\n",
        "print(pred.head())"
      ],
      "metadata": {
        "colab": {
          "base_uri": "https://localhost:8080/"
        },
        "id": "T5Ev3qzskfLo",
        "outputId": "2571ccf2-8efa-46be-d731-ecad3053eef2"
      },
      "execution_count": 21,
      "outputs": [
        {
          "output_type": "stream",
          "name": "stdout",
          "text": [
            "0    12182.344976\n",
            "1    11993.358518\n",
            "2    11857.672098\n",
            "3    11775.285717\n",
            "4    11746.199374\n",
            "dtype: float64\n"
          ]
        }
      ]
    },
    {
      "cell_type": "code",
      "source": [
        "# Plot mean income in each age group\n",
        "plt.clf()\n",
        "grouped = gss.groupby('educ')\n",
        "mean_income_by_educ = grouped['realinc'].mean()\n",
        "plt.plot(mean_income_by_educ, 'o', alpha = 0.5)\n",
        "\n",
        "# Plot the predictions\n",
        "pred = results.predict(df)\n",
        "plt.plot(df['educ'], pred, label='Age 30')\n",
        "\n",
        "# Label axes\n",
        "plt.xlabel('Education (years)')\n",
        "plt.ylabel('Income (1986 $)')\n",
        "plt.legend()\n",
        "plt.show()"
      ],
      "metadata": {
        "colab": {
          "base_uri": "https://localhost:8080/",
          "height": 279
        },
        "id": "kXk6LnJBk2iL",
        "outputId": "dafcdcce-60fd-4420-b418-3209fc4deba1"
      },
      "execution_count": 22,
      "outputs": [
        {
          "output_type": "display_data",
          "data": {
            "text/plain": [
              "<Figure size 432x288 with 1 Axes>"
            ],
            "image/png": "[encoded data removed]"
          },
          "metadata": {
            "needs_background": "light"
          }
        }
      ]
    },
    {
      "cell_type": "markdown",
      "source": [
        "#Logistic regression\n",
        "\n",
        "##Categorial variable\n",
        "![image.png](data:image/png;base64,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)"
      ],
      "metadata": {
        "id": "KBDQ_ttyk7OM"
      }
    },
    {
      "cell_type": "markdown",
      "source": [
        "with StatsModels, it is easy to inclue cate_var"
      ],
      "metadata": {
        "id": "pEaYkSs6ltNR"
      }
    },
    {
      "cell_type": "markdown",
      "source": [
        "##Sex and Income"
      ],
      "metadata": {
        "id": "OFqBYS7sl5jQ"
      }
    },
    {
      "cell_type": "code",
      "source": [
        "formula = 'realinc ~ educ + educ2 + age + age2 + C(sex)'\n",
        "results_3 = smf.ols(formula, data =gss).fit()\n",
        "results_3.params"
      ],
      "metadata": {
        "colab": {
          "base_uri": "https://localhost:8080/"
        },
        "id": "f9z2LD56mNt5",
        "outputId": "45a3e4a9-dd59-434c-a81b-dbfc11f4299b"
      },
      "execution_count": 23,
      "outputs": [
        {
          "output_type": "execute_result",
          "data": {
            "text/plain": [
              "Intercept     -22369.453641\n",
              "C(sex)[T.2]    -4156.113865\n",
              "educ            -310.247419\n",
              "educ2            150.514091\n",
              "age             1703.047502\n",
              "age2             -17.238711\n",
              "dtype: float64"
            ]
          },
          "metadata": {},
          "execution_count": 23
        }
      ]
    },
    {
      "cell_type": "markdown",
      "source": [
        "**`...+ C(sex)`**\n",
        "\n",
        ", the letter C indicates that sex is a categorical variable.\n",
        "* The regression treats the value sex=1, which is male, as the default, and reports the difference associated with the value sex=2, which is female.\n",
        "* So this result indicates that income for women is about $4100 less than for men, after controlling for age and education."
      ],
      "metadata": {
        "id": "Bgya1AO-mTa-"
      }
    },
    {
      "cell_type": "markdown",
      "source": [
        "##Boolean variable\n",
        "                        *1 là yes và 2 là no*\n",
        "\n",
        "If a categorical variable has only two values, it's called a boolean variable. For example, one of the questions in the General Social Survey asks \"Would you favor or oppose a law which would require a person to obtain a police permit before he or she could buy a gun?\" The variable is called `gunlaw`,"
      ],
      "metadata": {
        "id": "xupaMBzfm08Q"
      }
    },
    {
      "cell_type": "code",
      "source": [
        "gss['gunlaw'].value_counts()\n"
      ],
      "metadata": {
        "colab": {
          "base_uri": "https://localhost:8080/"
        },
        "id": "OGtlOOSjm_1p",
        "outputId": "b42c7fef-4c88-4b77-d220-f8fd87bf64de"
      },
      "execution_count": 24,
      "outputs": [
        {
          "output_type": "execute_result",
          "data": {
            "text/plain": [
              "1.0    30918\n",
              "2.0     9632\n",
              "Name: gunlaw, dtype: int64"
            ]
          },
          "metadata": {},
          "execution_count": 24
        }
      ]
    },
    {
      "cell_type": "markdown",
      "source": [
        "##Logistic Regression\n",
        "\n"
      ],
      "metadata": {
        "id": "BUzom0UKnfls"
      }
    },
    {
      "cell_type": "code",
      "source": [
        "gss['gunlaw'].replace([2],[0], inplace = True)\n",
        "gss['gunlaw'].value_counts()"
      ],
      "metadata": {
        "colab": {
          "base_uri": "https://localhost:8080/"
        },
        "id": "LG6zpUjOnjXA",
        "outputId": "5896cc22-507c-483a-fc89-6b9b4f326f6c"
      },
      "execution_count": 25,
      "outputs": [
        {
          "output_type": "execute_result",
          "data": {
            "text/plain": [
              "1.0    30918\n",
              "0.0     9632\n",
              "Name: gunlaw, dtype: int64"
            ]
          },
          "metadata": {},
          "execution_count": 25
        }
      ]
    },
    {
      "cell_type": "code",
      "source": [
        "gss['gunlaw'].replace([2],[0], inplace = True)\n",
        "gss['gunlaw'].value_counts()\n",
        "\n",
        "formula_1 = 'gunlaw ~ age + age2 + educ + educ2 + C(sex)'\n",
        "results_4 = smf.logit(formula_1, data = gss).fit()"
      ],
      "metadata": {
        "colab": {
          "base_uri": "https://localhost:8080/"
        },
        "id": "zwHu7OmIobqa",
        "outputId": "2fe2cbc5-f9be-4b01-ccf1-3a067bb2551b"
      },
      "execution_count": 27,
      "outputs": [
        {
          "output_type": "stream",
          "name": "stdout",
          "text": [
            "Optimization terminated successfully.\n",
            "         Current function value: 0.533674\n",
            "         Iterations 6\n"
          ]
        }
      ]
    },
    {
      "cell_type": "code",
      "source": [
        "results_4.params\n"
      ],
      "metadata": {
        "colab": {
          "base_uri": "https://localhost:8080/"
        },
        "id": "wOva6qudpLiB",
        "outputId": "5e38dd3a-1f92-4bd3-fb22-7b9fd877371e"
      },
      "execution_count": 28,
      "outputs": [
        {
          "output_type": "execute_result",
          "data": {
            "text/plain": [
              "Intercept      1.653862\n",
              "C(sex)[T.2]    0.757249\n",
              "age           -0.018849\n",
              "age2           0.000189\n",
              "educ          -0.124373\n",
              "educ2          0.006653\n",
              "dtype: float64"
            ]
          },
          "metadata": {},
          "execution_count": 28
        }
      ]
    },
    {
      "cell_type": "markdown",
      "source": [
        "giá trị đang ở dạng log odd. Hiểu sơ là\n",
        "\n",
        "* positive values are associated with things that make the outcome more likely; negative values make the outcome less likely. \n",
        "\n",
        "* For example, the parameter associated with sex=2 is 0.75, which indicates that women are more likely to support this form of gun control. To see how much more likely, we can generate and plot predictions, as we did with linear regression."
      ],
      "metadata": {
        "id": "BeEFIbRBpMHq"
      }
    },
    {
      "cell_type": "markdown",
      "source": [
        "##Generating predictions\n"
      ],
      "metadata": {
        "id": "pU3hQODyplUj"
      }
    },
    {
      "cell_type": "code",
      "source": [
        "df_1 = pd.DataFrame()\n",
        "df_1['age'] = np.linspace(18,89)\n",
        "df_1['educ'] = 12"
      ],
      "metadata": {
        "id": "aTMPc0ltpmK3"
      },
      "execution_count": 29,
      "outputs": []
    },
    {
      "cell_type": "code",
      "source": [
        "df_1['age2'] = df_1['age']**2\n",
        "df_1['educ2'] = df_1['educ']**2"
      ],
      "metadata": {
        "id": "Pe8xoyROqjjK"
      },
      "execution_count": 30,
      "outputs": []
    },
    {
      "cell_type": "code",
      "source": [
        "df_1['sex'] = 1\n",
        "pred1 = results_4.predict(df_1)\n",
        "\n",
        "df_1['sex'] = 2\n",
        "pred2 = results_4.predict(df_1)"
      ],
      "metadata": {
        "id": "r5jMTHojqkv8"
      },
      "execution_count": 33,
      "outputs": []
    },
    {
      "cell_type": "markdown",
      "source": [
        "##Visualizing Result"
      ],
      "metadata": {
        "id": "csw0oIbrrBwc"
      }
    },
    {
      "cell_type": "code",
      "source": [
        "grouped = gss.groupby('age')\n",
        "favor_by_age = grouped['gunlaw'].mean()\n",
        "plt.plot(favor_by_age,'o', alpha =0.5)"
      ],
      "metadata": {
        "colab": {
          "base_uri": "https://localhost:8080/",
          "height": 282
        },
        "id": "kjuI3vzQrVG8",
        "outputId": "df688a47-960b-4c51-89dc-b49e05f14b16"
      },
      "execution_count": 34,
      "outputs": [
        {
          "output_type": "execute_result",
          "data": {
            "text/plain": [
              "[<matplotlib.lines.Line2D at 0x7f6cd68dc1c0>]"
            ]
          },
          "metadata": {},
          "execution_count": 34
        },
        {
          "output_type": "display_data",
          "data": {
            "text/plain": [
              "<Figure size 432x288 with 1 Axes>"
            ],
            "image/png": "[encoded data removed]"
          },
          "metadata": {
            "needs_background": "light"
          }
        }
      ]
    },
    {
      "cell_type": "code",
      "source": [
        "grouped = gss.groupby('age')\n",
        "favor_by_age = grouped['gunlaw'].mean()\n",
        "plt.plot(favor_by_age,'o', alpha =0.5)\n",
        "\n",
        "plt.plot(df_1['age'], pred1, label = 'Male')\n",
        "plt.plot(df_1['age'], pred2, label = 'Female')\n",
        "\n",
        "plt.xlabel('Age')\n",
        "plt.ylabel('Probability of favoring gun law')\n",
        "plt.legend()"
      ],
      "metadata": {
        "colab": {
          "base_uri": "https://localhost:8080/",
          "height": 296
        },
        "id": "t2O-MggDr1E_",
        "outputId": "a09fc66d-b83f-43c8-d696-47da22f614f6"
      },
      "execution_count": 35,
      "outputs": [
        {
          "output_type": "execute_result",
          "data": {
            "text/plain": [
              "<matplotlib.legend.Legend at 0x7f6cdcd86460>"
            ]
          },
          "metadata": {},
          "execution_count": 35
        },
        {
          "output_type": "display_data",
          "data": {
            "text/plain": [
              "<Figure size 432x288 with 1 Axes>"
            ],
            "image/png": "[encoded data removed]"
          },
          "metadata": {
            "needs_background": "light"
          }
        }
      ]
    },
    {
      "cell_type": "markdown",
      "source": [
        "Predicting a binary variable\n",
        "\n",
        "Let's use logistic regression to predict a binary variable. Specifically, we'll use age, sex, and education level to predict support for legalizing cannabis (marijuana) in the U.S.\n",
        "\n",
        "In the GSS dataset, the variable grass records the answer to the question \"Do you think the use of marijuana should be made legal or not?\""
      ],
      "metadata": {
        "id": "fI_OjinVs2UO"
      }
    },
    {
      "cell_type": "code",
      "source": [
        "# Recode grass\n",
        "gss['grass'].replace(2, 0, inplace=True)\n",
        "\n",
        "# Run logistic regression\n",
        "results = smf.logit('grass ~ age + age2 + educ + educ2 + C(sex)', data=gss).fit()\n",
        "results.params\n",
        "\n",
        "# Make a DataFrame with a range of ages\n",
        "df = pd.DataFrame()\n",
        "df['age'] = np.linspace(18, 89)\n",
        "df['age2'] = df['age']**2\n",
        "\n",
        "# Set the education level to 12\n",
        "df['educ'] = 12\n",
        "df['educ2'] = df['educ']**2\n",
        "\n",
        "# Generate predictions for men and women\n",
        "df['sex'] = 1\n",
        "pred1 = results.predict(df)\n",
        "\n",
        "df['sex'] = 2\n",
        "pred2 = results.predict(df)\n",
        "\n",
        "plt.clf()\n",
        "grouped = gss.groupby('age')\n",
        "favor_by_age = grouped['grass'].mean()\n",
        "plt.plot(favor_by_age, 'o', alpha=0.5)\n",
        "\n",
        "plt.plot(df['age'], pred1, label='Male')\n",
        "plt.plot(df['age'], pred2, label='Female')\n",
        "\n",
        "plt.xlabel('Age')\n",
        "plt.ylabel('Probability of favoring legalization')\n",
        "plt.legend()\n",
        "plt.show()"
      ],
      "metadata": {
        "colab": {
          "base_uri": "https://localhost:8080/",
          "height": 331
        },
        "id": "QzeSg6WRs3S8",
        "outputId": "3dada6be-6fbf-422a-c34e-0c236ef64051"
      },
      "execution_count": 36,
      "outputs": [
        {
          "output_type": "stream",
          "name": "stdout",
          "text": [
            "Optimization terminated successfully.\n",
            "         Current function value: 0.588510\n",
            "         Iterations 6\n"
          ]
        },
        {
          "output_type": "display_data",
          "data": {
            "text/plain": [
              "<Figure size 432x288 with 1 Axes>"
            ],
            "image/png": "[encoded data removed]"
          },
          "metadata": {
            "needs_background": "light"
          }
        }
      ]
    }
  ]
}