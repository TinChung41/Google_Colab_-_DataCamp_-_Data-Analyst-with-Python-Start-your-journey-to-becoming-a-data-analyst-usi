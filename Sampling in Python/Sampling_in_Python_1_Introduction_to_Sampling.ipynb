{
  "nbformat": 4,
  "nbformat_minor": 0,
  "metadata": {
    "colab": {
      "provenance": []
    },
    "kernelspec": {
      "name": "python3",
      "display_name": "Python 3"
    },
    "language_info": {
      "name": "python"
    }
  },
  "cells": [
    {
      "cell_type": "code",
      "execution_count": 1,
      "metadata": {
        "colab": {
          "base_uri": "https://localhost:8080/"
        },
        "id": "IGmrgU4fGacj",
        "outputId": "ce74d6f7-b360-4bd8-b3a7-a486195936b4"
      },
      "outputs": [
        {
          "output_type": "stream",
          "name": "stdout",
          "text": [
            "Mounted at /content/drive\n"
          ]
        }
      ],
      "source": [
        "from google.colab import drive\n",
        "drive.mount('/content/drive')\n"
      ]
    },
    {
      "cell_type": "code",
      "source": [
        "import numpy as np\n",
        "import pandas as pd\n",
        "import matplotlib.pyplot as plt\n",
        "import seaborn as sns\n",
        "from scipy.stats import binom\n",
        "from scipy.stats import linregress\n",
        "\n",
        "import statsmodels.formula.api as smf"
      ],
      "metadata": {
        "id": "c6DcqI93GsiC"
      },
      "execution_count": 2,
      "outputs": []
    }
  ]
}