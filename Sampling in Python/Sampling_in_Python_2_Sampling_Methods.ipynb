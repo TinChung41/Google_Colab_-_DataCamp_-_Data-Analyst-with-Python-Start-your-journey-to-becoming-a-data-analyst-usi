{
  "cells": [
    {
      "cell_type": "code",
      "execution_count": 5,
      "metadata": {
        "colab": {
          "base_uri": "https://localhost:8080/"
        },
        "id": "OvNWmUZWZ65t",
        "outputId": "f34334cc-3e9e-4b10-8ebf-703595fcc473"
      },
      "outputs": [
        {
          "data": {
            "text/plain": [
              "\"from google.colab import drive\\ndrive.mount('/content/drive')\""
            ]
          },
          "execution_count": 5,
          "metadata": {},
          "output_type": "execute_result"
        }
      ],
      "source": [
        "'''from google.colab import drive\n",
        "drive.mount('/content/drive')'''\n"
      ]
    },
    {
      "cell_type": "code",
      "execution_count": 6,
      "metadata": {
        "colab": {
          "base_uri": "https://localhost:8080/",
          "height": 54
        },
        "id": "_LoGRkuMaUFN",
        "outputId": "0a9aa899-52cd-468e-ee60-b1fdd84a4d84"
      },
      "outputs": [
        {
          "data": {
            "text/plain": [
              "'from scipy.stats import binom\\nfrom scipy.stats import linregress\\n\\nimport statsmodels.formula.api as smf'"
            ]
          },
          "execution_count": 6,
          "metadata": {},
          "output_type": "execute_result"
        }
      ],
      "source": [
        "import numpy as np\n",
        "import pandas as pd\n",
        "import matplotlib.pyplot as plt\n",
        "import seaborn as sns\n",
        "import random\n",
        "\n",
        "'''from scipy.stats import binom\n",
        "from scipy.stats import linregress\n",
        "\n",
        "import statsmodels.formula.api as smf'''"
      ]
    },
    {
      "cell_type": "code",
      "execution_count": 7,
      "metadata": {
        "id": "WN6woOBgzv2v"
      },
      "outputs": [],
      "source": [
        "#For VScode\n",
        "coffee_ratings = pd.read_feather(r'D:\\GitHub Project\\Google_Colab_DataCamp_Data_Analyst\\Sampling in Python\\Dataset\\coffee_ratings_full.feather' )\n",
        "\n",
        "\n",
        "spotify_population = pd.read_feather(r'D:\\GitHub Project\\Google_Colab_DataCamp_Data_Analyst\\Sampling in Python\\Dataset\\spotify_2000_2020.feather' )\n",
        "\n",
        "attrition_pop = pd.read_feather(r'D:\\GitHub Project\\Google_Colab_DataCamp_Data_Analyst\\Sampling in Python\\Dataset\\attrition.feather')\n",
        "\n",
        "#For colab\n",
        "#coffee_ratings = pd.read_feather(r'/content/drive/MyDrive/DataCamp and Linkedin Learning/CAREER TRACK Data Analyst with Python/Dataset/Introduction to Sampling/coffee_ratings_full.feather')\n",
        "\n",
        "#spotify_population = pd.read_feather(r'/content/drive/MyDrive/DataCamp and Linkedin Learning/CAREER TRACK Data Analyst with Python/Dataset/Introduction to Sampling/spotify_2000_2020.feather')\n",
        "\n",
        "#attrition_pop = pd.read_feather(r'/content/drive/MyDrive/DataCamp and Linkedin Learning/CAREER TRACK Data Analyst with Python/Dataset/Introduction to Sampling/attrition.feather')\n"
      ]
    },
    {
      "cell_type": "code",
      "execution_count": 8,
      "metadata": {
        "colab": {
          "base_uri": "https://localhost:8080/"
        },
        "id": "rPumHR8bekv2",
        "outputId": "43678074-4bb6-429b-fa23-b67e6e1cd60f"
      },
      "outputs": [
        {
          "data": {
            "text/plain": [
              "\"from google.colab import drive\\ndrive.mount('/content/drive')\""
            ]
          },
          "execution_count": 8,
          "metadata": {},
          "output_type": "execute_result"
        }
      ],
      "source": [
        "'''from google.colab import drive\n",
        "drive.mount('/content/drive')'''"
      ]
    },
    {
      "attachments": {},
      "cell_type": "markdown",
      "metadata": {
        "id": "Qsy-v_J9bFAo"
      },
      "source": [
        "#Simple random and systematic sampling\n"
      ]
    },
    {
      "cell_type": "code",
      "execution_count": 9,
      "metadata": {
        "colab": {
          "base_uri": "https://localhost:8080/",
          "height": 455
        },
        "id": "KhX0ZiT1bFuz",
        "outputId": "02072edd-6555-4e88-89b0-4db4241a824e"
      },
      "outputs": [
        {
          "data": {
            "text/html": [
              "<div>\n",
              "<style scoped>\n",
              "    .dataframe tbody tr th:only-of-type {\n",
              "        vertical-align: middle;\n",
              "    }\n",
              "\n",
              "    .dataframe tbody tr th {\n",
              "        vertical-align: top;\n",
              "    }\n",
              "\n",
              "    .dataframe thead th {\n",
              "        text-align: right;\n",
              "    }\n",
              "</style>\n",
              "<table border=\"1\" class=\"dataframe\">\n",
              "  <thead>\n",
              "    <tr style=\"text-align: right;\">\n",
              "      <th></th>\n",
              "      <th>total_cup_points</th>\n",
              "      <th>species</th>\n",
              "      <th>owner</th>\n",
              "      <th>country_of_origin</th>\n",
              "      <th>farm_name</th>\n",
              "      <th>lot_number</th>\n",
              "      <th>mill</th>\n",
              "      <th>ico_number</th>\n",
              "      <th>company</th>\n",
              "      <th>altitude</th>\n",
              "      <th>...</th>\n",
              "      <th>color</th>\n",
              "      <th>category_two_defects</th>\n",
              "      <th>expiration</th>\n",
              "      <th>certification_body</th>\n",
              "      <th>certification_address</th>\n",
              "      <th>certification_contact</th>\n",
              "      <th>unit_of_measurement</th>\n",
              "      <th>altitude_low_meters</th>\n",
              "      <th>altitude_high_meters</th>\n",
              "      <th>altitude_mean_meters</th>\n",
              "    </tr>\n",
              "  </thead>\n",
              "  <tbody>\n",
              "    <tr>\n",
              "      <th>437</th>\n",
              "      <td>83.25</td>\n",
              "      <td>Arabica</td>\n",
              "      <td>exportadora de cafe condor s.a</td>\n",
              "      <td>Colombia</td>\n",
              "      <td>None</td>\n",
              "      <td>None</td>\n",
              "      <td>trilladora bonanza - armenia quindioa</td>\n",
              "      <td>3-68-0205</td>\n",
              "      <td>None</td>\n",
              "      <td>1600-1800msnm</td>\n",
              "      <td>...</td>\n",
              "      <td>None</td>\n",
              "      <td>0.0</td>\n",
              "      <td>June 13th, 2012</td>\n",
              "      <td>Almacafé</td>\n",
              "      <td>e493c36c2d076bf273064f7ac23ad562af257a25</td>\n",
              "      <td>70d3c0c26f89e00fdae6fb39ff54f0d2eb1c38ab</td>\n",
              "      <td>m</td>\n",
              "      <td>1600.0</td>\n",
              "      <td>1800.0</td>\n",
              "      <td>1700.0</td>\n",
              "    </tr>\n",
              "    <tr>\n",
              "      <th>285</th>\n",
              "      <td>83.83</td>\n",
              "      <td>Arabica</td>\n",
              "      <td>ipanema coffees</td>\n",
              "      <td>Brazil</td>\n",
              "      <td>fazenda rio verde</td>\n",
              "      <td>None</td>\n",
              "      <td>ipanema coffees</td>\n",
              "      <td>002/4177/0121</td>\n",
              "      <td>ipanema coffees</td>\n",
              "      <td>1260</td>\n",
              "      <td>...</td>\n",
              "      <td>Green</td>\n",
              "      <td>0.0</td>\n",
              "      <td>December 26th, 2014</td>\n",
              "      <td>Specialty Coffee Association</td>\n",
              "      <td>36d0d00a3724338ba7937c52a378d085f2172daa</td>\n",
              "      <td>0878a7d4b9d35ddbf0fe2ce69a2062cceb45a660</td>\n",
              "      <td>m</td>\n",
              "      <td>1260.0</td>\n",
              "      <td>1260.0</td>\n",
              "      <td>1260.0</td>\n",
              "    </tr>\n",
              "    <tr>\n",
              "      <th>784</th>\n",
              "      <td>82.08</td>\n",
              "      <td>Arabica</td>\n",
              "      <td>cafe politico</td>\n",
              "      <td>Colombia</td>\n",
              "      <td>None</td>\n",
              "      <td>None</td>\n",
              "      <td>None</td>\n",
              "      <td>3-59-1656</td>\n",
              "      <td>cafe politico</td>\n",
              "      <td>None</td>\n",
              "      <td>...</td>\n",
              "      <td>Green</td>\n",
              "      <td>0.0</td>\n",
              "      <td>September 12th, 2015</td>\n",
              "      <td>Specialty Coffee Association</td>\n",
              "      <td>36d0d00a3724338ba7937c52a378d085f2172daa</td>\n",
              "      <td>0878a7d4b9d35ddbf0fe2ce69a2062cceb45a660</td>\n",
              "      <td>m</td>\n",
              "      <td>NaN</td>\n",
              "      <td>NaN</td>\n",
              "      <td>NaN</td>\n",
              "    </tr>\n",
              "    <tr>\n",
              "      <th>648</th>\n",
              "      <td>82.58</td>\n",
              "      <td>Arabica</td>\n",
              "      <td>exportadora de cafe condor s.a</td>\n",
              "      <td>Colombia</td>\n",
              "      <td>None</td>\n",
              "      <td>None</td>\n",
              "      <td>trilladora boananza</td>\n",
              "      <td>3-68-0140</td>\n",
              "      <td>exportadora de cafe condor s.a</td>\n",
              "      <td>1750 msnm</td>\n",
              "      <td>...</td>\n",
              "      <td>Green</td>\n",
              "      <td>0.0</td>\n",
              "      <td>February 27th, 2014</td>\n",
              "      <td>Almacafé</td>\n",
              "      <td>e493c36c2d076bf273064f7ac23ad562af257a25</td>\n",
              "      <td>70d3c0c26f89e00fdae6fb39ff54f0d2eb1c38ab</td>\n",
              "      <td>m</td>\n",
              "      <td>1750.0</td>\n",
              "      <td>1750.0</td>\n",
              "      <td>1750.0</td>\n",
              "    </tr>\n",
              "    <tr>\n",
              "      <th>155</th>\n",
              "      <td>84.58</td>\n",
              "      <td>Arabica</td>\n",
              "      <td>exportadora de cafe condor s.a</td>\n",
              "      <td>Colombia</td>\n",
              "      <td>various</td>\n",
              "      <td>None</td>\n",
              "      <td>trilladora boananza</td>\n",
              "      <td>3-68-0005</td>\n",
              "      <td>exportadora de cafe condor s.a</td>\n",
              "      <td>1800 msnm</td>\n",
              "      <td>...</td>\n",
              "      <td>Green</td>\n",
              "      <td>6.0</td>\n",
              "      <td>October 9th, 2013</td>\n",
              "      <td>Almacafé</td>\n",
              "      <td>e493c36c2d076bf273064f7ac23ad562af257a25</td>\n",
              "      <td>70d3c0c26f89e00fdae6fb39ff54f0d2eb1c38ab</td>\n",
              "      <td>m</td>\n",
              "      <td>1800.0</td>\n",
              "      <td>1800.0</td>\n",
              "      <td>1800.0</td>\n",
              "    </tr>\n",
              "  </tbody>\n",
              "</table>\n",
              "<p>5 rows × 43 columns</p>\n",
              "</div>"
            ],
            "text/plain": [
              "     total_cup_points  species                           owner  \\\n",
              "437             83.25  Arabica  exportadora de cafe condor s.a   \n",
              "285             83.83  Arabica                 ipanema coffees   \n",
              "784             82.08  Arabica                   cafe politico   \n",
              "648             82.58  Arabica  exportadora de cafe condor s.a   \n",
              "155             84.58  Arabica  exportadora de cafe condor s.a   \n",
              "\n",
              "    country_of_origin          farm_name lot_number  \\\n",
              "437          Colombia               None       None   \n",
              "285            Brazil  fazenda rio verde       None   \n",
              "784          Colombia               None       None   \n",
              "648          Colombia               None       None   \n",
              "155          Colombia            various       None   \n",
              "\n",
              "                                      mill     ico_number  \\\n",
              "437  trilladora bonanza - armenia quindioa      3-68-0205   \n",
              "285                        ipanema coffees  002/4177/0121   \n",
              "784                                   None      3-59-1656   \n",
              "648                    trilladora boananza      3-68-0140   \n",
              "155                    trilladora boananza      3-68-0005   \n",
              "\n",
              "                            company       altitude  ...  color  \\\n",
              "437                            None  1600-1800msnm  ...   None   \n",
              "285                 ipanema coffees           1260  ...  Green   \n",
              "784                   cafe politico           None  ...  Green   \n",
              "648  exportadora de cafe condor s.a      1750 msnm  ...  Green   \n",
              "155  exportadora de cafe condor s.a      1800 msnm  ...  Green   \n",
              "\n",
              "    category_two_defects            expiration            certification_body  \\\n",
              "437                  0.0       June 13th, 2012                      Almacafé   \n",
              "285                  0.0   December 26th, 2014  Specialty Coffee Association   \n",
              "784                  0.0  September 12th, 2015  Specialty Coffee Association   \n",
              "648                  0.0   February 27th, 2014                      Almacafé   \n",
              "155                  6.0     October 9th, 2013                      Almacafé   \n",
              "\n",
              "                        certification_address  \\\n",
              "437  e493c36c2d076bf273064f7ac23ad562af257a25   \n",
              "285  36d0d00a3724338ba7937c52a378d085f2172daa   \n",
              "784  36d0d00a3724338ba7937c52a378d085f2172daa   \n",
              "648  e493c36c2d076bf273064f7ac23ad562af257a25   \n",
              "155  e493c36c2d076bf273064f7ac23ad562af257a25   \n",
              "\n",
              "                        certification_contact unit_of_measurement  \\\n",
              "437  70d3c0c26f89e00fdae6fb39ff54f0d2eb1c38ab                   m   \n",
              "285  0878a7d4b9d35ddbf0fe2ce69a2062cceb45a660                   m   \n",
              "784  0878a7d4b9d35ddbf0fe2ce69a2062cceb45a660                   m   \n",
              "648  70d3c0c26f89e00fdae6fb39ff54f0d2eb1c38ab                   m   \n",
              "155  70d3c0c26f89e00fdae6fb39ff54f0d2eb1c38ab                   m   \n",
              "\n",
              "    altitude_low_meters altitude_high_meters altitude_mean_meters  \n",
              "437              1600.0               1800.0               1700.0  \n",
              "285              1260.0               1260.0               1260.0  \n",
              "784                 NaN                  NaN                  NaN  \n",
              "648              1750.0               1750.0               1750.0  \n",
              "155              1800.0               1800.0               1800.0  \n",
              "\n",
              "[5 rows x 43 columns]"
            ]
          },
          "execution_count": 9,
          "metadata": {},
          "output_type": "execute_result"
        }
      ],
      "source": [
        "coffee_ratings.sample(n=5, random_state= 19000113)\n"
      ]
    },
    {
      "cell_type": "code",
      "execution_count": 10,
      "metadata": {
        "colab": {
          "base_uri": "https://localhost:8080/"
        },
        "id": "y0aW5HH3bCHf",
        "outputId": "19db2647-61ea-408e-fc7a-663f6a01851c"
      },
      "outputs": [
        {
          "name": "stdout",
          "output_type": "stream",
          "text": [
            "1338\n"
          ]
        }
      ],
      "source": [
        "sample_size = 5\n",
        "pop_size = len(coffee_ratings)\n",
        "print(pop_size)"
      ]
    },
    {
      "cell_type": "code",
      "execution_count": 11,
      "metadata": {
        "colab": {
          "base_uri": "https://localhost:8080/"
        },
        "id": "wXMvbIdPbDOX",
        "outputId": "8fcc812a-ea40-4236-e038-e312af1371be"
      },
      "outputs": [
        {
          "name": "stdout",
          "output_type": "stream",
          "text": [
            "267\n"
          ]
        }
      ],
      "source": [
        "interval = pop_size//sample_size\n",
        "print(interval)\n",
        "#tạo interval để chọn sample size theo ý muốn"
      ]
    },
    {
      "cell_type": "code",
      "execution_count": 12,
      "metadata": {
        "colab": {
          "base_uri": "https://localhost:8080/",
          "height": 608
        },
        "id": "yD1YO-zLbEUL",
        "outputId": "1c804c78-0a29-490b-e25c-e2d79a6fc0be"
      },
      "outputs": [
        {
          "data": {
            "text/html": [
              "<div>\n",
              "<style scoped>\n",
              "    .dataframe tbody tr th:only-of-type {\n",
              "        vertical-align: middle;\n",
              "    }\n",
              "\n",
              "    .dataframe tbody tr th {\n",
              "        vertical-align: top;\n",
              "    }\n",
              "\n",
              "    .dataframe thead th {\n",
              "        text-align: right;\n",
              "    }\n",
              "</style>\n",
              "<table border=\"1\" class=\"dataframe\">\n",
              "  <thead>\n",
              "    <tr style=\"text-align: right;\">\n",
              "      <th></th>\n",
              "      <th>total_cup_points</th>\n",
              "      <th>species</th>\n",
              "      <th>owner</th>\n",
              "      <th>country_of_origin</th>\n",
              "      <th>farm_name</th>\n",
              "      <th>lot_number</th>\n",
              "      <th>mill</th>\n",
              "      <th>ico_number</th>\n",
              "      <th>company</th>\n",
              "      <th>altitude</th>\n",
              "      <th>...</th>\n",
              "      <th>color</th>\n",
              "      <th>category_two_defects</th>\n",
              "      <th>expiration</th>\n",
              "      <th>certification_body</th>\n",
              "      <th>certification_address</th>\n",
              "      <th>certification_contact</th>\n",
              "      <th>unit_of_measurement</th>\n",
              "      <th>altitude_low_meters</th>\n",
              "      <th>altitude_high_meters</th>\n",
              "      <th>altitude_mean_meters</th>\n",
              "    </tr>\n",
              "  </thead>\n",
              "  <tbody>\n",
              "    <tr>\n",
              "      <th>0</th>\n",
              "      <td>90.58</td>\n",
              "      <td>Arabica</td>\n",
              "      <td>metad plc</td>\n",
              "      <td>Ethiopia</td>\n",
              "      <td>metad plc</td>\n",
              "      <td>None</td>\n",
              "      <td>metad plc</td>\n",
              "      <td>2014/2015</td>\n",
              "      <td>metad agricultural developmet plc</td>\n",
              "      <td>1950-2200</td>\n",
              "      <td>...</td>\n",
              "      <td>Green</td>\n",
              "      <td>0.0</td>\n",
              "      <td>April 3rd, 2016</td>\n",
              "      <td>METAD Agricultural Development plc</td>\n",
              "      <td>309fcf77415a3661ae83e027f7e5f05dad786e44</td>\n",
              "      <td>19fef5a731de2db57d16da10287413f5f99bc2dd</td>\n",
              "      <td>m</td>\n",
              "      <td>1950.0</td>\n",
              "      <td>2200.0</td>\n",
              "      <td>2075.0</td>\n",
              "    </tr>\n",
              "    <tr>\n",
              "      <th>267</th>\n",
              "      <td>83.92</td>\n",
              "      <td>Arabica</td>\n",
              "      <td>federacion nacional de cafeteros</td>\n",
              "      <td>Colombia</td>\n",
              "      <td>None</td>\n",
              "      <td>None</td>\n",
              "      <td>None</td>\n",
              "      <td>01-1969</td>\n",
              "      <td>federacion nacional de cafeteros</td>\n",
              "      <td>None</td>\n",
              "      <td>...</td>\n",
              "      <td>None</td>\n",
              "      <td>1.0</td>\n",
              "      <td>March 11th, 2016</td>\n",
              "      <td>Almacafé</td>\n",
              "      <td>e493c36c2d076bf273064f7ac23ad562af257a25</td>\n",
              "      <td>70d3c0c26f89e00fdae6fb39ff54f0d2eb1c38ab</td>\n",
              "      <td>m</td>\n",
              "      <td>NaN</td>\n",
              "      <td>NaN</td>\n",
              "      <td>NaN</td>\n",
              "    </tr>\n",
              "    <tr>\n",
              "      <th>534</th>\n",
              "      <td>82.92</td>\n",
              "      <td>Arabica</td>\n",
              "      <td>consejo salvadoreño del café</td>\n",
              "      <td>El Salvador</td>\n",
              "      <td>santa josefita</td>\n",
              "      <td>1-198</td>\n",
              "      <td>beneficio cuzcachapa</td>\n",
              "      <td>09-030-273</td>\n",
              "      <td>soc. coop. cuzcachapa de r.l.</td>\n",
              "      <td>1350</td>\n",
              "      <td>...</td>\n",
              "      <td>Green</td>\n",
              "      <td>1.0</td>\n",
              "      <td>August 28th, 2018</td>\n",
              "      <td>Salvadoran Coffee Council</td>\n",
              "      <td>3d4987e3b91399dbb3938b5bdf53893b6ef45be1</td>\n",
              "      <td>27b21e368fb8291cbea02c60623fe6c98f84524d</td>\n",
              "      <td>m</td>\n",
              "      <td>1350.0</td>\n",
              "      <td>1350.0</td>\n",
              "      <td>1350.0</td>\n",
              "    </tr>\n",
              "    <tr>\n",
              "      <th>801</th>\n",
              "      <td>82.00</td>\n",
              "      <td>Arabica</td>\n",
              "      <td>lin, che-hao krude 林哲豪</td>\n",
              "      <td>Taiwan</td>\n",
              "      <td>you siang coffee farmtainan, taiwan 台灣台南優香咖啡</td>\n",
              "      <td>None</td>\n",
              "      <td>you siang coffee farmtainan, taiwan 台灣台南優香咖啡</td>\n",
              "      <td>Taiwan</td>\n",
              "      <td>red on tree co., ltd.</td>\n",
              "      <td>600m</td>\n",
              "      <td>...</td>\n",
              "      <td>Green</td>\n",
              "      <td>0.0</td>\n",
              "      <td>July 22nd, 2015</td>\n",
              "      <td>Specialty Coffee Association</td>\n",
              "      <td>36d0d00a3724338ba7937c52a378d085f2172daa</td>\n",
              "      <td>0878a7d4b9d35ddbf0fe2ce69a2062cceb45a660</td>\n",
              "      <td>m</td>\n",
              "      <td>600.0</td>\n",
              "      <td>600.0</td>\n",
              "      <td>600.0</td>\n",
              "    </tr>\n",
              "    <tr>\n",
              "      <th>1068</th>\n",
              "      <td>80.50</td>\n",
              "      <td>Arabica</td>\n",
              "      <td>cqi taiwan icp cqi台灣合作夥伴</td>\n",
              "      <td>Taiwan</td>\n",
              "      <td>王秋金</td>\n",
              "      <td>1</td>\n",
              "      <td>non</td>\n",
              "      <td>None</td>\n",
              "      <td>王秋金</td>\n",
              "      <td>50</td>\n",
              "      <td>...</td>\n",
              "      <td>Blue-Green</td>\n",
              "      <td>0.0</td>\n",
              "      <td>December 8th, 2018</td>\n",
              "      <td>Blossom Valley International</td>\n",
              "      <td>fc45352eee499d8470cf94c9827922fb745bf815</td>\n",
              "      <td>de73fc9412358b523d3a641501e542f31d2668b0</td>\n",
              "      <td>m</td>\n",
              "      <td>50.0</td>\n",
              "      <td>50.0</td>\n",
              "      <td>50.0</td>\n",
              "    </tr>\n",
              "    <tr>\n",
              "      <th>1335</th>\n",
              "      <td>77.17</td>\n",
              "      <td>Robusta</td>\n",
              "      <td>james moore</td>\n",
              "      <td>United States</td>\n",
              "      <td>fazenda cazengo</td>\n",
              "      <td>None</td>\n",
              "      <td>cafe cazengo</td>\n",
              "      <td>None</td>\n",
              "      <td>global opportunity fund</td>\n",
              "      <td>795 meters</td>\n",
              "      <td>...</td>\n",
              "      <td>None</td>\n",
              "      <td>6.0</td>\n",
              "      <td>December 23rd, 2015</td>\n",
              "      <td>Specialty Coffee Association</td>\n",
              "      <td>ff7c18ad303d4b603ac3f8cff7e611ffc735e720</td>\n",
              "      <td>352d0cf7f3e9be14dad7df644ad65efc27605ae2</td>\n",
              "      <td>m</td>\n",
              "      <td>795.0</td>\n",
              "      <td>795.0</td>\n",
              "      <td>795.0</td>\n",
              "    </tr>\n",
              "  </tbody>\n",
              "</table>\n",
              "<p>6 rows × 43 columns</p>\n",
              "</div>"
            ],
            "text/plain": [
              "      total_cup_points  species                             owner  \\\n",
              "0                90.58  Arabica                         metad plc   \n",
              "267              83.92  Arabica  federacion nacional de cafeteros   \n",
              "534              82.92  Arabica      consejo salvadoreño del café   \n",
              "801              82.00  Arabica            lin, che-hao krude 林哲豪   \n",
              "1068             80.50  Arabica          cqi taiwan icp cqi台灣合作夥伴   \n",
              "1335             77.17  Robusta                       james moore   \n",
              "\n",
              "     country_of_origin                                     farm_name  \\\n",
              "0             Ethiopia                                     metad plc   \n",
              "267           Colombia                                          None   \n",
              "534        El Salvador                                santa josefita   \n",
              "801             Taiwan  you siang coffee farmtainan, taiwan 台灣台南優香咖啡   \n",
              "1068            Taiwan                                           王秋金   \n",
              "1335     United States                               fazenda cazengo   \n",
              "\n",
              "     lot_number                                          mill  ico_number  \\\n",
              "0          None                                     metad plc   2014/2015   \n",
              "267        None                                          None     01-1969   \n",
              "534       1-198                          beneficio cuzcachapa  09-030-273   \n",
              "801        None  you siang coffee farmtainan, taiwan 台灣台南優香咖啡      Taiwan   \n",
              "1068          1                                           non        None   \n",
              "1335       None                                  cafe cazengo        None   \n",
              "\n",
              "                                company    altitude  ...       color  \\\n",
              "0     metad agricultural developmet plc   1950-2200  ...       Green   \n",
              "267    federacion nacional de cafeteros        None  ...        None   \n",
              "534       soc. coop. cuzcachapa de r.l.        1350  ...       Green   \n",
              "801               red on tree co., ltd.        600m  ...       Green   \n",
              "1068                                王秋金          50  ...  Blue-Green   \n",
              "1335            global opportunity fund  795 meters  ...        None   \n",
              "\n",
              "     category_two_defects           expiration  \\\n",
              "0                     0.0      April 3rd, 2016   \n",
              "267                   1.0     March 11th, 2016   \n",
              "534                   1.0    August 28th, 2018   \n",
              "801                   0.0      July 22nd, 2015   \n",
              "1068                  0.0   December 8th, 2018   \n",
              "1335                  6.0  December 23rd, 2015   \n",
              "\n",
              "                      certification_body  \\\n",
              "0     METAD Agricultural Development plc   \n",
              "267                             Almacafé   \n",
              "534            Salvadoran Coffee Council   \n",
              "801         Specialty Coffee Association   \n",
              "1068        Blossom Valley International   \n",
              "1335        Specialty Coffee Association   \n",
              "\n",
              "                         certification_address  \\\n",
              "0     309fcf77415a3661ae83e027f7e5f05dad786e44   \n",
              "267   e493c36c2d076bf273064f7ac23ad562af257a25   \n",
              "534   3d4987e3b91399dbb3938b5bdf53893b6ef45be1   \n",
              "801   36d0d00a3724338ba7937c52a378d085f2172daa   \n",
              "1068  fc45352eee499d8470cf94c9827922fb745bf815   \n",
              "1335  ff7c18ad303d4b603ac3f8cff7e611ffc735e720   \n",
              "\n",
              "                         certification_contact unit_of_measurement  \\\n",
              "0     19fef5a731de2db57d16da10287413f5f99bc2dd                   m   \n",
              "267   70d3c0c26f89e00fdae6fb39ff54f0d2eb1c38ab                   m   \n",
              "534   27b21e368fb8291cbea02c60623fe6c98f84524d                   m   \n",
              "801   0878a7d4b9d35ddbf0fe2ce69a2062cceb45a660                   m   \n",
              "1068  de73fc9412358b523d3a641501e542f31d2668b0                   m   \n",
              "1335  352d0cf7f3e9be14dad7df644ad65efc27605ae2                   m   \n",
              "\n",
              "     altitude_low_meters altitude_high_meters altitude_mean_meters  \n",
              "0                 1950.0               2200.0               2075.0  \n",
              "267                  NaN                  NaN                  NaN  \n",
              "534               1350.0               1350.0               1350.0  \n",
              "801                600.0                600.0                600.0  \n",
              "1068                50.0                 50.0                 50.0  \n",
              "1335               795.0                795.0                795.0  \n",
              "\n",
              "[6 rows x 43 columns]"
            ]
          },
          "execution_count": 12,
          "metadata": {},
          "output_type": "execute_result"
        }
      ],
      "source": [
        "coffee_ratings.iloc[::interval]\n"
      ]
    },
    {
      "attachments": {},
      "cell_type": "markdown",
      "metadata": {
        "id": "l575sxVNbYJd"
      },
      "source": [
        "## The trouble with systematic sampling\n",
        "tạo ra bias sample như đã nói ở trên\n",
        "\n",
        "In general, it is only safe to use systematic sampling if a plot like this has no pattern; that is, it just looks like noise."
      ]
    },
    {
      "cell_type": "code",
      "execution_count": 13,
      "metadata": {
        "colab": {
          "base_uri": "https://localhost:8080/",
          "height": 279
        },
        "id": "yvd48rBXcmDb",
        "outputId": "a85caa9a-659a-4878-b0ad-db06f8cf2ae2"
      },
      "outputs": [
        {
          "data": {
            "image/png": "[encoded data removed]",
            "text/plain": [
              "<Figure size 432x288 with 1 Axes>"
            ]
          },
          "metadata": {
            "needs_background": "light"
          },
          "output_type": "display_data"
        }
      ],
      "source": [
        "coffee_ratings_with_id = coffee_ratings.reset_index()\n",
        "coffee_ratings_with_id.plot(x ='index', y=\"aftertaste\", kind =\"scatter\")\n",
        "plt.show()"
      ]
    },
    {
      "cell_type": "code",
      "execution_count": 14,
      "metadata": {
        "colab": {
          "base_uri": "https://localhost:8080/",
          "height": 279
        },
        "id": "Uh1aBUOtc8cn",
        "outputId": "f3660766-d243-4f01-d551-7c8c7c431218"
      },
      "outputs": [
        {
          "data": {
            "image/png": "[encoded data removed]",
            "text/plain": [
              "<Figure size 432x288 with 1 Axes>"
            ]
          },
          "metadata": {
            "needs_background": "light"
          },
          "output_type": "display_data"
        }
      ],
      "source": [
        "''' Specifying drop equals True clears the previous row indexes, \n",
        "and chaining to another reset_index call creates a column containing these new indexes. '''\n",
        "shuffled = coffee_ratings.sample(frac = 1) #frac = 1, sample whole dataset\n",
        "shuffled = shuffled.reset_index(drop = True).reset_index()\n",
        "shuffled.plot(x ='index', y=\"aftertaste\", kind =\"scatter\")\n",
        "plt.show()"
      ]
    },
    {
      "attachments": {},
      "cell_type": "markdown",
      "metadata": {
        "id": "YQwDg08Me17C"
      },
      "source": [
        "###Simple random sampling\n",
        "The simplest method of sampling a population is the one you've seen already. It is known as simple random sampling (sometimes abbreviated to \"SRS\"), and involves picking rows at random, one at a time, where each row has the same chance of being picked as any other.\n",
        "\n",
        "In this chapter, you'll apply sampling methods to a synthetic (fictional) employee attrition dataset from IBM, where \"attrition\" in this context means leaving the company.\n",
        "\n",
        "attrition_pop is available; pandas as pd is loaded."
      ]
    },
    {
      "cell_type": "code",
      "execution_count": 15,
      "metadata": {
        "colab": {
          "base_uri": "https://localhost:8080/"
        },
        "id": "gmadAeGfe2t8",
        "outputId": "442ad196-0237-4aba-fcd0-5d0a1827c6db"
      },
      "outputs": [
        {
          "name": "stdout",
          "output_type": "stream",
          "text": [
            "      Age  Attrition     BusinessTravel  DailyRate            Department  \\\n",
            "1134   35        0.0      Travel_Rarely        583  Research_Development   \n",
            "1150   52        0.0         Non-Travel        585                 Sales   \n",
            "531    33        0.0      Travel_Rarely        931  Research_Development   \n",
            "395    31        0.0      Travel_Rarely       1332  Research_Development   \n",
            "392    29        0.0      Travel_Rarely        942  Research_Development   \n",
            "...   ...        ...                ...        ...                   ...   \n",
            "361    27        0.0  Travel_Frequently       1410                 Sales   \n",
            "1180   36        0.0      Travel_Rarely        530                 Sales   \n",
            "230    26        0.0      Travel_Rarely       1443                 Sales   \n",
            "211    29        0.0  Travel_Frequently        410  Research_Development   \n",
            "890    30        0.0  Travel_Frequently       1312  Research_Development   \n",
            "\n",
            "      DistanceFromHome      Education    EducationField  \\\n",
            "1134                25         Master           Medical   \n",
            "1150                29         Master     Life_Sciences   \n",
            "531                 14       Bachelor           Medical   \n",
            "395                 11        College           Medical   \n",
            "392                 15  Below_College     Life_Sciences   \n",
            "...                ...            ...               ...   \n",
            "361                  3  Below_College           Medical   \n",
            "1180                 2         Master     Life_Sciences   \n",
            "230                 23       Bachelor         Marketing   \n",
            "211                  2  Below_College     Life_Sciences   \n",
            "890                  2         Master  Technical_Degree   \n",
            "\n",
            "     EnvironmentSatisfaction  Gender  ...  PerformanceRating  \\\n",
            "1134                    High  Female  ...          Excellent   \n",
            "1150                     Low    Male  ...          Excellent   \n",
            "531                Very_High  Female  ...          Excellent   \n",
            "395                     High    Male  ...          Excellent   \n",
            "392                   Medium  Female  ...          Excellent   \n",
            "...                      ...     ...  ...                ...   \n",
            "361                Very_High  Female  ...        Outstanding   \n",
            "1180                    High  Female  ...          Excellent   \n",
            "230                     High  Female  ...          Excellent   \n",
            "211                Very_High  Female  ...          Excellent   \n",
            "890                Very_High  Female  ...          Excellent   \n",
            "\n",
            "     RelationshipSatisfaction  StockOptionLevel TotalWorkingYears  \\\n",
            "1134                     High                 1                16   \n",
            "1150                   Medium                 2                16   \n",
            "531                 Very_High                 1                 8   \n",
            "395                 Very_High                 0                 6   \n",
            "392                       Low                 1                 6   \n",
            "...                       ...               ...               ...   \n",
            "361                    Medium                 2                 6   \n",
            "1180                     High                 0                17   \n",
            "230                      High                 1                 5   \n",
            "211                      High                 3                 4   \n",
            "890                 Very_High                 0                10   \n",
            "\n",
            "     TrainingTimesLastYear WorkLifeBalance  YearsAtCompany  \\\n",
            "1134                     3            Good              16   \n",
            "1150                     3            Good               9   \n",
            "531                      5          Better               8   \n",
            "395                      2            Good               6   \n",
            "392                      2            Good               5   \n",
            "...                    ...             ...             ...   \n",
            "361                      3          Better               6   \n",
            "1180                     2            Good              13   \n",
            "230                      2            Good               2   \n",
            "211                      3          Better               3   \n",
            "890                      2          Better               9   \n",
            "\n",
            "      YearsInCurrentRole  YearsSinceLastPromotion YearsWithCurrManager  \n",
            "1134                  10                       10                    1  \n",
            "1150                   8                        0                    0  \n",
            "531                    7                        1                    6  \n",
            "395                    5                        0                    1  \n",
            "392                    4                        1                    3  \n",
            "...                  ...                      ...                  ...  \n",
            "361                    5                        0                    4  \n",
            "1180                   7                        6                    7  \n",
            "230                    2                        0                    0  \n",
            "211                    2                        0                    2  \n",
            "890                    7                        0                    7  \n",
            "\n",
            "[70 rows x 31 columns]\n"
          ]
        }
      ],
      "source": [
        "# Sample 70 rows using simple random sampling and set the seed\n",
        "attrition_samp = attrition_pop.sample(n=70, random_state= 18900217)\n",
        "\n",
        "# Print the sample\n",
        "print(attrition_samp)"
      ]
    },
    {
      "cell_type": "code",
      "execution_count": 16,
      "metadata": {
        "colab": {
          "base_uri": "https://localhost:8080/"
        },
        "id": "YoxwqBkufegd",
        "outputId": "aa966d08-2a80-42a5-98ab-e968891b90da"
      },
      "outputs": [
        {
          "name": "stdout",
          "output_type": "stream",
          "text": [
            "      Age  Attrition BusinessTravel  DailyRate            Department  \\\n",
            "0      21        0.0  Travel_Rarely        391  Research_Development   \n",
            "21     19        0.0  Travel_Rarely       1181  Research_Development   \n",
            "42     45        0.0  Travel_Rarely        252  Research_Development   \n",
            "63     23        0.0  Travel_Rarely        373  Research_Development   \n",
            "84     30        1.0  Travel_Rarely        945                 Sales   \n",
            "...   ...        ...            ...        ...                   ...   \n",
            "1365   48        0.0  Travel_Rarely        715  Research_Development   \n",
            "1386   48        0.0  Travel_Rarely       1355  Research_Development   \n",
            "1407   50        0.0  Travel_Rarely        989  Research_Development   \n",
            "1428   50        0.0     Non-Travel        881  Research_Development   \n",
            "1449   52        0.0  Travel_Rarely        699  Research_Development   \n",
            "\n",
            "      DistanceFromHome      Education EducationField EnvironmentSatisfaction  \\\n",
            "0                   15        College  Life_Sciences                    High   \n",
            "21                   3  Below_College        Medical                  Medium   \n",
            "42                   2       Bachelor  Life_Sciences                  Medium   \n",
            "63                   1        College  Life_Sciences               Very_High   \n",
            "84                   9       Bachelor        Medical                  Medium   \n",
            "...                ...            ...            ...                     ...   \n",
            "1365                 1       Bachelor  Life_Sciences               Very_High   \n",
            "1386                 4         Master  Life_Sciences                    High   \n",
            "1407                 7        College        Medical                  Medium   \n",
            "1428                 2         Master  Life_Sciences                     Low   \n",
            "1449                 1         Master  Life_Sciences                    High   \n",
            "\n",
            "      Gender  ...  PerformanceRating RelationshipSatisfaction  \\\n",
            "0       Male  ...          Excellent                Very_High   \n",
            "21    Female  ...          Excellent                Very_High   \n",
            "42    Female  ...          Excellent                Very_High   \n",
            "63      Male  ...        Outstanding                Very_High   \n",
            "84      Male  ...          Excellent                     High   \n",
            "...      ...  ...                ...                      ...   \n",
            "1365    Male  ...          Excellent                     High   \n",
            "1386    Male  ...          Excellent                   Medium   \n",
            "1407  Female  ...          Excellent                Very_High   \n",
            "1428    Male  ...          Excellent                Very_High   \n",
            "1449    Male  ...          Excellent                      Low   \n",
            "\n",
            "      StockOptionLevel TotalWorkingYears TrainingTimesLastYear  \\\n",
            "0                    0                 0                     6   \n",
            "21                   0                 1                     3   \n",
            "42                   0                 1                     3   \n",
            "63                   1                 1                     2   \n",
            "84                   0                 1                     3   \n",
            "...                ...               ...                   ...   \n",
            "1365                 0                25                     3   \n",
            "1386                 0                27                     3   \n",
            "1407                 1                29                     2   \n",
            "1428                 1                31                     3   \n",
            "1449                 1                34                     5   \n",
            "\n",
            "     WorkLifeBalance  YearsAtCompany  YearsInCurrentRole  \\\n",
            "0             Better               0                   0   \n",
            "21            Better               1                   0   \n",
            "42            Better               1                   0   \n",
            "63            Better               1                   0   \n",
            "84              Good               1                   0   \n",
            "...              ...             ...                 ...   \n",
            "1365            Best               1                   0   \n",
            "1386          Better              15                  11   \n",
            "1407            Good              27                   3   \n",
            "1428          Better              31                   6   \n",
            "1449          Better              33                  18   \n",
            "\n",
            "      YearsSinceLastPromotion YearsWithCurrManager  \n",
            "0                           0                    0  \n",
            "21                          0                    0  \n",
            "42                          0                    0  \n",
            "63                          0                    1  \n",
            "84                          0                    0  \n",
            "...                       ...                  ...  \n",
            "1365                        0                    0  \n",
            "1386                        4                    8  \n",
            "1407                       13                    8  \n",
            "1428                       14                    7  \n",
            "1449                       11                    9  \n",
            "\n",
            "[70 rows x 31 columns]\n"
          ]
        }
      ],
      "source": [
        "# Set the sample size to 70\n",
        "sample_size = 70\n",
        "\n",
        "# Calculate the population size from attrition_pop\n",
        "pop_size = len(attrition_pop)\n",
        "\n",
        "# Calculate the interval\n",
        "interval = pop_size // sample_size\n",
        "\n",
        "# Systematically sample 70 rows\n",
        "attrition_sys_samp = attrition_pop.iloc[::interval]\n",
        "\n",
        "# Print the sample\n",
        "print(attrition_sys_samp)"
      ]
    },
    {
      "attachments": {},
      "cell_type": "markdown",
      "metadata": {
        "id": "fJTi4A77f4z_"
      },
      "source": [
        "###Is systematic sampling OK?\n",
        "Systematic sampling has a problem: if the data has been sorted, or there is some sort of pattern or meaning behind the row order, then the resulting sample may not be representative of the whole population. The problem can be solved by shuffling the rows, but then systematic sampling is equivalent to simple random sampling.\n",
        "\n",
        "Here you'll look at how to determine whether or not there is a problem.\n",
        "\n",
        "attrition_pop is available; pandas is loaded as pd, and matplotlib.pyplot as plt."
      ]
    },
    {
      "cell_type": "code",
      "execution_count": 17,
      "metadata": {
        "colab": {
          "base_uri": "https://localhost:8080/",
          "height": 279
        },
        "id": "6h-6eCi2f6ej",
        "outputId": "8af211ee-d63a-4a00-c0cb-517b520f6584"
      },
      "outputs": [
        {
          "data": {
            "image/png": "[encoded data removed]",
            "text/plain": [
              "<Figure size 432x288 with 1 Axes>"
            ]
          },
          "metadata": {
            "needs_background": "light"
          },
          "output_type": "display_data"
        }
      ],
      "source": [
        "# Add an index column to attrition_pop\n",
        "attrition_pop_id = attrition_pop.reset_index()\n",
        "\n",
        "# Plot YearsAtCompany vs. index for attrition_pop_id\n",
        "attrition_pop_id.plot(x =\"index\",y=\"YearsAtCompany\", kind=\"scatter\")\n",
        "plt.show()"
      ]
    },
    {
      "cell_type": "code",
      "execution_count": 18,
      "metadata": {
        "colab": {
          "base_uri": "https://localhost:8080/",
          "height": 279
        },
        "id": "JEsydL0hg8Kt",
        "outputId": "6123639a-6f9e-4424-91be-564c9c99159d"
      },
      "outputs": [
        {
          "data": {
            "image/png": "[encoded data removed]",
            "text/plain": [
              "<Figure size 432x288 with 1 Axes>"
            ]
          },
          "metadata": {
            "needs_background": "light"
          },
          "output_type": "display_data"
        }
      ],
      "source": [
        "# Shuffle the rows of attrition_pop\n",
        "attrition_shuffled = attrition_pop.sample(frac =1)\n",
        "\n",
        "# Reset the row indexes and create an index column\n",
        "attrition_shuffled = attrition_shuffled.reset_index(drop=True).reset_index()\n",
        "\n",
        "# Plot YearsAtCompany vs. index for attrition_shuffled\n",
        "attrition_shuffled.plot(x =\"index\",y=\"YearsAtCompany\", kind=\"scatter\")\n",
        "plt.show()"
      ]
    },
    {
      "attachments": {},
      "cell_type": "markdown",
      "metadata": {
        "id": "Putx7FxQhEhe"
      },
      "source": [
        "#Stratified and weighted random sampling\n",
        "\n",
        "Stratified sampling is a technique that allows us to sample a population that contains subgroups(chứa group nhỏ hơn)"
      ]
    },
    {
      "cell_type": "code",
      "execution_count": 19,
      "metadata": {
        "colab": {
          "base_uri": "https://localhost:8080/"
        },
        "id": "LRitiOmThFel",
        "outputId": "c9f1b9b0-0384-471f-b961-ba3c638fa518"
      },
      "outputs": [
        {
          "data": {
            "text/plain": [
              "Mexico                    236\n",
              "Colombia                  183\n",
              "Guatemala                 181\n",
              "Brazil                    132\n",
              "Taiwan                     75\n",
              "United States (Hawaii)     73\n",
              "Name: country_of_origin, dtype: int64"
            ]
          },
          "execution_count": 19,
          "metadata": {},
          "output_type": "execute_result"
        }
      ],
      "source": [
        "top_counts = coffee_ratings['country_of_origin'].value_counts()\n",
        "top_counts.head(6)"
      ]
    },
    {
      "cell_type": "code",
      "execution_count": 20,
      "metadata": {
        "colab": {
          "base_uri": "https://localhost:8080/"
        },
        "id": "m0cdSysYotwQ",
        "outputId": "b731cafd-6d5d-4db9-80a1-2e1d9fc3757c"
      },
      "outputs": [
        {
          "data": {
            "text/plain": [
              "Mexico                    236\n",
              "Colombia                  183\n",
              "Guatemala                 181\n",
              "Brazil                    132\n",
              "Taiwan                     75\n",
              "United States (Hawaii)     73\n",
              "Name: country_of_origin, dtype: int64"
            ]
          },
          "execution_count": 20,
          "metadata": {},
          "output_type": "execute_result"
        }
      ],
      "source": [
        "top_counts = coffee_ratings['country_of_origin'].value_counts()\n",
        "top_counts.head(6)"
      ]
    },
    {
      "cell_type": "code",
      "execution_count": 21,
      "metadata": {
        "id": "qqRVNcazoszO"
      },
      "outputs": [],
      "source": [
        "#Filtering for 6 countries\n",
        "top_counted_countries = [\"Mexico\",\"Colombia\",\"Guatemala\",\"Brazil\",\"Taiwan\",\"United States (Hawaii)\"]\n",
        "\n",
        "top_counted_subset = coffee_ratings[\"country_of_origin\"].isin(top_counted_countries)\n",
        "\n",
        "coffee_ratings_top = coffee_ratings[top_counted_subset]"
      ]
    },
    {
      "attachments": {},
      "cell_type": "markdown",
      "metadata": {
        "id": "kr6bLjZrqjnd"
      },
      "source": [
        "To make comparisons easier, we set normalize to True to convert the counts into a proportion"
      ]
    },
    {
      "cell_type": "code",
      "execution_count": 22,
      "metadata": {
        "colab": {
          "base_uri": "https://localhost:8080/"
        },
        "id": "yGYFtaFPp0ih",
        "outputId": "6165df91-93d9-42d3-a2b5-fce1b365f1c5"
      },
      "outputs": [
        {
          "data": {
            "text/plain": [
              "Mexico                    0.250000\n",
              "Guatemala                 0.204545\n",
              "Colombia                  0.181818\n",
              "Brazil                    0.181818\n",
              "United States (Hawaii)    0.102273\n",
              "Taiwan                    0.079545\n",
              "Name: country_of_origin, dtype: float64"
            ]
          },
          "execution_count": 22,
          "metadata": {},
          "output_type": "execute_result"
        }
      ],
      "source": [
        "#Counts of a simple random sample\n",
        "coffee_ratings_samp = coffee_ratings_top.sample(frac=0.1, random_state= 2021)\n",
        "\n",
        "coffee_ratings_samp['country_of_origin'].value_counts(normalize=True)"
      ]
    },
    {
      "attachments": {},
      "cell_type": "markdown",
      "metadata": {
        "id": "PcnYoSizUSnK"
      },
      "source": [
        "###Equal counts stratified sampling"
      ]
    },
    {
      "cell_type": "code",
      "execution_count": 23,
      "metadata": {
        "id": "S0618EVLVlN2"
      },
      "outputs": [],
      "source": [
        "coffee_ratings_eq = coffee_ratings_top.groupby(\"country_of_origin\")\\\n",
        ".sample(n=15, random_state=2021)"
      ]
    },
    {
      "cell_type": "code",
      "execution_count": 24,
      "metadata": {
        "colab": {
          "base_uri": "https://localhost:8080/"
        },
        "id": "rdKm_SGeVmNX",
        "outputId": "69032599-7383-4f9a-a1f5-8de3d65468bd"
      },
      "outputs": [
        {
          "data": {
            "text/plain": [
              "Brazil                    0.166667\n",
              "Colombia                  0.166667\n",
              "Guatemala                 0.166667\n",
              "Mexico                    0.166667\n",
              "Taiwan                    0.166667\n",
              "United States (Hawaii)    0.166667\n",
              "Name: country_of_origin, dtype: float64"
            ]
          },
          "execution_count": 24,
          "metadata": {},
          "output_type": "execute_result"
        }
      ],
      "source": [
        "coffee_ratings_eq['country_of_origin'].value_counts(normalize = True)"
      ]
    },
    {
      "attachments": {},
      "cell_type": "markdown",
      "metadata": {
        "id": "PuYYvLCtVjWD"
      },
      "source": [
        "###Weighted random sampling"
      ]
    },
    {
      "cell_type": "code",
      "execution_count": 25,
      "metadata": {
        "id": "tTxBaGiCZUgC"
      },
      "outputs": [],
      "source": [
        "coffee_ratings_weight = coffee_ratings_top\n",
        "condition = coffee_ratings_weight['country_of_origin'] == \"Taiwan\""
      ]
    },
    {
      "cell_type": "code",
      "execution_count": 26,
      "metadata": {
        "colab": {
          "base_uri": "https://localhost:8080/"
        },
        "id": "teHqhvkOZVe8",
        "outputId": "b6d21064-0b82-4693-c234-218cd56a5f6f"
      },
      "outputs": [
        {
          "name": "stderr",
          "output_type": "stream",
          "text": [
            "C:\\Users\\ASUS\\AppData\\Local\\Temp\\ipykernel_30044\\3883046421.py:1: SettingWithCopyWarning: \n",
            "A value is trying to be set on a copy of a slice from a DataFrame.\n",
            "Try using .loc[row_indexer,col_indexer] = value instead\n",
            "\n",
            "See the caveats in the documentation: https://pandas.pydata.org/pandas-docs/stable/user_guide/indexing.html#returning-a-view-versus-a-copy\n",
            "  coffee_ratings_weight['weight'] = np.where(condition,2,1)\n"
          ]
        }
      ],
      "source": [
        "coffee_ratings_weight['weight'] = np.where(condition,2,1)\n"
      ]
    },
    {
      "cell_type": "code",
      "execution_count": 27,
      "metadata": {
        "id": "IynZIaGTi9L2"
      },
      "outputs": [],
      "source": [
        "coffee_ratings_weight= coffee_ratings_weight.sample(frac=0.1,weights=\"weight\")#\"weight\" is column name not python code"
      ]
    },
    {
      "cell_type": "code",
      "execution_count": 28,
      "metadata": {
        "colab": {
          "base_uri": "https://localhost:8080/"
        },
        "id": "eGt5zLBEjAqi",
        "outputId": "8c921857-dd00-4bbd-995b-1556b1dc5387"
      },
      "outputs": [
        {
          "data": {
            "text/plain": [
              "Colombia                  0.284091\n",
              "Mexico                    0.250000\n",
              "Guatemala                 0.159091\n",
              "Brazil                    0.136364\n",
              "Taiwan                    0.102273\n",
              "United States (Hawaii)    0.068182\n",
              "Name: country_of_origin, dtype: float64"
            ]
          },
          "execution_count": 28,
          "metadata": {},
          "output_type": "execute_result"
        }
      ],
      "source": [
        "coffee_ratings_weight[\"country_of_origin\"].value_counts(normalize=True)"
      ]
    },
    {
      "attachments": {},
      "cell_type": "markdown",
      "metadata": {
        "id": "LsRT6ToNg6pk"
      },
      "source": [
        "![image.png](data:image/png;base64,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)"
      ]
    },
    {
      "attachments": {},
      "cell_type": "markdown",
      "metadata": {
        "id": "uVv8-loJjdwN"
      },
      "source": [
        "###Proportional stratified sampling\n",
        "If you are interested in subgroups within the population, then you may need to carefully control the counts of each subgroup within the population. Proportional stratified sampling results in subgroup sizes within the sample that are representative of the subgroup sizes within the population. It is equivalent to performing a simple random sample on each subgroup.\n",
        "\n",
        "attrition_pop is available; pandas is loaded with its usual alias."
      ]
    },
    {
      "cell_type": "code",
      "execution_count": 29,
      "metadata": {
        "colab": {
          "base_uri": "https://localhost:8080/"
        },
        "id": "xHEx5qRAkQcg",
        "outputId": "8304f605-fa3a-4a3e-db4a-f41f10ed2628"
      },
      "outputs": [
        {
          "name": "stdout",
          "output_type": "stream",
          "text": [
            "Bachelor         0.389116\n",
            "Master           0.270748\n",
            "College          0.191837\n",
            "Below_College    0.115646\n",
            "Doctor           0.032653\n",
            "Name: Education, dtype: float64\n"
          ]
        }
      ],
      "source": [
        "# Proportion of employees by Education level\n",
        "education_counts_pop = attrition_pop['Education'].value_counts(normalize=True)\n",
        "\n",
        "# Print education_counts_pop\n",
        "print(education_counts_pop)"
      ]
    },
    {
      "cell_type": "code",
      "execution_count": 30,
      "metadata": {
        "id": "QN9vI4c2kSzQ"
      },
      "outputs": [],
      "source": [
        "# Proportional stratified sampling for 40% of each Education group\n",
        "attrition_strat = attrition_pop.groupby('Education')\\\n",
        "\t.sample(frac=0.4, random_state=2022)"
      ]
    },
    {
      "cell_type": "code",
      "execution_count": 31,
      "metadata": {
        "colab": {
          "base_uri": "https://localhost:8080/"
        },
        "id": "O98u2lNog7NX",
        "outputId": "63f09b47-0f08-44b6-94ab-729451a8331a"
      },
      "outputs": [
        {
          "name": "stdout",
          "output_type": "stream",
          "text": [
            "Bachelor         0.389456\n",
            "Master           0.270408\n",
            "College          0.192177\n",
            "Below_College    0.115646\n",
            "Doctor           0.032313\n",
            "Name: Education, dtype: float64\n"
          ]
        }
      ],
      "source": [
        "# Calculate the Education level proportions from attrition_strat\n",
        "education_counts_strat = attrition_strat['Education'].value_counts(normalize=True)\n",
        "\n",
        "# Print education_counts_strat\n",
        "print(education_counts_strat)"
      ]
    },
    {
      "attachments": {},
      "cell_type": "markdown",
      "metadata": {
        "id": "ReWkXxI0kaBu"
      },
      "source": [
        "###Equal counts stratified sampling\n",
        "If one subgroup is larger than another subgroup in the population, but you don't want to reflect that difference in your analysis, then you can use equal counts stratified sampling to generate samples where each subgroup has the same amount of data. For example, if you are analyzing blood types, O is the most common blood type worldwide, but you may wish to have equal amounts of O, A, B, and AB in your sample.\n",
        "\n",
        "attrition_pop is available; pandas is loaded with its usual alias."
      ]
    },
    {
      "cell_type": "code",
      "execution_count": 32,
      "metadata": {
        "colab": {
          "base_uri": "https://localhost:8080/"
        },
        "id": "5e8gj7q0kah5",
        "outputId": "d4ff6036-1537-46fc-febc-80af1d349e71"
      },
      "outputs": [
        {
          "name": "stdout",
          "output_type": "stream",
          "text": [
            "Below_College    0.2\n",
            "College          0.2\n",
            "Bachelor         0.2\n",
            "Master           0.2\n",
            "Doctor           0.2\n",
            "Name: Education, dtype: float64\n"
          ]
        }
      ],
      "source": [
        "# Get 30 employees from each Education group\n",
        "attrition_eq = attrition_pop.groupby('Education')\\\n",
        "\t.sample(n=30, random_state=2022)      \n",
        "\n",
        "# Get the proportions from attrition_eq\n",
        "education_counts_eq = attrition_eq['Education'].value_counts(normalize=True)\n",
        "\n",
        "# Print the results\n",
        "print(education_counts_eq)"
      ]
    },
    {
      "attachments": {},
      "cell_type": "markdown",
      "metadata": {
        "id": "_9ZR8SQJmYsP"
      },
      "source": [
        "###Weighted sampling\n",
        "Stratified sampling provides rules about the probability of picking rows from your dataset at the subgroup level. A generalization of this is weighted sampling, which lets you specify rules about the probability of picking rows at the row level. The probability of picking any given row is proportional to the weight value for that row.\n",
        "\n",
        "attrition_pop is available; pandas, matplotlib.pyplot, and numpy are loaded with their usual aliases."
      ]
    },
    {
      "cell_type": "code",
      "execution_count": 33,
      "metadata": {
        "colab": {
          "base_uri": "https://localhost:8080/",
          "height": 265
        },
        "id": "VeEERBxNnNvp",
        "outputId": "ec3c45b2-46bb-4105-fe33-8a1ba2106db6"
      },
      "outputs": [
        {
          "data": {
            "image/png": "[encoded data removed]",
            "text/plain": [
              "<Figure size 432x288 with 1 Axes>"
            ]
          },
          "metadata": {
            "needs_background": "light"
          },
          "output_type": "display_data"
        }
      ],
      "source": [
        "# Plot YearsAtCompany from attrition_pop as a histogram\n",
        "attrition_pop['YearsAtCompany'].hist(bins=np.arange(0, 41, 1))\n",
        "plt.show()"
      ]
    },
    {
      "cell_type": "code",
      "execution_count": 34,
      "metadata": {
        "colab": {
          "base_uri": "https://localhost:8080/"
        },
        "id": "pVW1XAc5mZpT",
        "outputId": "119cdab8-660f-4742-dbde-76fcabec7549"
      },
      "outputs": [
        {
          "name": "stdout",
          "output_type": "stream",
          "text": [
            "      Age  Attrition     BusinessTravel  DailyRate            Department  \\\n",
            "395    31        0.0      Travel_Rarely       1332  Research_Development   \n",
            "1440   50        0.0  Travel_Frequently        333  Research_Development   \n",
            "1133   36        1.0      Travel_Rarely        530                 Sales   \n",
            "1149   37        0.0      Travel_Rarely        161  Research_Development   \n",
            "1044   34        0.0      Travel_Rarely       1354  Research_Development   \n",
            "...   ...        ...                ...        ...                   ...   \n",
            "830    31        0.0      Travel_Rarely       1062  Research_Development   \n",
            "1105   34        0.0         Non-Travel       1375                 Sales   \n",
            "1249   38        0.0      Travel_Rarely        330  Research_Development   \n",
            "1155   44        0.0         Non-Travel        489  Research_Development   \n",
            "1051   32        0.0      Travel_Rarely        859  Research_Development   \n",
            "\n",
            "      DistanceFromHome      Education EducationField EnvironmentSatisfaction  \\\n",
            "395                 11        College        Medical                    High   \n",
            "1440                22         Doctor        Medical                    High   \n",
            "1133                 3  Below_College  Life_Sciences                    High   \n",
            "1149                10       Bachelor  Life_Sciences                    High   \n",
            "1044                 5       Bachelor        Medical                    High   \n",
            "...                ...            ...            ...                     ...   \n",
            "830                 24       Bachelor        Medical                    High   \n",
            "1105                10       Bachelor  Life_Sciences               Very_High   \n",
            "1249                17  Below_College  Life_Sciences                    High   \n",
            "1155                23       Bachelor        Medical                  Medium   \n",
            "1051                 4       Bachelor  Life_Sciences                    High   \n",
            "\n",
            "      Gender  ...  PerformanceRating RelationshipSatisfaction  \\\n",
            "395     Male  ...          Excellent                Very_High   \n",
            "1440    Male  ...          Excellent                Very_High   \n",
            "1133    Male  ...          Excellent                      Low   \n",
            "1149  Female  ...        Outstanding                      Low   \n",
            "1044  Female  ...          Excellent                Very_High   \n",
            "...      ...  ...                ...                      ...   \n",
            "830   Female  ...          Excellent                   Medium   \n",
            "1105    Male  ...          Excellent                     High   \n",
            "1249  Female  ...          Excellent                      Low   \n",
            "1155    Male  ...          Excellent                     High   \n",
            "1051  Female  ...          Excellent                     High   \n",
            "\n",
            "      StockOptionLevel TotalWorkingYears TrainingTimesLastYear  \\\n",
            "395                  0                 6                     2   \n",
            "1440                 0                32                     2   \n",
            "1133                 1                16                     6   \n",
            "1149                 1                16                     2   \n",
            "1044                 0                14                     6   \n",
            "...                ...               ...                   ...   \n",
            "830                  0                10                     2   \n",
            "1105                 1                15                     3   \n",
            "1249                 1                20                     4   \n",
            "1155                 1                17                     3   \n",
            "1051                 1                14                     3   \n",
            "\n",
            "     WorkLifeBalance  YearsAtCompany  YearsInCurrentRole  \\\n",
            "395             Good               6                   5   \n",
            "1440          Better              32                   6   \n",
            "1133          Better              16                   7   \n",
            "1149          Better              16                  11   \n",
            "1044          Better              11                  10   \n",
            "...              ...             ...                 ...   \n",
            "830           Better              10                   9   \n",
            "1105          Better              15                  14   \n",
            "1249            Good              19                   9   \n",
            "1155            Best               3                   2   \n",
            "1051          Better              14                  13   \n",
            "\n",
            "      YearsSinceLastPromotion YearsWithCurrManager  \n",
            "395                         0                    1  \n",
            "1440                       13                    9  \n",
            "1133                        3                    7  \n",
            "1149                        6                    8  \n",
            "1044                        5                    8  \n",
            "...                       ...                  ...  \n",
            "830                         1                    8  \n",
            "1105                        0                    7  \n",
            "1249                        1                    9  \n",
            "1155                        1                    2  \n",
            "1051                        6                    8  \n",
            "\n",
            "[400 rows x 31 columns]\n"
          ]
        }
      ],
      "source": [
        "# Sample 400 employees weighted by YearsAtCompany\n",
        "attrition_weight = attrition_pop.sample(n=400, weights=\"YearsAtCompany\")\n",
        "\n",
        "# Print the sample\n",
        "print(attrition_weight)"
      ]
    },
    {
      "cell_type": "code",
      "execution_count": 35,
      "metadata": {
        "colab": {
          "base_uri": "https://localhost:8080/",
          "height": 513
        },
        "id": "cpswlWVwnnL9",
        "outputId": "08a32ddf-eff4-4202-ae7b-9a786895e27f"
      },
      "outputs": [
        {
          "data": {
            "image/png": "[encoded data removed]",
            "text/plain": [
              "<Figure size 432x288 with 1 Axes>"
            ]
          },
          "metadata": {
            "needs_background": "light"
          },
          "output_type": "display_data"
        },
        {
          "data": {
            "image/png": "[encoded data removed]",
            "text/plain": [
              "<Figure size 432x288 with 1 Axes>"
            ]
          },
          "metadata": {
            "needs_background": "light"
          },
          "output_type": "display_data"
        }
      ],
      "source": [
        "# Plot YearsAtCompany from attrition_pop as a histogram\n",
        "attrition_pop['YearsAtCompany'].hist(bins=np.arange(0, 41, 1))\n",
        "plt.show()\n",
        "# Plot YearsAtCompany from attrition_weight as a histogram\n",
        "attrition_weight['YearsAtCompany'].hist(bins=np.arange(0, 41, 1))\n",
        "plt.show()"
      ]
    },
    {
      "attachments": {},
      "cell_type": "markdown",
      "metadata": {
        "id": "gyVVNcftn5Sy"
      },
      "source": [
        "#Cluster sampling\n",
        "![image.png](data:image/png;base64,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)"
      ]
    },
    {
      "attachments": {},
      "cell_type": "markdown",
      "metadata": {
        "id": "I-YBzl7N2cJL"
      },
      "source": [
        "##Stage 1: sampling for subgroups"
      ]
    },
    {
      "cell_type": "code",
      "execution_count": 36,
      "metadata": {
        "colab": {
          "base_uri": "https://localhost:8080/"
        },
        "id": "7D-c3O852Qqq",
        "outputId": "44efbf7f-77e3-47c9-829e-0c8df9a3d3bb"
      },
      "outputs": [
        {
          "name": "stdout",
          "output_type": "stream",
          "text": [
            "[None, 'Other', 'Bourbon', 'Catimor', 'Ethiopian Yirgacheffe', 'Caturra', 'SL14', 'Sumatra', 'SL34', 'Hawaiian Kona', 'Yellow Bourbon', 'SL28', 'Gesha', 'Catuai', 'Pacamara', 'Typica', 'Sumatra Lintong', 'Mundo Novo', 'Java', 'Peaberry', 'Pacas', 'Mandheling', 'Ruiru 11', 'Arusha', 'Ethiopian Heirlooms', 'Moka Peaberry', 'Sulawesi', 'Blue Mountain', 'Marigojipe', 'Pache Comun']\n"
          ]
        }
      ],
      "source": [
        "varieties_pop = list(coffee_ratings['variety'].unique())\n",
        "print(varieties_pop)"
      ]
    },
    {
      "cell_type": "code",
      "execution_count": 37,
      "metadata": {
        "colab": {
          "base_uri": "https://localhost:8080/"
        },
        "id": "JsNdbgIsn6KB",
        "outputId": "dc706999-2587-413e-c99d-51d0d302b647"
      },
      "outputs": [
        {
          "name": "stdout",
          "output_type": "stream",
          "text": [
            "['Sulawesi', 'Caturra', 'Pacamara']\n"
          ]
        }
      ],
      "source": [
        "import random\n",
        "varieties_samp = random.sample(varieties_pop, k=3)\n",
        "print(varieties_samp)\n"
      ]
    },
    {
      "attachments": {},
      "cell_type": "markdown",
      "metadata": {
        "id": "Im5lIPMT2d2I"
      },
      "source": [
        "##Stage 2: sampling each group"
      ]
    },
    {
      "cell_type": "code",
      "execution_count": 38,
      "metadata": {
        "id": "vQyt-xuK2gDC"
      },
      "outputs": [],
      "source": [
        "variety_condition = coffee_ratings['variety'].isin(varieties_samp)\n",
        "coffee_ratings_cluster = coffee_ratings[variety_condition]"
      ]
    },
    {
      "cell_type": "code",
      "execution_count": 39,
      "metadata": {
        "colab": {
          "base_uri": "https://localhost:8080/"
        },
        "id": "k_PL4YGKKee2",
        "outputId": "95d0da4a-a057-41ea-beae-eff885dbf75a"
      },
      "outputs": [
        {
          "name": "stderr",
          "output_type": "stream",
          "text": [
            "C:\\Users\\ASUS\\AppData\\Local\\Temp\\ipykernel_30044\\2146752495.py:1: SettingWithCopyWarning: \n",
            "A value is trying to be set on a copy of a slice from a DataFrame.\n",
            "Try using .loc[row_indexer,col_indexer] = value instead\n",
            "\n",
            "See the caveats in the documentation: https://pandas.pydata.org/pandas-docs/stable/user_guide/indexing.html#returning-a-view-versus-a-copy\n",
            "  coffee_ratings_cluster['variety'] = coffee_ratings_cluster['variety'].astype('category')\n",
            "C:\\Users\\ASUS\\AppData\\Local\\Temp\\ipykernel_30044\\2146752495.py:3: SettingWithCopyWarning: \n",
            "A value is trying to be set on a copy of a slice from a DataFrame.\n",
            "Try using .loc[row_indexer,col_indexer] = value instead\n",
            "\n",
            "See the caveats in the documentation: https://pandas.pydata.org/pandas-docs/stable/user_guide/indexing.html#returning-a-view-versus-a-copy\n",
            "  coffee_ratings_cluster['variety'] = coffee_ratings_cluster['variety'].cat.remove_unused_categories()\n"
          ]
        }
      ],
      "source": [
        "coffee_ratings_cluster['variety'] = coffee_ratings_cluster['variety'].astype('category')\n",
        "\n",
        "coffee_ratings_cluster['variety'] = coffee_ratings_cluster['variety'].cat.remove_unused_categories()"
      ]
    },
    {
      "attachments": {},
      "cell_type": "markdown",
      "metadata": {
        "id": "0mqXDBZ4QJgu"
      },
      "source": [
        "###Performing cluster sampling\n",
        "Now that you know when to use cluster sampling, it's time to put it into action. In this exercise, you'll explore the JobRole column of the attrition dataset. You can think of each job role as a subgroup of the whole population of employees.\n",
        "\n",
        "attrition_pop is available; pandas is loaded with its usual alias, and the random package is available. A seed of 19790801 has also been set with random.seed()."
      ]
    },
    {
      "cell_type": "code",
      "execution_count": 40,
      "metadata": {
        "colab": {
          "base_uri": "https://localhost:8080/"
        },
        "id": "Mx0lRki_ZMQu",
        "outputId": "f97509c0-fc26-4242-8b34-cf2e807decef"
      },
      "outputs": [
        {
          "name": "stdout",
          "output_type": "stream",
          "text": [
            "      Age  Attrition     BusinessTravel  DailyRate            Department  \\\n",
            "1348   44        1.0      Travel_Rarely       1376       Human_Resources   \n",
            "886    41        0.0         Non-Travel        552       Human_Resources   \n",
            "983    39        0.0      Travel_Rarely        141       Human_Resources   \n",
            "88     27        1.0  Travel_Frequently       1337       Human_Resources   \n",
            "189    34        0.0      Travel_Rarely        829       Human_Resources   \n",
            "160    24        0.0  Travel_Frequently        897       Human_Resources   \n",
            "839    46        0.0      Travel_Rarely        991       Human_Resources   \n",
            "966    30        0.0      Travel_Rarely       1240       Human_Resources   \n",
            "162    28        0.0         Non-Travel        280       Human_Resources   \n",
            "1231   37        0.0      Travel_Rarely       1239       Human_Resources   \n",
            "1375   44        0.0      Travel_Rarely       1315  Research_Development   \n",
            "1462   54        0.0      Travel_Rarely        584  Research_Development   \n",
            "1316   45        0.0  Travel_Frequently        364  Research_Development   \n",
            "1356   48        0.0  Travel_Frequently        117  Research_Development   \n",
            "1387   48        0.0         Non-Travel       1262  Research_Development   \n",
            "1321   54        0.0         Non-Travel        142       Human_Resources   \n",
            "1266   50        0.0      Travel_Rarely       1452  Research_Development   \n",
            "1330   46        0.0      Travel_Rarely        406                 Sales   \n",
            "1052   59        0.0      Travel_Rarely       1089                 Sales   \n",
            "1449   52        0.0      Travel_Rarely        699  Research_Development   \n",
            "1439   58        0.0      Travel_Rarely       1055  Research_Development   \n",
            "1339   58        0.0  Travel_Frequently       1216  Research_Development   \n",
            "1426   49        0.0      Travel_Rarely       1245  Research_Development   \n",
            "1415   48        0.0      Travel_Rarely       1224  Research_Development   \n",
            "1322   51        0.0      Travel_Rarely        684  Research_Development   \n",
            "1284   40        0.0      Travel_Rarely       1308  Research_Development   \n",
            "1149   37        0.0      Travel_Rarely        161  Research_Development   \n",
            "1126   42        0.0      Travel_Rarely        810  Research_Development   \n",
            "1374   46        0.0      Travel_Rarely       1009  Research_Development   \n",
            "1050   33        0.0      Travel_Rarely        213  Research_Development   \n",
            "413    33        0.0      Travel_Rarely        392                 Sales   \n",
            "1293   39        0.0      Travel_Rarely        119                 Sales   \n",
            "1193   36        0.0      Travel_Rarely        928                 Sales   \n",
            "653    31        1.0      Travel_Rarely       1365                 Sales   \n",
            "1341   55        0.0      Travel_Rarely        111                 Sales   \n",
            "432    35        0.0      Travel_Rarely        682                 Sales   \n",
            "747    35        0.0  Travel_Frequently        944                 Sales   \n",
            "1191   53        0.0      Travel_Rarely        238                 Sales   \n",
            "758    31        0.0      Travel_Rarely        218                 Sales   \n",
            "1018   31        0.0      Travel_Rarely        691                 Sales   \n",
            "\n",
            "      DistanceFromHome      Education    EducationField  \\\n",
            "1348                 1        College           Medical   \n",
            "886                  4       Bachelor   Human_Resources   \n",
            "983                  3       Bachelor   Human_Resources   \n",
            "88                  22       Bachelor   Human_Resources   \n",
            "189                  3        College   Human_Resources   \n",
            "160                 10       Bachelor           Medical   \n",
            "839                  1        College     Life_Sciences   \n",
            "966                  9       Bachelor   Human_Resources   \n",
            "162                  1        College     Life_Sciences   \n",
            "1231                 8        College             Other   \n",
            "1375                 3         Master             Other   \n",
            "1462                22         Doctor           Medical   \n",
            "1316                25       Bachelor           Medical   \n",
            "1356                22       Bachelor           Medical   \n",
            "1387                 1         Master           Medical   \n",
            "1321                26       Bachelor   Human_Resources   \n",
            "1266                11       Bachelor     Life_Sciences   \n",
            "1330                 3  Below_College         Marketing   \n",
            "1052                 1        College  Technical_Degree   \n",
            "1449                 1         Master     Life_Sciences   \n",
            "1439                 1       Bachelor           Medical   \n",
            "1339                15         Master     Life_Sciences   \n",
            "1426                18         Master     Life_Sciences   \n",
            "1415                10       Bachelor     Life_Sciences   \n",
            "1322                 6       Bachelor     Life_Sciences   \n",
            "1284                14       Bachelor           Medical   \n",
            "1149                10       Bachelor     Life_Sciences   \n",
            "1126                23         Doctor     Life_Sciences   \n",
            "1374                 2       Bachelor     Life_Sciences   \n",
            "1050                 7       Bachelor           Medical   \n",
            "413                  2         Master           Medical   \n",
            "1293                15         Master         Marketing   \n",
            "1193                 1        College     Life_Sciences   \n",
            "653                 13         Master           Medical   \n",
            "1341                 1        College     Life_Sciences   \n",
            "432                 18         Master           Medical   \n",
            "747                  1       Bachelor         Marketing   \n",
            "1191                 1  Below_College           Medical   \n",
            "758                  7       Bachelor  Technical_Degree   \n",
            "1018                 7       Bachelor         Marketing   \n",
            "\n",
            "     EnvironmentSatisfaction  Gender  ...  PerformanceRating  \\\n",
            "1348                  Medium    Male  ...          Excellent   \n",
            "886                     High    Male  ...          Excellent   \n",
            "983                     High  Female  ...          Excellent   \n",
            "88                       Low  Female  ...          Excellent   \n",
            "189                     High    Male  ...          Excellent   \n",
            "160                      Low    Male  ...          Excellent   \n",
            "839                Very_High  Female  ...          Excellent   \n",
            "966                     High    Male  ...          Excellent   \n",
            "162                     High    Male  ...          Excellent   \n",
            "1231                    High    Male  ...          Excellent   \n",
            "1375               Very_High    Male  ...          Excellent   \n",
            "1462                  Medium  Female  ...        Outstanding   \n",
            "1316                  Medium  Female  ...        Outstanding   \n",
            "1356               Very_High  Female  ...          Excellent   \n",
            "1387                     Low    Male  ...        Outstanding   \n",
            "1321               Very_High  Female  ...          Excellent   \n",
            "1266                    High  Female  ...          Excellent   \n",
            "1330                     Low    Male  ...          Excellent   \n",
            "1052                  Medium    Male  ...          Excellent   \n",
            "1449                    High    Male  ...          Excellent   \n",
            "1439               Very_High  Female  ...        Outstanding   \n",
            "1339                     Low    Male  ...          Excellent   \n",
            "1426               Very_High    Male  ...          Excellent   \n",
            "1415               Very_High    Male  ...          Excellent   \n",
            "1322                     Low    Male  ...          Excellent   \n",
            "1284                    High    Male  ...          Excellent   \n",
            "1149                    High  Female  ...        Outstanding   \n",
            "1126                     Low  Female  ...          Excellent   \n",
            "1374                     Low    Male  ...          Excellent   \n",
            "1050                    High    Male  ...          Excellent   \n",
            "413                Very_High    Male  ...          Excellent   \n",
            "1293                  Medium    Male  ...          Excellent   \n",
            "1193                  Medium    Male  ...          Excellent   \n",
            "653                   Medium    Male  ...          Excellent   \n",
            "1341                     Low    Male  ...          Excellent   \n",
            "432                   Medium    Male  ...          Excellent   \n",
            "747                     High  Female  ...          Excellent   \n",
            "1191               Very_High  Female  ...        Outstanding   \n",
            "758                   Medium    Male  ...          Excellent   \n",
            "1018               Very_High    Male  ...          Excellent   \n",
            "\n",
            "     RelationshipSatisfaction  StockOptionLevel TotalWorkingYears  \\\n",
            "1348                Very_High                 1                24   \n",
            "886                    Medium                 1                10   \n",
            "983                      High                 1                12   \n",
            "88                        Low                 0                 1   \n",
            "189                      High                 1                 4   \n",
            "160                 Very_High                 1                 3   \n",
            "839                      High                 0                10   \n",
            "966                 Very_High                 0                12   \n",
            "162                    Medium                 1                 3   \n",
            "1231                     High                 0                19   \n",
            "1375                      Low                 1                26   \n",
            "1462                     High                 1                36   \n",
            "1316                     High                 0                22   \n",
            "1356                   Medium                 1                24   \n",
            "1387                     High                 0                27   \n",
            "1321                     High                 0                23   \n",
            "1266                   Medium                 0                21   \n",
            "1330                Very_High                 1                23   \n",
            "1052                     High                 1                14   \n",
            "1449                      Low                 1                34   \n",
            "1439                     High                 1                32   \n",
            "1339                   Medium                 0                23   \n",
            "1426                     High                 1                31   \n",
            "1415                Very_High                 0                29   \n",
            "1322                     High                 0                23   \n",
            "1284                      Low                 0                21   \n",
            "1149                      Low                 1                16   \n",
            "1126                   Medium                 0                16   \n",
            "1374                     High                 0                26   \n",
            "1050                Very_High                 0                14   \n",
            "413                      High                 2                 6   \n",
            "1293                      Low                 0                21   \n",
            "1193                Very_High                 1                18   \n",
            "653                      High                 0                 9   \n",
            "1341                Very_High                 1                24   \n",
            "432                 Very_High                 1                 6   \n",
            "747                       Low                 0                10   \n",
            "1191                Very_High                 0                18   \n",
            "758                    Medium                 1                10   \n",
            "1018                Very_High                 3                13   \n",
            "\n",
            "     TrainingTimesLastYear WorkLifeBalance  YearsAtCompany  \\\n",
            "1348                     1          Better              20   \n",
            "886                      4          Better               3   \n",
            "983                      3             Bad               8   \n",
            "88                       2          Better               1   \n",
            "189                      1             Bad               3   \n",
            "160                      2          Better               2   \n",
            "839                      3            Best               7   \n",
            "966                      2             Bad              11   \n",
            "162                      2          Better               3   \n",
            "1231                     4            Good              10   \n",
            "1375                     2            Best               2   \n",
            "1462                     6          Better              10   \n",
            "1316                     4          Better               0   \n",
            "1356                     3          Better              22   \n",
            "1387                     3            Good               5   \n",
            "1321                     3          Better               5   \n",
            "1266                     5          Better               5   \n",
            "1330                     3          Better              12   \n",
            "1052                     1             Bad               6   \n",
            "1449                     5          Better              33   \n",
            "1439                     3          Better               9   \n",
            "1339                     3          Better               2   \n",
            "1426                     5          Better              31   \n",
            "1415                     3          Better              22   \n",
            "1322                     5          Better              20   \n",
            "1284                     2            Best              20   \n",
            "1149                     2          Better              16   \n",
            "1126                     2          Better               1   \n",
            "1374                     2             Bad               3   \n",
            "1050                     3            Best              13   \n",
            "413                      5          Better               6   \n",
            "1293                     3          Better              20   \n",
            "1193                     1            Good              18   \n",
            "653                      2             Bad               3   \n",
            "1341                     4          Better               1   \n",
            "432                      2             Bad               5   \n",
            "747                      3            Best              10   \n",
            "1191                     2            Best              14   \n",
            "758                      3            Good               8   \n",
            "1018                     3          Better               7   \n",
            "\n",
            "      YearsInCurrentRole  YearsSinceLastPromotion YearsWithCurrManager  \n",
            "1348                   6                        3                    6  \n",
            "886                    2                        1                    2  \n",
            "983                    3                        3                    6  \n",
            "88                     0                        0                    0  \n",
            "189                    2                        0                    2  \n",
            "160                    2                        2                    1  \n",
            "839                    6                        5                    7  \n",
            "966                    9                        4                    7  \n",
            "162                    2                        2                    2  \n",
            "1231                   0                        4                    7  \n",
            "1375                   2                        0                    1  \n",
            "1462                   8                        4                    7  \n",
            "1316                   0                        0                    0  \n",
            "1356                  17                        4                    7  \n",
            "1387                   4                        2                    1  \n",
            "1321                   3                        4                    4  \n",
            "1266                   4                        4                    4  \n",
            "1330                   9                        4                    9  \n",
            "1052                   4                        0                    4  \n",
            "1449                  18                       11                    9  \n",
            "1439                   8                        1                    5  \n",
            "1339                   2                        2                    2  \n",
            "1426                   9                        0                    9  \n",
            "1415                  10                       12                    9  \n",
            "1322                  18                       15                   15  \n",
            "1284                   7                        4                    9  \n",
            "1149                  11                        6                    8  \n",
            "1126                   0                        0                    0  \n",
            "1374                   2                        0                    1  \n",
            "1050                   9                        3                    7  \n",
            "413                    2                        0                    4  \n",
            "1293                   8                       11                   10  \n",
            "1193                  14                        4                   11  \n",
            "653                    1                        1                    2  \n",
            "1341                   0                        1                    0  \n",
            "432                    3                        0                    4  \n",
            "747                    7                        0                    8  \n",
            "1191                   7                        8                   10  \n",
            "758                    7                        7                    7  \n",
            "1018                   7                        1                    7  \n",
            "\n",
            "[40 rows x 31 columns]\n"
          ]
        },
        {
          "name": "stderr",
          "output_type": "stream",
          "text": [
            "C:\\Users\\ASUS\\AppData\\Local\\Temp\\ipykernel_30044\\1206785245.py:12: SettingWithCopyWarning: \n",
            "A value is trying to be set on a copy of a slice from a DataFrame.\n",
            "Try using .loc[row_indexer,col_indexer] = value instead\n",
            "\n",
            "See the caveats in the documentation: https://pandas.pydata.org/pandas-docs/stable/user_guide/indexing.html#returning-a-view-versus-a-copy\n",
            "  attrition_filtered['JobRole'] = attrition_filtered['JobRole'].cat.remove_unused_categories()\n"
          ]
        }
      ],
      "source": [
        "# Create a list of unique JobRole values\n",
        "job_roles_pop = list(attrition_pop['JobRole'].unique())\n",
        "\n",
        "# Randomly sample four JobRole values\n",
        "job_roles_samp = random.sample(job_roles_pop, k=4)\n",
        "\n",
        "# Filter for rows where JobRole is in job_roles_samp\n",
        "jobrole_condition = attrition_pop['JobRole'].isin(job_roles_samp)\n",
        "attrition_filtered = attrition_pop[jobrole_condition]\n",
        "\n",
        "# Remove categories with no rows\n",
        "attrition_filtered['JobRole'] = attrition_filtered['JobRole'].cat.remove_unused_categories()\n",
        "\n",
        "# Randomly sample 10 employees from each sampled job role\n",
        "attrition_clust = attrition_filtered.groupby(\"JobRole\")\\\n",
        "    .sample(n=10, random_state=2022)\n",
        "\n",
        "# Print the sample\n",
        "print(attrition_clust)   "
      ]
    },
    {
      "attachments": {},
      "cell_type": "markdown",
      "metadata": {
        "id": "QysLEuEvZW_j"
      },
      "source": [
        "#Comparing sampling methods\n",
        "\n",
        "## Review of sampling techniques - setup\n",
        "For convenience, we'll stick to the six countries with the most coffee varieties that we used before. This corresponds to eight hundred and eighty rows and eight columns, retrieved using the dot-shape attribute."
      ]
    },
    {
      "cell_type": "code",
      "execution_count": 41,
      "metadata": {
        "colab": {
          "base_uri": "https://localhost:8080/"
        },
        "id": "Clm2-FZZNn3B",
        "outputId": "1468e4dc-3d1b-4f32-df8d-b6b4d7f6d05c"
      },
      "outputs": [
        {
          "data": {
            "text/plain": [
              "(880, 43)"
            ]
          },
          "execution_count": 41,
          "metadata": {},
          "output_type": "execute_result"
        }
      ],
      "source": [
        "top_counted_countries = [\"Mexico\", \"Colombia\", \"Guatemala\", \"Brazil\",\"Taiwan\",\"United States (Hawaii)\"]\n",
        "\n",
        "subset_conditions = coffee_ratings['country_of_origin'].isin(top_counted_countries)\n",
        "\n",
        "coffee_ratings_top = coffee_ratings[subset_conditions]\n",
        "coffee_ratings_top.shape"
      ]
    },
    {
      "attachments": {},
      "cell_type": "markdown",
      "metadata": {
        "id": "1SJryOheOeiu"
      },
      "source": [
        "##Review of simple random sampling\n",
        "Simple random sampling uses dot-sample with either n or frac set to determine how many rows to pseudo-randomly choose, given a seed value set with random_state. The simple random sample returns two hundred and ninety-three rows because we specified frac as one-third, and one-third of eight hundred and eighty is just over two hundred and ninety-three."
      ]
    },
    {
      "cell_type": "code",
      "execution_count": 42,
      "metadata": {
        "colab": {
          "base_uri": "https://localhost:8080/"
        },
        "id": "479yZEPyZYZy",
        "outputId": "fddd5a6a-0fee-4e96-c338-cce0fe3af83b"
      },
      "outputs": [
        {
          "data": {
            "text/plain": [
              "(293, 43)"
            ]
          },
          "execution_count": 42,
          "metadata": {},
          "output_type": "execute_result"
        }
      ],
      "source": [
        "coffee_ratings_srs = coffee_ratings_top.sample(frac =1/3, random_state =2021)\n",
        "coffee_ratings_srs.shape"
      ]
    },
    {
      "attachments": {},
      "cell_type": "markdown",
      "metadata": {
        "id": "zVzCIkehQUmb"
      },
      "source": [
        "## Review of stratified sampling\n",
        "Stratified sampling groups by the country subgroup before performing simple random sampling on each subgroup. Given each of these top countries have quite a few rows, stratifying produces the same number of rows as the simple random sample."
      ]
    },
    {
      "cell_type": "code",
      "execution_count": 43,
      "metadata": {
        "colab": {
          "base_uri": "https://localhost:8080/"
        },
        "id": "xZpOhwUrZoXA",
        "outputId": "916f7e91-05bf-4e51-973f-700884234633"
      },
      "outputs": [
        {
          "data": {
            "text/plain": [
              "(293, 43)"
            ]
          },
          "execution_count": 43,
          "metadata": {},
          "output_type": "execute_result"
        }
      ],
      "source": [
        "coffee_ratings_strat = coffee_ratings_top.groupby(\"country_of_origin\")\\\n",
        "    .sample(frac =1/3, random_state=2021)\n",
        "coffee_ratings_strat.shape"
      ]
    },
    {
      "attachments": {},
      "cell_type": "markdown",
      "metadata": {
        "id": "WAhf2-3nYZ_5"
      },
      "source": [
        "##Review of cluster sampling\n",
        "n the cluster sample, we've used two out of six countries to roughly mimic frac equals one-third from the other sample types. Setting n equal to one-sixth of the total number of rows gives roughly equal sample sizes in each of the two subgroups. Using dot-shape again, we see that this cluster sample has close to the same number of rows: two-hundred-ninety-two compared to two-hundred-ninety-three for the other sample types."
      ]
    },
    {
      "cell_type": "code",
      "execution_count": 44,
      "metadata": {
        "colab": {
          "base_uri": "https://localhost:8080/"
        },
        "id": "FF9x-2DrRw9w",
        "outputId": "988aa816-876c-4e75-abb0-2dcb10c2ab1c"
      },
      "outputs": [
        {
          "name": "stderr",
          "output_type": "stream",
          "text": [
            "C:\\Users\\ASUS\\AppData\\Local\\Temp\\ipykernel_30044\\2894363304.py:6: SettingWithCopyWarning: \n",
            "A value is trying to be set on a copy of a slice from a DataFrame.\n",
            "Try using .loc[row_indexer,col_indexer] = value instead\n",
            "\n",
            "See the caveats in the documentation: https://pandas.pydata.org/pandas-docs/stable/user_guide/indexing.html#returning-a-view-versus-a-copy\n",
            "  coffee_ratings_cluster['country_of_origin'] = coffee_ratings_cluster['country_of_origin'].astype('category')\n",
            "C:\\Users\\ASUS\\AppData\\Local\\Temp\\ipykernel_30044\\2894363304.py:7: SettingWithCopyWarning: \n",
            "A value is trying to be set on a copy of a slice from a DataFrame.\n",
            "Try using .loc[row_indexer,col_indexer] = value instead\n",
            "\n",
            "See the caveats in the documentation: https://pandas.pydata.org/pandas-docs/stable/user_guide/indexing.html#returning-a-view-versus-a-copy\n",
            "  coffee_ratings_cluster['country_of_origin'] = coffee_ratings_cluster['country_of_origin']\\\n"
          ]
        }
      ],
      "source": [
        "import random\n",
        "\n",
        "top_countries_samp = random.sample(top_counted_countries, k=2)\n",
        "top_condition = coffee_ratings_top['country_of_origin'].isin(top_countries_samp)\n",
        "coffee_ratings_cluster = coffee_ratings_top[top_condition]\n",
        "coffee_ratings_cluster['country_of_origin'] = coffee_ratings_cluster['country_of_origin'].astype('category')\n",
        "coffee_ratings_cluster['country_of_origin'] = coffee_ratings_cluster['country_of_origin']\\\n",
        "    .cat.remove_unused_categories()\n",
        "\n",
        "coffee_ratings_clust = coffee_ratings_cluster.groupby(\"country_of_origin\")\\\n",
        "    .sample(n = len(coffee_ratings_top)//6, replace=True)"
      ]
    },
    {
      "attachments": {},
      "cell_type": "markdown",
      "metadata": {
        "id": "qO6rBtNcXVxU"
      },
      "source": [
        "![image.png](data:image/png;base64,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)"
      ]
    },
    {
      "attachments": {},
      "cell_type": "markdown",
      "metadata": {
        "id": "uVgMNUMYYFDj"
      },
      "source": [
        "##3 kinds of sampling\n",
        "You're going to compare the performance of point estimates using simple, stratified, and cluster sampling. Before doing that, you'll have to set up the samples.\n",
        "\n",
        "You'll use the RelationshipSatisfaction column of the attrition_pop dataset, which categorizes the employee's relationship with the company. It has four levels: Low, Medium, High, and Very_High. pandas has been loaded with its usual alias, and the random package has been loaded."
      ]
    },
    {
      "cell_type": "code",
      "execution_count": 45,
      "metadata": {
        "id": "mUgxhpLzXWSN"
      },
      "outputs": [],
      "source": [
        "# Perform simple random sampling to get 0.25 of the population\n",
        "attrition_srs = attrition_pop.sample(frac = 0.25, random_state = 2022)"
      ]
    },
    {
      "cell_type": "code",
      "execution_count": 46,
      "metadata": {
        "id": "ZzUsvMFge-oZ"
      },
      "outputs": [],
      "source": [
        "# Perform stratified sampling to get 0.25 of each relationship group\n",
        "attrition_strat = attrition_pop.groupby(\"RelationshipSatisfaction\").sample(frac =1/4, random_state =2022)\n"
      ]
    },
    {
      "cell_type": "code",
      "execution_count": null,
      "metadata": {
        "colab": {
          "base_uri": "https://localhost:8080/"
        },
        "id": "v2rPgw6be7gh",
        "outputId": "92dfc2ef-48b4-4a92-a0a0-0ba5a39b0473"
      },
      "outputs": [
        {
          "name": "stderr",
          "output_type": "stream",
          "text": [
            "C:\\Users\\ASUS\\AppData\\Local\\Temp\\ipykernel_16688\\146347558.py:10: SettingWithCopyWarning: \n",
            "A value is trying to be set on a copy of a slice from a DataFrame.\n",
            "Try using .loc[row_indexer,col_indexer] = value instead\n",
            "\n",
            "See the caveats in the documentation: https://pandas.pydata.org/pandas-docs/stable/user_guide/indexing.html#returning-a-view-versus-a-copy\n",
            "  attrition_clust_prep['RelationshipSatisfaction'] = attrition_clust_prep['RelationshipSatisfaction'].cat.remove_unused_categories()\n"
          ]
        }
      ],
      "source": [
        "# Create a list of unique RelationshipSatisfaction values\n",
        "satisfaction_unique = list(attrition_pop['RelationshipSatisfaction'].unique())\n",
        "\n",
        "# Randomly sample 2 unique satisfaction values\n",
        "satisfaction_samp = random.sample(satisfaction_unique, k=2)\n",
        "\n",
        "# Filter for satisfaction_samp and clear unused categories from RelationshipSatisfaction\n",
        "satis_condition = attrition_pop['RelationshipSatisfaction'].isin(satisfaction_samp)\n",
        "attrition_clust_prep = attrition_pop[satis_condition]\n",
        "attrition_clust_prep['RelationshipSatisfaction'] = attrition_clust_prep['RelationshipSatisfaction'].cat.remove_unused_categories()\n",
        "\n",
        "# Perform cluster sampling on the selected group, getting 0.25 of attrition_pop\n",
        "attrition_clust = attrition_clust_prep.groupby(\"RelationshipSatisfaction\")\\\n",
        "    .sample(n=len(attrition_pop) // 4, random_state=2022, replace = True)"
      ]
    },
    {
      "attachments": {},
      "cell_type": "markdown",
      "metadata": {
        "id": "zD_TnFmRfbQS"
      },
      "source": [
        "##Comparing point estimates\n",
        "Now that you have three types of sample (simple, stratified, and cluster), you can compare point estimates from each sample to the population parameter. That is, you can calculate the same summary statistic on each sample and see how it compares to the summary statistic for the population.\n",
        "\n",
        "Here, we'll look at how satisfaction with the company affects whether or not the employee leaves the company. That is, you'll calculate the proportion of employees who left the company (they have an Attrition value of 1) for each value of RelationshipSatisfaction.\n",
        "\n",
        "attrition_pop, attrition_srs, attrition_strat, and attrition_clust are available; pandas is loaded with its usual alias"
      ]
    },
    {
      "cell_type": "code",
      "execution_count": null,
      "metadata": {
        "colab": {
          "base_uri": "https://localhost:8080/"
        },
        "id": "0_3GzxxhfdWH",
        "outputId": "eeaa5255-fa6c-4818-a1b1-f2f57c360751"
      },
      "outputs": [
        {
          "name": "stdout",
          "output_type": "stream",
          "text": [
            "RelationshipSatisfaction\n",
            "Low          0.206522\n",
            "Medium       0.148515\n",
            "High         0.154684\n",
            "Very_High    0.148148\n",
            "Name: Attrition, dtype: float64\n"
          ]
        }
      ],
      "source": [
        "# Mean Attrition by RelationshipSatisfaction group\n",
        "mean_attrition_pop = attrition_pop.groupby('RelationshipSatisfaction')['Attrition'].mean()\n",
        "\n",
        "# Print the result\n",
        "print(mean_attrition_pop)"
      ]
    },
    {
      "cell_type": "code",
      "execution_count": null,
      "metadata": {
        "colab": {
          "base_uri": "https://localhost:8080/"
        },
        "id": "8iTjnZgKgWT6",
        "outputId": "6703744c-3e3f-49c5-8af5-b15bfbba5583"
      },
      "outputs": [
        {
          "name": "stdout",
          "output_type": "stream",
          "text": [
            "RelationshipSatisfaction\n",
            "Low          0.134328\n",
            "Medium       0.164179\n",
            "High         0.160000\n",
            "Very_High    0.155963\n",
            "Name: Attrition, dtype: float64\n"
          ]
        }
      ],
      "source": [
        "# Calculate the same thing for the simple random sample \n",
        "mean_attrition_srs = attrition_srs.groupby('RelationshipSatisfaction')['Attrition'].mean()\n",
        "\n",
        "# Print the result\n",
        "print(mean_attrition_srs)"
      ]
    },
    {
      "cell_type": "code",
      "execution_count": null,
      "metadata": {
        "colab": {
          "base_uri": "https://localhost:8080/"
        },
        "id": "uL_1uBkOgh6j",
        "outputId": "f2ad4f00-b023-4615-97c0-0c893250b07d"
      },
      "outputs": [
        {
          "name": "stdout",
          "output_type": "stream",
          "text": [
            "RelationshipSatisfaction\n",
            "Low          0.144928\n",
            "Medium       0.078947\n",
            "High         0.165217\n",
            "Very_High    0.129630\n",
            "Name: Attrition, dtype: float64\n"
          ]
        }
      ],
      "source": [
        "# Calculate the same thing for the stratified sample \n",
        "mean_attrition_strat = attrition_strat.groupby('RelationshipSatisfaction')['Attrition'].mean()\n",
        "\n",
        "# Print the result\n",
        "print(mean_attrition_strat)"
      ]
    },
    {
      "cell_type": "code",
      "execution_count": null,
      "metadata": {
        "colab": {
          "base_uri": "https://localhost:8080/"
        },
        "id": "6G0nxBIAgnJ9",
        "outputId": "dfdf85ba-ee52-4950-dd60-87c5548278dc"
      },
      "outputs": [
        {
          "name": "stdout",
          "output_type": "stream",
          "text": [
            "RelationshipSatisfaction\n",
            "Low     0.204360\n",
            "High    0.155313\n",
            "Name: Attrition, dtype: float64\n"
          ]
        }
      ],
      "source": [
        "# Calculate the same thing for the cluster sample \n",
        "mean_attrition_clust = attrition_clust.groupby('RelationshipSatisfaction')['Attrition'].mean()\n",
        "\n",
        "# Print the result\n",
        "print(mean_attrition_clust)"
      ]
    }
  ],
  "metadata": {
    "colab": {
      "provenance": [],
      "toc_visible": true
    },
    "kernelspec": {
      "display_name": "Python 3",
      "name": "python3"
    },
    "language_info": {
      "codemirror_mode": {
        "name": "ipython",
        "version": 3
      },
      "file_extension": ".py",
      "mimetype": "text/x-python",
      "name": "python",
      "nbconvert_exporter": "python",
      "pygments_lexer": "ipython3",
      "version": "3.9.9"
    }
  },
  "nbformat": 4,
  "nbformat_minor": 0
}
