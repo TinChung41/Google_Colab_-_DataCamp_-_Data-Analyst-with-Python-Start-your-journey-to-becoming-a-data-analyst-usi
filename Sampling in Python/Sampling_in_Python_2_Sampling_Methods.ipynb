{
  "cells": [
    {
      "cell_type": "code",
      "execution_count": 22,
      "metadata": {
        "colab": {
          "base_uri": "https://localhost:8080/"
        },
        "id": "OvNWmUZWZ65t",
        "outputId": "393094d8-c729-47d2-c684-d6082e6228d1"
      },
      "outputs": [
        {
          "data": {
            "text/plain": [
              "\"from google.colab import drive\\ndrive.mount('/content/drive')\\n\""
            ]
          },
          "execution_count": 22,
          "metadata": {},
          "output_type": "execute_result"
        }
      ],
      "source": [
        "'''from google.colab import drive\n",
        "drive.mount('/content/drive')\n",
        "'''"
      ]
    },
    {
      "cell_type": "code",
      "execution_count": 23,
      "metadata": {
        "id": "_LoGRkuMaUFN"
      },
      "outputs": [
        {
          "data": {
            "text/plain": [
              "'from scipy.stats import binom\\nfrom scipy.stats import linregress\\n\\nimport statsmodels.formula.api as smf'"
            ]
          },
          "execution_count": 23,
          "metadata": {},
          "output_type": "execute_result"
        }
      ],
      "source": [
        "import numpy as np\n",
        "import pandas as pd\n",
        "import matplotlib.pyplot as plt\n",
        "import seaborn as sns\n",
        "import random\n",
        "\n",
        "'''from scipy.stats import binom\n",
        "from scipy.stats import linregress\n",
        "\n",
        "import statsmodels.formula.api as smf'''"
      ]
    },
    {
      "cell_type": "code",
      "execution_count": 24,
      "metadata": {
        "id": "WN6woOBgzv2v"
      },
      "outputs": [],
      "source": [
        "#For VScode\n",
        "coffee_ratings = pd.read_feather(r'D:\\sem 2 year 3\\DataCamp\\DA track git\\Google_Colab_DataCamp_Data_Analyst\\Sampling in Python\\Dataset\\coffee_ratings_full.feather' )\n",
        "\n",
        "\n",
        "spotify_population = pd.read_feather(r'D:\\sem 2 year 3\\DataCamp\\DA track git\\Google_Colab_DataCamp_Data_Analyst\\Sampling in Python\\Dataset\\spotify_2000_2020.feather' )\n",
        "\n",
        "attrition_pop = pd.read_feather(r'D:\\sem 2 year 3\\DataCamp\\DA track git\\Google_Colab_DataCamp_Data_Analyst\\Sampling in Python\\Dataset\\attrition.feather')\n",
        "\n",
        "#For colab\n",
        "#coffee_ratings = pd.read_feather(r'/content/drive/MyDrive/DataCamp and Linkedin Learning/CAREER TRACK Data Analyst with Python/Dataset/Introduction to Sampling/coffee_ratings_full.feather')\n",
        "\n",
        "#spotify_population = pd.read_feather(r'/content/drive/MyDrive/DataCamp and Linkedin Learning/CAREER TRACK Data Analyst with Python/Dataset/Introduction to Sampling/spotify_2000_2020.feather')\n",
        "\n",
        "#attrition_pop = pd.read_feather(r'/content/drive/MyDrive/DataCamp and Linkedin Learning/CAREER TRACK Data Analyst with Python/Dataset/Introduction to Sampling/attrition.feather')\n"
      ]
    },
    {
      "cell_type": "code",
      "execution_count": 25,
      "metadata": {},
      "outputs": [
        {
          "data": {
            "text/html": [
              "<div>\n",
              "<style scoped>\n",
              "    .dataframe tbody tr th:only-of-type {\n",
              "        vertical-align: middle;\n",
              "    }\n",
              "\n",
              "    .dataframe tbody tr th {\n",
              "        vertical-align: top;\n",
              "    }\n",
              "\n",
              "    .dataframe thead th {\n",
              "        text-align: right;\n",
              "    }\n",
              "</style>\n",
              "<table border=\"1\" class=\"dataframe\">\n",
              "  <thead>\n",
              "    <tr style=\"text-align: right;\">\n",
              "      <th></th>\n",
              "      <th>total_cup_points</th>\n",
              "      <th>species</th>\n",
              "      <th>owner</th>\n",
              "      <th>country_of_origin</th>\n",
              "      <th>farm_name</th>\n",
              "      <th>lot_number</th>\n",
              "      <th>mill</th>\n",
              "      <th>ico_number</th>\n",
              "      <th>company</th>\n",
              "      <th>altitude</th>\n",
              "      <th>...</th>\n",
              "      <th>color</th>\n",
              "      <th>category_two_defects</th>\n",
              "      <th>expiration</th>\n",
              "      <th>certification_body</th>\n",
              "      <th>certification_address</th>\n",
              "      <th>certification_contact</th>\n",
              "      <th>unit_of_measurement</th>\n",
              "      <th>altitude_low_meters</th>\n",
              "      <th>altitude_high_meters</th>\n",
              "      <th>altitude_mean_meters</th>\n",
              "    </tr>\n",
              "  </thead>\n",
              "  <tbody>\n",
              "    <tr>\n",
              "      <th>437</th>\n",
              "      <td>83.25</td>\n",
              "      <td>Arabica</td>\n",
              "      <td>exportadora de cafe condor s.a</td>\n",
              "      <td>Colombia</td>\n",
              "      <td>None</td>\n",
              "      <td>None</td>\n",
              "      <td>trilladora bonanza - armenia quindioa</td>\n",
              "      <td>3-68-0205</td>\n",
              "      <td>None</td>\n",
              "      <td>1600-1800msnm</td>\n",
              "      <td>...</td>\n",
              "      <td>None</td>\n",
              "      <td>0.0</td>\n",
              "      <td>June 13th, 2012</td>\n",
              "      <td>Almacafé</td>\n",
              "      <td>e493c36c2d076bf273064f7ac23ad562af257a25</td>\n",
              "      <td>70d3c0c26f89e00fdae6fb39ff54f0d2eb1c38ab</td>\n",
              "      <td>m</td>\n",
              "      <td>1600.0</td>\n",
              "      <td>1800.0</td>\n",
              "      <td>1700.0</td>\n",
              "    </tr>\n",
              "    <tr>\n",
              "      <th>285</th>\n",
              "      <td>83.83</td>\n",
              "      <td>Arabica</td>\n",
              "      <td>ipanema coffees</td>\n",
              "      <td>Brazil</td>\n",
              "      <td>fazenda rio verde</td>\n",
              "      <td>None</td>\n",
              "      <td>ipanema coffees</td>\n",
              "      <td>002/4177/0121</td>\n",
              "      <td>ipanema coffees</td>\n",
              "      <td>1260</td>\n",
              "      <td>...</td>\n",
              "      <td>Green</td>\n",
              "      <td>0.0</td>\n",
              "      <td>December 26th, 2014</td>\n",
              "      <td>Specialty Coffee Association</td>\n",
              "      <td>36d0d00a3724338ba7937c52a378d085f2172daa</td>\n",
              "      <td>0878a7d4b9d35ddbf0fe2ce69a2062cceb45a660</td>\n",
              "      <td>m</td>\n",
              "      <td>1260.0</td>\n",
              "      <td>1260.0</td>\n",
              "      <td>1260.0</td>\n",
              "    </tr>\n",
              "    <tr>\n",
              "      <th>784</th>\n",
              "      <td>82.08</td>\n",
              "      <td>Arabica</td>\n",
              "      <td>cafe politico</td>\n",
              "      <td>Colombia</td>\n",
              "      <td>None</td>\n",
              "      <td>None</td>\n",
              "      <td>None</td>\n",
              "      <td>3-59-1656</td>\n",
              "      <td>cafe politico</td>\n",
              "      <td>None</td>\n",
              "      <td>...</td>\n",
              "      <td>Green</td>\n",
              "      <td>0.0</td>\n",
              "      <td>September 12th, 2015</td>\n",
              "      <td>Specialty Coffee Association</td>\n",
              "      <td>36d0d00a3724338ba7937c52a378d085f2172daa</td>\n",
              "      <td>0878a7d4b9d35ddbf0fe2ce69a2062cceb45a660</td>\n",
              "      <td>m</td>\n",
              "      <td>NaN</td>\n",
              "      <td>NaN</td>\n",
              "      <td>NaN</td>\n",
              "    </tr>\n",
              "    <tr>\n",
              "      <th>648</th>\n",
              "      <td>82.58</td>\n",
              "      <td>Arabica</td>\n",
              "      <td>exportadora de cafe condor s.a</td>\n",
              "      <td>Colombia</td>\n",
              "      <td>None</td>\n",
              "      <td>None</td>\n",
              "      <td>trilladora boananza</td>\n",
              "      <td>3-68-0140</td>\n",
              "      <td>exportadora de cafe condor s.a</td>\n",
              "      <td>1750 msnm</td>\n",
              "      <td>...</td>\n",
              "      <td>Green</td>\n",
              "      <td>0.0</td>\n",
              "      <td>February 27th, 2014</td>\n",
              "      <td>Almacafé</td>\n",
              "      <td>e493c36c2d076bf273064f7ac23ad562af257a25</td>\n",
              "      <td>70d3c0c26f89e00fdae6fb39ff54f0d2eb1c38ab</td>\n",
              "      <td>m</td>\n",
              "      <td>1750.0</td>\n",
              "      <td>1750.0</td>\n",
              "      <td>1750.0</td>\n",
              "    </tr>\n",
              "    <tr>\n",
              "      <th>155</th>\n",
              "      <td>84.58</td>\n",
              "      <td>Arabica</td>\n",
              "      <td>exportadora de cafe condor s.a</td>\n",
              "      <td>Colombia</td>\n",
              "      <td>various</td>\n",
              "      <td>None</td>\n",
              "      <td>trilladora boananza</td>\n",
              "      <td>3-68-0005</td>\n",
              "      <td>exportadora de cafe condor s.a</td>\n",
              "      <td>1800 msnm</td>\n",
              "      <td>...</td>\n",
              "      <td>Green</td>\n",
              "      <td>6.0</td>\n",
              "      <td>October 9th, 2013</td>\n",
              "      <td>Almacafé</td>\n",
              "      <td>e493c36c2d076bf273064f7ac23ad562af257a25</td>\n",
              "      <td>70d3c0c26f89e00fdae6fb39ff54f0d2eb1c38ab</td>\n",
              "      <td>m</td>\n",
              "      <td>1800.0</td>\n",
              "      <td>1800.0</td>\n",
              "      <td>1800.0</td>\n",
              "    </tr>\n",
              "  </tbody>\n",
              "</table>\n",
              "<p>5 rows × 43 columns</p>\n",
              "</div>"
            ],
            "text/plain": [
              "     total_cup_points  species                           owner  \\\n",
              "437             83.25  Arabica  exportadora de cafe condor s.a   \n",
              "285             83.83  Arabica                 ipanema coffees   \n",
              "784             82.08  Arabica                   cafe politico   \n",
              "648             82.58  Arabica  exportadora de cafe condor s.a   \n",
              "155             84.58  Arabica  exportadora de cafe condor s.a   \n",
              "\n",
              "    country_of_origin          farm_name lot_number  \\\n",
              "437          Colombia               None       None   \n",
              "285            Brazil  fazenda rio verde       None   \n",
              "784          Colombia               None       None   \n",
              "648          Colombia               None       None   \n",
              "155          Colombia            various       None   \n",
              "\n",
              "                                      mill     ico_number  \\\n",
              "437  trilladora bonanza - armenia quindioa      3-68-0205   \n",
              "285                        ipanema coffees  002/4177/0121   \n",
              "784                                   None      3-59-1656   \n",
              "648                    trilladora boananza      3-68-0140   \n",
              "155                    trilladora boananza      3-68-0005   \n",
              "\n",
              "                            company       altitude  ...  color  \\\n",
              "437                            None  1600-1800msnm  ...   None   \n",
              "285                 ipanema coffees           1260  ...  Green   \n",
              "784                   cafe politico           None  ...  Green   \n",
              "648  exportadora de cafe condor s.a      1750 msnm  ...  Green   \n",
              "155  exportadora de cafe condor s.a      1800 msnm  ...  Green   \n",
              "\n",
              "    category_two_defects            expiration            certification_body  \\\n",
              "437                  0.0       June 13th, 2012                      Almacafé   \n",
              "285                  0.0   December 26th, 2014  Specialty Coffee Association   \n",
              "784                  0.0  September 12th, 2015  Specialty Coffee Association   \n",
              "648                  0.0   February 27th, 2014                      Almacafé   \n",
              "155                  6.0     October 9th, 2013                      Almacafé   \n",
              "\n",
              "                        certification_address  \\\n",
              "437  e493c36c2d076bf273064f7ac23ad562af257a25   \n",
              "285  36d0d00a3724338ba7937c52a378d085f2172daa   \n",
              "784  36d0d00a3724338ba7937c52a378d085f2172daa   \n",
              "648  e493c36c2d076bf273064f7ac23ad562af257a25   \n",
              "155  e493c36c2d076bf273064f7ac23ad562af257a25   \n",
              "\n",
              "                        certification_contact unit_of_measurement  \\\n",
              "437  70d3c0c26f89e00fdae6fb39ff54f0d2eb1c38ab                   m   \n",
              "285  0878a7d4b9d35ddbf0fe2ce69a2062cceb45a660                   m   \n",
              "784  0878a7d4b9d35ddbf0fe2ce69a2062cceb45a660                   m   \n",
              "648  70d3c0c26f89e00fdae6fb39ff54f0d2eb1c38ab                   m   \n",
              "155  70d3c0c26f89e00fdae6fb39ff54f0d2eb1c38ab                   m   \n",
              "\n",
              "    altitude_low_meters altitude_high_meters altitude_mean_meters  \n",
              "437              1600.0               1800.0               1700.0  \n",
              "285              1260.0               1260.0               1260.0  \n",
              "784                 NaN                  NaN                  NaN  \n",
              "648              1750.0               1750.0               1750.0  \n",
              "155              1800.0               1800.0               1800.0  \n",
              "\n",
              "[5 rows x 43 columns]"
            ]
          },
          "execution_count": 25,
          "metadata": {},
          "output_type": "execute_result"
        }
      ],
      "source": [
        "coffee_ratings.sample(n=5, random_state= 19000113)"
      ]
    },
    {
      "cell_type": "code",
      "execution_count": 26,
      "metadata": {},
      "outputs": [
        {
          "name": "stdout",
          "output_type": "stream",
          "text": [
            "1338\n"
          ]
        }
      ],
      "source": [
        "sample_size = 5\n",
        "pop_size = len(coffee_ratings)\n",
        "print(pop_size)"
      ]
    },
    {
      "cell_type": "code",
      "execution_count": 27,
      "metadata": {},
      "outputs": [
        {
          "name": "stdout",
          "output_type": "stream",
          "text": [
            "267\n"
          ]
        }
      ],
      "source": [
        "interval = pop_size//sample_size\n",
        "print(interval)\n",
        "#tạo interval để chọn sample size theo ý muốn"
      ]
    },
    {
      "cell_type": "code",
      "execution_count": 28,
      "metadata": {},
      "outputs": [
        {
          "data": {
            "text/html": [
              "<div>\n",
              "<style scoped>\n",
              "    .dataframe tbody tr th:only-of-type {\n",
              "        vertical-align: middle;\n",
              "    }\n",
              "\n",
              "    .dataframe tbody tr th {\n",
              "        vertical-align: top;\n",
              "    }\n",
              "\n",
              "    .dataframe thead th {\n",
              "        text-align: right;\n",
              "    }\n",
              "</style>\n",
              "<table border=\"1\" class=\"dataframe\">\n",
              "  <thead>\n",
              "    <tr style=\"text-align: right;\">\n",
              "      <th></th>\n",
              "      <th>total_cup_points</th>\n",
              "      <th>species</th>\n",
              "      <th>owner</th>\n",
              "      <th>country_of_origin</th>\n",
              "      <th>farm_name</th>\n",
              "      <th>lot_number</th>\n",
              "      <th>mill</th>\n",
              "      <th>ico_number</th>\n",
              "      <th>company</th>\n",
              "      <th>altitude</th>\n",
              "      <th>...</th>\n",
              "      <th>color</th>\n",
              "      <th>category_two_defects</th>\n",
              "      <th>expiration</th>\n",
              "      <th>certification_body</th>\n",
              "      <th>certification_address</th>\n",
              "      <th>certification_contact</th>\n",
              "      <th>unit_of_measurement</th>\n",
              "      <th>altitude_low_meters</th>\n",
              "      <th>altitude_high_meters</th>\n",
              "      <th>altitude_mean_meters</th>\n",
              "    </tr>\n",
              "  </thead>\n",
              "  <tbody>\n",
              "    <tr>\n",
              "      <th>0</th>\n",
              "      <td>90.58</td>\n",
              "      <td>Arabica</td>\n",
              "      <td>metad plc</td>\n",
              "      <td>Ethiopia</td>\n",
              "      <td>metad plc</td>\n",
              "      <td>None</td>\n",
              "      <td>metad plc</td>\n",
              "      <td>2014/2015</td>\n",
              "      <td>metad agricultural developmet plc</td>\n",
              "      <td>1950-2200</td>\n",
              "      <td>...</td>\n",
              "      <td>Green</td>\n",
              "      <td>0.0</td>\n",
              "      <td>April 3rd, 2016</td>\n",
              "      <td>METAD Agricultural Development plc</td>\n",
              "      <td>309fcf77415a3661ae83e027f7e5f05dad786e44</td>\n",
              "      <td>19fef5a731de2db57d16da10287413f5f99bc2dd</td>\n",
              "      <td>m</td>\n",
              "      <td>1950.0</td>\n",
              "      <td>2200.0</td>\n",
              "      <td>2075.0</td>\n",
              "    </tr>\n",
              "    <tr>\n",
              "      <th>267</th>\n",
              "      <td>83.92</td>\n",
              "      <td>Arabica</td>\n",
              "      <td>federacion nacional de cafeteros</td>\n",
              "      <td>Colombia</td>\n",
              "      <td>None</td>\n",
              "      <td>None</td>\n",
              "      <td>None</td>\n",
              "      <td>01-1969</td>\n",
              "      <td>federacion nacional de cafeteros</td>\n",
              "      <td>None</td>\n",
              "      <td>...</td>\n",
              "      <td>None</td>\n",
              "      <td>1.0</td>\n",
              "      <td>March 11th, 2016</td>\n",
              "      <td>Almacafé</td>\n",
              "      <td>e493c36c2d076bf273064f7ac23ad562af257a25</td>\n",
              "      <td>70d3c0c26f89e00fdae6fb39ff54f0d2eb1c38ab</td>\n",
              "      <td>m</td>\n",
              "      <td>NaN</td>\n",
              "      <td>NaN</td>\n",
              "      <td>NaN</td>\n",
              "    </tr>\n",
              "    <tr>\n",
              "      <th>534</th>\n",
              "      <td>82.92</td>\n",
              "      <td>Arabica</td>\n",
              "      <td>consejo salvadoreño del café</td>\n",
              "      <td>El Salvador</td>\n",
              "      <td>santa josefita</td>\n",
              "      <td>1-198</td>\n",
              "      <td>beneficio cuzcachapa</td>\n",
              "      <td>09-030-273</td>\n",
              "      <td>soc. coop. cuzcachapa de r.l.</td>\n",
              "      <td>1350</td>\n",
              "      <td>...</td>\n",
              "      <td>Green</td>\n",
              "      <td>1.0</td>\n",
              "      <td>August 28th, 2018</td>\n",
              "      <td>Salvadoran Coffee Council</td>\n",
              "      <td>3d4987e3b91399dbb3938b5bdf53893b6ef45be1</td>\n",
              "      <td>27b21e368fb8291cbea02c60623fe6c98f84524d</td>\n",
              "      <td>m</td>\n",
              "      <td>1350.0</td>\n",
              "      <td>1350.0</td>\n",
              "      <td>1350.0</td>\n",
              "    </tr>\n",
              "    <tr>\n",
              "      <th>801</th>\n",
              "      <td>82.00</td>\n",
              "      <td>Arabica</td>\n",
              "      <td>lin, che-hao krude 林哲豪</td>\n",
              "      <td>Taiwan</td>\n",
              "      <td>you siang coffee farmtainan, taiwan 台灣台南優香咖啡</td>\n",
              "      <td>None</td>\n",
              "      <td>you siang coffee farmtainan, taiwan 台灣台南優香咖啡</td>\n",
              "      <td>Taiwan</td>\n",
              "      <td>red on tree co., ltd.</td>\n",
              "      <td>600m</td>\n",
              "      <td>...</td>\n",
              "      <td>Green</td>\n",
              "      <td>0.0</td>\n",
              "      <td>July 22nd, 2015</td>\n",
              "      <td>Specialty Coffee Association</td>\n",
              "      <td>36d0d00a3724338ba7937c52a378d085f2172daa</td>\n",
              "      <td>0878a7d4b9d35ddbf0fe2ce69a2062cceb45a660</td>\n",
              "      <td>m</td>\n",
              "      <td>600.0</td>\n",
              "      <td>600.0</td>\n",
              "      <td>600.0</td>\n",
              "    </tr>\n",
              "    <tr>\n",
              "      <th>1068</th>\n",
              "      <td>80.50</td>\n",
              "      <td>Arabica</td>\n",
              "      <td>cqi taiwan icp cqi台灣合作夥伴</td>\n",
              "      <td>Taiwan</td>\n",
              "      <td>王秋金</td>\n",
              "      <td>1</td>\n",
              "      <td>non</td>\n",
              "      <td>None</td>\n",
              "      <td>王秋金</td>\n",
              "      <td>50</td>\n",
              "      <td>...</td>\n",
              "      <td>Blue-Green</td>\n",
              "      <td>0.0</td>\n",
              "      <td>December 8th, 2018</td>\n",
              "      <td>Blossom Valley International</td>\n",
              "      <td>fc45352eee499d8470cf94c9827922fb745bf815</td>\n",
              "      <td>de73fc9412358b523d3a641501e542f31d2668b0</td>\n",
              "      <td>m</td>\n",
              "      <td>50.0</td>\n",
              "      <td>50.0</td>\n",
              "      <td>50.0</td>\n",
              "    </tr>\n",
              "    <tr>\n",
              "      <th>1335</th>\n",
              "      <td>77.17</td>\n",
              "      <td>Robusta</td>\n",
              "      <td>james moore</td>\n",
              "      <td>United States</td>\n",
              "      <td>fazenda cazengo</td>\n",
              "      <td>None</td>\n",
              "      <td>cafe cazengo</td>\n",
              "      <td>None</td>\n",
              "      <td>global opportunity fund</td>\n",
              "      <td>795 meters</td>\n",
              "      <td>...</td>\n",
              "      <td>None</td>\n",
              "      <td>6.0</td>\n",
              "      <td>December 23rd, 2015</td>\n",
              "      <td>Specialty Coffee Association</td>\n",
              "      <td>ff7c18ad303d4b603ac3f8cff7e611ffc735e720</td>\n",
              "      <td>352d0cf7f3e9be14dad7df644ad65efc27605ae2</td>\n",
              "      <td>m</td>\n",
              "      <td>795.0</td>\n",
              "      <td>795.0</td>\n",
              "      <td>795.0</td>\n",
              "    </tr>\n",
              "  </tbody>\n",
              "</table>\n",
              "<p>6 rows × 43 columns</p>\n",
              "</div>"
            ],
            "text/plain": [
              "      total_cup_points  species                             owner  \\\n",
              "0                90.58  Arabica                         metad plc   \n",
              "267              83.92  Arabica  federacion nacional de cafeteros   \n",
              "534              82.92  Arabica      consejo salvadoreño del café   \n",
              "801              82.00  Arabica            lin, che-hao krude 林哲豪   \n",
              "1068             80.50  Arabica          cqi taiwan icp cqi台灣合作夥伴   \n",
              "1335             77.17  Robusta                       james moore   \n",
              "\n",
              "     country_of_origin                                     farm_name  \\\n",
              "0             Ethiopia                                     metad plc   \n",
              "267           Colombia                                          None   \n",
              "534        El Salvador                                santa josefita   \n",
              "801             Taiwan  you siang coffee farmtainan, taiwan 台灣台南優香咖啡   \n",
              "1068            Taiwan                                           王秋金   \n",
              "1335     United States                               fazenda cazengo   \n",
              "\n",
              "     lot_number                                          mill  ico_number  \\\n",
              "0          None                                     metad plc   2014/2015   \n",
              "267        None                                          None     01-1969   \n",
              "534       1-198                          beneficio cuzcachapa  09-030-273   \n",
              "801        None  you siang coffee farmtainan, taiwan 台灣台南優香咖啡      Taiwan   \n",
              "1068          1                                           non        None   \n",
              "1335       None                                  cafe cazengo        None   \n",
              "\n",
              "                                company    altitude  ...       color  \\\n",
              "0     metad agricultural developmet plc   1950-2200  ...       Green   \n",
              "267    federacion nacional de cafeteros        None  ...        None   \n",
              "534       soc. coop. cuzcachapa de r.l.        1350  ...       Green   \n",
              "801               red on tree co., ltd.        600m  ...       Green   \n",
              "1068                                王秋金          50  ...  Blue-Green   \n",
              "1335            global opportunity fund  795 meters  ...        None   \n",
              "\n",
              "     category_two_defects           expiration  \\\n",
              "0                     0.0      April 3rd, 2016   \n",
              "267                   1.0     March 11th, 2016   \n",
              "534                   1.0    August 28th, 2018   \n",
              "801                   0.0      July 22nd, 2015   \n",
              "1068                  0.0   December 8th, 2018   \n",
              "1335                  6.0  December 23rd, 2015   \n",
              "\n",
              "                      certification_body  \\\n",
              "0     METAD Agricultural Development plc   \n",
              "267                             Almacafé   \n",
              "534            Salvadoran Coffee Council   \n",
              "801         Specialty Coffee Association   \n",
              "1068        Blossom Valley International   \n",
              "1335        Specialty Coffee Association   \n",
              "\n",
              "                         certification_address  \\\n",
              "0     309fcf77415a3661ae83e027f7e5f05dad786e44   \n",
              "267   e493c36c2d076bf273064f7ac23ad562af257a25   \n",
              "534   3d4987e3b91399dbb3938b5bdf53893b6ef45be1   \n",
              "801   36d0d00a3724338ba7937c52a378d085f2172daa   \n",
              "1068  fc45352eee499d8470cf94c9827922fb745bf815   \n",
              "1335  ff7c18ad303d4b603ac3f8cff7e611ffc735e720   \n",
              "\n",
              "                         certification_contact unit_of_measurement  \\\n",
              "0     19fef5a731de2db57d16da10287413f5f99bc2dd                   m   \n",
              "267   70d3c0c26f89e00fdae6fb39ff54f0d2eb1c38ab                   m   \n",
              "534   27b21e368fb8291cbea02c60623fe6c98f84524d                   m   \n",
              "801   0878a7d4b9d35ddbf0fe2ce69a2062cceb45a660                   m   \n",
              "1068  de73fc9412358b523d3a641501e542f31d2668b0                   m   \n",
              "1335  352d0cf7f3e9be14dad7df644ad65efc27605ae2                   m   \n",
              "\n",
              "     altitude_low_meters altitude_high_meters altitude_mean_meters  \n",
              "0                 1950.0               2200.0               2075.0  \n",
              "267                  NaN                  NaN                  NaN  \n",
              "534               1350.0               1350.0               1350.0  \n",
              "801                600.0                600.0                600.0  \n",
              "1068                50.0                 50.0                 50.0  \n",
              "1335               795.0                795.0                795.0  \n",
              "\n",
              "[6 rows x 43 columns]"
            ]
          },
          "execution_count": 28,
          "metadata": {},
          "output_type": "execute_result"
        }
      ],
      "source": [
        "coffee_ratings.iloc[::interval]"
      ]
    },
    {
      "cell_type": "code",
      "execution_count": 29,
      "metadata": {},
      "outputs": [
        {
          "data": {
            "image/png": "[encoded data removed]",
            "text/plain": [
              "<Figure size 432x288 with 1 Axes>"
            ]
          },
          "metadata": {
            "needs_background": "light"
          },
          "output_type": "display_data"
        }
      ],
      "source": [
        "coffee_ratings_with_id = coffee_ratings.reset_index()\n",
        "coffee_ratings_with_id.plot(x ='index', y=\"aftertaste\", kind =\"scatter\")\n",
        "plt.show()"
      ]
    },
    {
      "cell_type": "code",
      "execution_count": 30,
      "metadata": {},
      "outputs": [
        {
          "data": {
            "image/png": "[encoded data removed]",
            "text/plain": [
              "<Figure size 432x288 with 1 Axes>"
            ]
          },
          "metadata": {
            "needs_background": "light"
          },
          "output_type": "display_data"
        }
      ],
      "source": [
        "shuffled = coffee_ratings.sample(frac = 1) #frac = 1, sample whole dataset\n",
        "shuffled = shuffled.reset_index(drop = True).reset_index()\n",
        "shuffled.plot(x ='index', y=\"aftertaste\", kind =\"scatter\")\n",
        "plt.show()"
      ]
    },
    {
      "cell_type": "code",
      "execution_count": 31,
      "metadata": {},
      "outputs": [
        {
          "name": "stdout",
          "output_type": "stream",
          "text": [
            "      Age  Attrition     BusinessTravel  DailyRate            Department  \\\n",
            "1134   35        0.0      Travel_Rarely        583  Research_Development   \n",
            "1150   52        0.0         Non-Travel        585                 Sales   \n",
            "531    33        0.0      Travel_Rarely        931  Research_Development   \n",
            "395    31        0.0      Travel_Rarely       1332  Research_Development   \n",
            "392    29        0.0      Travel_Rarely        942  Research_Development   \n",
            "...   ...        ...                ...        ...                   ...   \n",
            "361    27        0.0  Travel_Frequently       1410                 Sales   \n",
            "1180   36        0.0      Travel_Rarely        530                 Sales   \n",
            "230    26        0.0      Travel_Rarely       1443                 Sales   \n",
            "211    29        0.0  Travel_Frequently        410  Research_Development   \n",
            "890    30        0.0  Travel_Frequently       1312  Research_Development   \n",
            "\n",
            "      DistanceFromHome      Education    EducationField  \\\n",
            "1134                25         Master           Medical   \n",
            "1150                29         Master     Life_Sciences   \n",
            "531                 14       Bachelor           Medical   \n",
            "395                 11        College           Medical   \n",
            "392                 15  Below_College     Life_Sciences   \n",
            "...                ...            ...               ...   \n",
            "361                  3  Below_College           Medical   \n",
            "1180                 2         Master     Life_Sciences   \n",
            "230                 23       Bachelor         Marketing   \n",
            "211                  2  Below_College     Life_Sciences   \n",
            "890                  2         Master  Technical_Degree   \n",
            "\n",
            "     EnvironmentSatisfaction  Gender  ...  PerformanceRating  \\\n",
            "1134                    High  Female  ...          Excellent   \n",
            "1150                     Low    Male  ...          Excellent   \n",
            "531                Very_High  Female  ...          Excellent   \n",
            "395                     High    Male  ...          Excellent   \n",
            "392                   Medium  Female  ...          Excellent   \n",
            "...                      ...     ...  ...                ...   \n",
            "361                Very_High  Female  ...        Outstanding   \n",
            "1180                    High  Female  ...          Excellent   \n",
            "230                     High  Female  ...          Excellent   \n",
            "211                Very_High  Female  ...          Excellent   \n",
            "890                Very_High  Female  ...          Excellent   \n",
            "\n",
            "     RelationshipSatisfaction  StockOptionLevel TotalWorkingYears  \\\n",
            "1134                     High                 1                16   \n",
            "1150                   Medium                 2                16   \n",
            "531                 Very_High                 1                 8   \n",
            "395                 Very_High                 0                 6   \n",
            "392                       Low                 1                 6   \n",
            "...                       ...               ...               ...   \n",
            "361                    Medium                 2                 6   \n",
            "1180                     High                 0                17   \n",
            "230                      High                 1                 5   \n",
            "211                      High                 3                 4   \n",
            "890                 Very_High                 0                10   \n",
            "\n",
            "     TrainingTimesLastYear WorkLifeBalance  YearsAtCompany  \\\n",
            "1134                     3            Good              16   \n",
            "1150                     3            Good               9   \n",
            "531                      5          Better               8   \n",
            "395                      2            Good               6   \n",
            "392                      2            Good               5   \n",
            "...                    ...             ...             ...   \n",
            "361                      3          Better               6   \n",
            "1180                     2            Good              13   \n",
            "230                      2            Good               2   \n",
            "211                      3          Better               3   \n",
            "890                      2          Better               9   \n",
            "\n",
            "      YearsInCurrentRole  YearsSinceLastPromotion YearsWithCurrManager  \n",
            "1134                  10                       10                    1  \n",
            "1150                   8                        0                    0  \n",
            "531                    7                        1                    6  \n",
            "395                    5                        0                    1  \n",
            "392                    4                        1                    3  \n",
            "...                  ...                      ...                  ...  \n",
            "361                    5                        0                    4  \n",
            "1180                   7                        6                    7  \n",
            "230                    2                        0                    0  \n",
            "211                    2                        0                    2  \n",
            "890                    7                        0                    7  \n",
            "\n",
            "[70 rows x 31 columns]\n"
          ]
        }
      ],
      "source": [
        "# Sample 70 rows using simple random sampling and set the seed\n",
        "attrition_samp = attrition_pop.sample(n=70, random_state= 18900217)\n",
        "\n",
        "# Print the sample\n",
        "print(attrition_samp)"
      ]
    },
    {
      "cell_type": "code",
      "execution_count": 32,
      "metadata": {},
      "outputs": [
        {
          "data": {
            "image/png": "[encoded data removed]",
            "text/plain": [
              "<Figure size 432x288 with 1 Axes>"
            ]
          },
          "metadata": {
            "needs_background": "light"
          },
          "output_type": "display_data"
        }
      ],
      "source": [
        "# Shuffle the rows of attrition_pop\n",
        "attrition_shuffled = attrition_pop.sample(frac =1)\n",
        "\n",
        "# Reset the row indexes and create an index column\n",
        "attrition_shuffled = attrition_shuffled.reset_index(drop=True).reset_index()\n",
        "\n",
        "# Plot YearsAtCompany vs. index for attrition_shuffled\n",
        "attrition_shuffled.plot(x =\"index\",y=\"YearsAtCompany\", kind=\"scatter\")\n",
        "plt.show()"
      ]
    },
    {
      "cell_type": "code",
      "execution_count": 33,
      "metadata": {},
      "outputs": [
        {
          "data": {
            "text/plain": [
              "Mexico                    236\n",
              "Colombia                  183\n",
              "Guatemala                 181\n",
              "Brazil                    132\n",
              "Taiwan                     75\n",
              "United States (Hawaii)     73\n",
              "Name: country_of_origin, dtype: int64"
            ]
          },
          "execution_count": 33,
          "metadata": {},
          "output_type": "execute_result"
        }
      ],
      "source": [
        "top_counts = coffee_ratings['country_of_origin'].value_counts()\n",
        "top_counts.head(6)"
      ]
    },
    {
      "cell_type": "code",
      "execution_count": 34,
      "metadata": {},
      "outputs": [],
      "source": [
        "top_counted_countries = [\"Mexico\",\"Colombia\",\"Guatemala\",\"Brazil\",\"Taiwan\",\"United States (Hawaii)\"]\n",
        "\n",
        "top_counted_subset = coffee_ratings[\"country_of_origin\"].isin(top_counted_countries)\n",
        "\n",
        "coffee_ratings_top = coffee_ratings[top_counted_subset]"
      ]
    },
    {
      "cell_type": "code",
      "execution_count": 35,
      "metadata": {},
      "outputs": [
        {
          "data": {
            "text/plain": [
              "Mexico                    0.250000\n",
              "Guatemala                 0.204545\n",
              "Colombia                  0.181818\n",
              "Brazil                    0.181818\n",
              "United States (Hawaii)    0.102273\n",
              "Taiwan                    0.079545\n",
              "Name: country_of_origin, dtype: float64"
            ]
          },
          "execution_count": 35,
          "metadata": {},
          "output_type": "execute_result"
        }
      ],
      "source": [
        "#Counts of a simple random sample\n",
        "coffee_ratings_samp = coffee_ratings_top.sample(frac=0.1, random_state= 2021)\n",
        "\n",
        "coffee_ratings_samp['country_of_origin'].value_counts(normalize=True)"
      ]
    },
    {
      "cell_type": "code",
      "execution_count": 36,
      "metadata": {},
      "outputs": [],
      "source": [
        "# \\ break the longer chain of pandas code\n",
        "coffee_ratings_strat = coffee_ratings_top.groupby(\"country_of_origin\")\\\n",
        "    .sample(frac=0.1,random_state=2021)"
      ]
    },
    {
      "cell_type": "code",
      "execution_count": 37,
      "metadata": {},
      "outputs": [
        {
          "data": {
            "text/plain": [
              "Mexico                    0.272727\n",
              "Colombia                  0.204545\n",
              "Guatemala                 0.204545\n",
              "Brazil                    0.147727\n",
              "Taiwan                    0.090909\n",
              "United States (Hawaii)    0.079545\n",
              "Name: country_of_origin, dtype: float64"
            ]
          },
          "execution_count": 37,
          "metadata": {},
          "output_type": "execute_result"
        }
      ],
      "source": [
        "coffee_ratings_strat[\"country_of_origin\"].value_counts(normalize=True)"
      ]
    },
    {
      "cell_type": "code",
      "execution_count": 38,
      "metadata": {},
      "outputs": [],
      "source": [
        "coffee_ratings_eq = coffee_ratings_top.groupby(\"country_of_origin\")\\\n",
        ".sample(n=15, random_state=2021)"
      ]
    },
    {
      "cell_type": "code",
      "execution_count": 39,
      "metadata": {},
      "outputs": [
        {
          "data": {
            "text/plain": [
              "Brazil                    0.166667\n",
              "Colombia                  0.166667\n",
              "Guatemala                 0.166667\n",
              "Mexico                    0.166667\n",
              "Taiwan                    0.166667\n",
              "United States (Hawaii)    0.166667\n",
              "Name: country_of_origin, dtype: float64"
            ]
          },
          "execution_count": 39,
          "metadata": {},
          "output_type": "execute_result"
        }
      ],
      "source": [
        "coffee_ratings_eq['country_of_origin'].value_counts(normalize = True)"
      ]
    },
    {
      "cell_type": "code",
      "execution_count": 40,
      "metadata": {},
      "outputs": [],
      "source": [
        "coffee_ratings_weight = coffee_ratings_top\n",
        "condition = coffee_ratings_weight['country_of_origin'] == \"Taiwan\""
      ]
    },
    {
      "cell_type": "code",
      "execution_count": 41,
      "metadata": {},
      "outputs": [
        {
          "name": "stderr",
          "output_type": "stream",
          "text": [
            "C:\\Users\\ASUS\\AppData\\Local\\Temp\\ipykernel_24840\\1138710091.py:1: SettingWithCopyWarning: \n",
            "A value is trying to be set on a copy of a slice from a DataFrame.\n",
            "Try using .loc[row_indexer,col_indexer] = value instead\n",
            "\n",
            "See the caveats in the documentation: https://pandas.pydata.org/pandas-docs/stable/user_guide/indexing.html#returning-a-view-versus-a-copy\n",
            "  coffee_ratings_weight['weight'] = np.where(condition,2,1)\n"
          ]
        }
      ],
      "source": [
        "coffee_ratings_weight['weight'] = np.where(condition,2,1)"
      ]
    },
    {
      "cell_type": "code",
      "execution_count": 44,
      "metadata": {},
      "outputs": [
        {
          "data": {
            "text/plain": [
              "Taiwan    1.0\n",
              "Name: country_of_origin, dtype: float64"
            ]
          },
          "execution_count": 44,
          "metadata": {},
          "output_type": "execute_result"
        }
      ],
      "source": [
        "coffee_ratings_weight= coffee_ratings_weight.sample(frac=0.1,weights=\"weight\")#\"weight\" is column name not python code\n",
        "\n",
        "coffee_ratings_weight[\"country_of_origin\"].value_counts(normalize=True)"
      ]
    },
    {
      "cell_type": "code",
      "execution_count": 47,
      "metadata": {},
      "outputs": [
        {
          "name": "stdout",
          "output_type": "stream",
          "text": [
            "[None, 'Other', 'Bourbon', 'Catimor', 'Ethiopian Yirgacheffe', 'Caturra', 'SL14', 'Sumatra', 'SL34', 'Hawaiian Kona', 'Yellow Bourbon', 'SL28', 'Gesha', 'Catuai', 'Pacamara', 'Typica', 'Sumatra Lintong', 'Mundo Novo', 'Java', 'Peaberry', 'Pacas', 'Mandheling', 'Ruiru 11', 'Arusha', 'Ethiopian Heirlooms', 'Moka Peaberry', 'Sulawesi', 'Blue Mountain', 'Marigojipe', 'Pache Comun']\n"
          ]
        }
      ],
      "source": [
        "varieties_pop = list(coffee_ratings['variety'].unique())\n",
        "print(varieties_pop)"
      ]
    },
    {
      "cell_type": "code",
      "execution_count": 49,
      "metadata": {},
      "outputs": [],
      "source": [
        "import random\n",
        "varieties_samp = random.sample(varieties_pop, k=3)"
      ]
    }
  ],
  "metadata": {
    "colab": {
      "provenance": []
    },
    "kernelspec": {
      "display_name": "Python 3",
      "language": "python",
      "name": "python3"
    },
    "language_info": {
      "codemirror_mode": {
        "name": "ipython",
        "version": 3
      },
      "file_extension": ".py",
      "mimetype": "text/x-python",
      "name": "python",
      "nbconvert_exporter": "python",
      "pygments_lexer": "ipython3",
      "version": "3.9.9"
    },
    "vscode": {
      "interpreter": {
        "hash": "14958d3aee5f1cad06795f787e54b96185c25fb40dfec723a5be941f3a531b8c"
      }
    }
  },
  "nbformat": 4,
  "nbformat_minor": 0
}
